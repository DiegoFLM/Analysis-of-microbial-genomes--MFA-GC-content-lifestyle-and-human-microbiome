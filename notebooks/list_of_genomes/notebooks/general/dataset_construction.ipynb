{
 "cells": [
  {
   "cell_type": "code",
   "execution_count": 1,
   "metadata": {},
   "outputs": [],
   "source": [
    "import pandas as pd\n",
    "from pathlib import Path"
   ]
  },
  {
   "cell_type": "markdown",
   "metadata": {},
   "source": [
    "# Constants"
   ]
  },
  {
   "cell_type": "code",
   "execution_count": 2,
   "metadata": {},
   "outputs": [
    {
     "data": {
      "text/plain": [
       "True"
      ]
     },
     "execution_count": 2,
     "metadata": {},
     "output_type": "execute_result"
    }
   ],
   "source": [
    "PATH_DATA = Path.cwd().parent.parent.parent.parent / 'data'\n",
    "PATH_DATA.exists()"
   ]
  },
  {
   "cell_type": "code",
   "execution_count": 3,
   "metadata": {},
   "outputs": [
    {
     "data": {
      "text/plain": [
       "True"
      ]
     },
     "execution_count": 3,
     "metadata": {},
     "output_type": "execute_result"
    }
   ],
   "source": [
    "PATH_SCRAPED = PATH_DATA / 'raw' / 'scraped'\n",
    "PATH_SCRAPED.exists()"
   ]
  },
  {
   "cell_type": "markdown",
   "metadata": {},
   "source": [
    "# Data Extraction"
   ]
  },
  {
   "cell_type": "code",
   "execution_count": 4,
   "metadata": {},
   "outputs": [
    {
     "name": "stdout",
     "output_type": "stream",
     "text": [
      "bacteria_text_files_0_15000.json\n",
      "urls_bacteria_organisms.txt\n",
      "archaea_text_files.json\n",
      "test.json\n",
      "bacteria_text_files_30000_49760.json\n",
      "bacteria_text_files_15000_30000.json\n",
      "bacteria_text_files_sep23.json\n"
     ]
    }
   ],
   "source": [
    "files = PATH_SCRAPED.glob('*')\n",
    "for file in files:\n",
    "    print(file.name)"
   ]
  },
  {
   "cell_type": "code",
   "execution_count": 5,
   "metadata": {},
   "outputs": [
    {
     "name": "stdout",
     "output_type": "stream",
     "text": [
      "(2415, 5)\n"
     ]
    },
    {
     "data": {
      "text/html": [
       "<div>\n",
       "<style scoped>\n",
       "    .dataframe tbody tr th:only-of-type {\n",
       "        vertical-align: middle;\n",
       "    }\n",
       "\n",
       "    .dataframe tbody tr th {\n",
       "        vertical-align: top;\n",
       "    }\n",
       "\n",
       "    .dataframe thead th {\n",
       "        text-align: right;\n",
       "    }\n",
       "</style>\n",
       "<table border=\"1\" class=\"dataframe\">\n",
       "  <thead>\n",
       "    <tr style=\"text-align: right;\">\n",
       "      <th></th>\n",
       "      <th>organism</th>\n",
       "      <th>type</th>\n",
       "      <th>url</th>\n",
       "      <th>filename</th>\n",
       "      <th>content</th>\n",
       "    </tr>\n",
       "  </thead>\n",
       "  <tbody>\n",
       "    <tr>\n",
       "      <th>0</th>\n",
       "      <td>ANME-2_cluster_archaeon_HR1</td>\n",
       "      <td>archaea</td>\n",
       "      <td>https://ftp.ncbi.nlm.nih.gov/genomes/refseq/ar...</td>\n",
       "      <td>assembly_summary_historical.txt</td>\n",
       "      <td>##  See ftp://ftp.ncbi.nlm.nih.gov/genomes/REA...</td>\n",
       "    </tr>\n",
       "    <tr>\n",
       "      <th>1</th>\n",
       "      <td>ANME-2_cluster_archaeon_HR1</td>\n",
       "      <td>archaea</td>\n",
       "      <td>https://ftp.ncbi.nlm.nih.gov/genomes/refseq/ar...</td>\n",
       "      <td>annotation_hashes.txt</td>\n",
       "      <td># Assembly accession\\tDescriptors hash\\tDescri...</td>\n",
       "    </tr>\n",
       "    <tr>\n",
       "      <th>2</th>\n",
       "      <td>Acidianus_brierleyi</td>\n",
       "      <td>archaea</td>\n",
       "      <td>https://ftp.ncbi.nlm.nih.gov/genomes/refseq/ar...</td>\n",
       "      <td>assembly_summary_historical.txt</td>\n",
       "      <td>##  See ftp://ftp.ncbi.nlm.nih.gov/genomes/REA...</td>\n",
       "    </tr>\n",
       "    <tr>\n",
       "      <th>3</th>\n",
       "      <td>Acidianus_brierleyi</td>\n",
       "      <td>archaea</td>\n",
       "      <td>https://ftp.ncbi.nlm.nih.gov/genomes/refseq/ar...</td>\n",
       "      <td>assembly_summary.txt</td>\n",
       "      <td>##  See ftp://ftp.ncbi.nlm.nih.gov/genomes/REA...</td>\n",
       "    </tr>\n",
       "    <tr>\n",
       "      <th>4</th>\n",
       "      <td>Acidianus_ambivalens</td>\n",
       "      <td>archaea</td>\n",
       "      <td>https://ftp.ncbi.nlm.nih.gov/genomes/refseq/ar...</td>\n",
       "      <td>assembly_summary.txt</td>\n",
       "      <td>##  See ftp://ftp.ncbi.nlm.nih.gov/genomes/REA...</td>\n",
       "    </tr>\n",
       "  </tbody>\n",
       "</table>\n",
       "</div>"
      ],
      "text/plain": [
       "                      organism     type   \n",
       "0  ANME-2_cluster_archaeon_HR1  archaea  \\\n",
       "1  ANME-2_cluster_archaeon_HR1  archaea   \n",
       "2          Acidianus_brierleyi  archaea   \n",
       "3          Acidianus_brierleyi  archaea   \n",
       "4         Acidianus_ambivalens  archaea   \n",
       "\n",
       "                                                 url   \n",
       "0  https://ftp.ncbi.nlm.nih.gov/genomes/refseq/ar...  \\\n",
       "1  https://ftp.ncbi.nlm.nih.gov/genomes/refseq/ar...   \n",
       "2  https://ftp.ncbi.nlm.nih.gov/genomes/refseq/ar...   \n",
       "3  https://ftp.ncbi.nlm.nih.gov/genomes/refseq/ar...   \n",
       "4  https://ftp.ncbi.nlm.nih.gov/genomes/refseq/ar...   \n",
       "\n",
       "                          filename   \n",
       "0  assembly_summary_historical.txt  \\\n",
       "1            annotation_hashes.txt   \n",
       "2  assembly_summary_historical.txt   \n",
       "3             assembly_summary.txt   \n",
       "4             assembly_summary.txt   \n",
       "\n",
       "                                             content  \n",
       "0  ##  See ftp://ftp.ncbi.nlm.nih.gov/genomes/REA...  \n",
       "1  # Assembly accession\\tDescriptors hash\\tDescri...  \n",
       "2  ##  See ftp://ftp.ncbi.nlm.nih.gov/genomes/REA...  \n",
       "3  ##  See ftp://ftp.ncbi.nlm.nih.gov/genomes/REA...  \n",
       "4  ##  See ftp://ftp.ncbi.nlm.nih.gov/genomes/REA...  "
      ]
     },
     "execution_count": 5,
     "metadata": {},
     "output_type": "execute_result"
    }
   ],
   "source": [
    "df_organisms = pd.read_json(PATH_SCRAPED / 'archaea_text_files.json')\n",
    "df_organisms['type'] = 'archaea'\n",
    "df_organisms = df_organisms[['organism', 'type', 'url', 'filename', 'content']]\n",
    "print(df_organisms.shape)\n",
    "df_organisms.head()"
   ]
  },
  {
   "cell_type": "markdown",
   "metadata": {},
   "source": [
    "# Text processing of 'content'"
   ]
  },
  {
   "cell_type": "code",
   "execution_count": 6,
   "metadata": {},
   "outputs": [
    {
     "data": {
      "text/plain": [
       "filename\n",
       "annotation_hashes.txt              1156\n",
       "assembly_summary.txt               1032\n",
       "assembly_summary_historical.txt     227\n",
       "Name: count, dtype: int64"
      ]
     },
     "execution_count": 6,
     "metadata": {},
     "output_type": "execute_result"
    }
   ],
   "source": [
    "df_organisms['filename'].value_counts()"
   ]
  },
  {
   "cell_type": "markdown",
   "metadata": {},
   "source": [
    "## get_series_from_text()"
   ]
  },
  {
   "cell_type": "code",
   "execution_count": 7,
   "metadata": {},
   "outputs": [],
   "source": [
    "def get_series_from_text(text_line, columns):\n",
    "    values = text_line.split('\\n')[1].split('\\t')\n",
    "    return pd.Series(values, index=columns)"
   ]
  },
  {
   "cell_type": "markdown",
   "metadata": {},
   "source": [
    "## annotation_hashes.txt"
   ]
  },
  {
   "cell_type": "code",
   "execution_count": 8,
   "metadata": {},
   "outputs": [
    {
     "name": "stdout",
     "output_type": "stream",
     "text": [
      "# Assembly accession\tDescriptors hash\tDescriptors last changed\tFeatures hash\tFeatures last changed\tLocations hash\tLocations last change\tProtein names hash\tProtein names last changed\n",
      "GCF_002926195.1\t8CA404B5F60C119A2C43EC4AF02195FA\t2018/02/17 15:37:00\tE217B9860CC56B81BE5B665501BC7CCA\t2018/02/17 15:37:00\t73B928E31BFB3E085715F26DF60C1D87\t2018/02/17 15:37:00\t3090555A37745BC2AE0AA911A8EE7A11\t2018/02/17 15:37:00\n",
      "\n"
     ]
    }
   ],
   "source": [
    "annotation_hashes_0 = df_organisms[ df_organisms['filename'] == 'annotation_hashes.txt' ].iloc[0,:]['content']\n",
    "print(annotation_hashes_0)"
   ]
  },
  {
   "cell_type": "code",
   "execution_count": 9,
   "metadata": {},
   "outputs": [
    {
     "data": {
      "text/plain": [
       "['# Assembly accession',\n",
       " 'Descriptors hash',\n",
       " 'Descriptors last changed',\n",
       " 'Features hash',\n",
       " 'Features last changed',\n",
       " 'Locations hash',\n",
       " 'Locations last change',\n",
       " 'Protein names hash',\n",
       " 'Protein names last changed']"
      ]
     },
     "execution_count": 9,
     "metadata": {},
     "output_type": "execute_result"
    }
   ],
   "source": [
    "columns_annotation_hashes = annotation_hashes_0.strip().split('\\n')[0].split('\\t')\n",
    "columns_annotation_hashes"
   ]
  },
  {
   "cell_type": "code",
   "execution_count": 10,
   "metadata": {},
   "outputs": [
    {
     "name": "stdout",
     "output_type": "stream",
     "text": [
      "(1156, 9)\n"
     ]
    },
    {
     "data": {
      "text/html": [
       "<div>\n",
       "<style scoped>\n",
       "    .dataframe tbody tr th:only-of-type {\n",
       "        vertical-align: middle;\n",
       "    }\n",
       "\n",
       "    .dataframe tbody tr th {\n",
       "        vertical-align: top;\n",
       "    }\n",
       "\n",
       "    .dataframe thead th {\n",
       "        text-align: right;\n",
       "    }\n",
       "</style>\n",
       "<table border=\"1\" class=\"dataframe\">\n",
       "  <thead>\n",
       "    <tr style=\"text-align: right;\">\n",
       "      <th></th>\n",
       "      <th># Assembly accession</th>\n",
       "      <th>Descriptors hash</th>\n",
       "      <th>Descriptors last changed</th>\n",
       "      <th>Features hash</th>\n",
       "      <th>Features last changed</th>\n",
       "      <th>Locations hash</th>\n",
       "      <th>Locations last change</th>\n",
       "      <th>Protein names hash</th>\n",
       "      <th>Protein names last changed</th>\n",
       "    </tr>\n",
       "  </thead>\n",
       "  <tbody>\n",
       "    <tr>\n",
       "      <th>1</th>\n",
       "      <td>GCF_002926195.1</td>\n",
       "      <td>8CA404B5F60C119A2C43EC4AF02195FA</td>\n",
       "      <td>2018/02/17 15:37:00</td>\n",
       "      <td>E217B9860CC56B81BE5B665501BC7CCA</td>\n",
       "      <td>2018/02/17 15:37:00</td>\n",
       "      <td>73B928E31BFB3E085715F26DF60C1D87</td>\n",
       "      <td>2018/02/17 15:37:00</td>\n",
       "      <td>3090555A37745BC2AE0AA911A8EE7A11</td>\n",
       "      <td>2018/02/17 15:37:00</td>\n",
       "    </tr>\n",
       "    <tr>\n",
       "      <th>5</th>\n",
       "      <td>GCF_009428885.1</td>\n",
       "      <td>13930A0174316BD1CD10ABBFB23D5C85</td>\n",
       "      <td>2023/06/10 14:29:00</td>\n",
       "      <td>89FE920552570CEE9B680F2121649608</td>\n",
       "      <td>2023/06/10 14:29:00</td>\n",
       "      <td>E6989F1E613B47E058D4C56C91375B57</td>\n",
       "      <td>2023/06/10 14:29:00</td>\n",
       "      <td>5BD3024B511FE600FD251C6762E26ACE</td>\n",
       "      <td>2023/06/10 14:29:00</td>\n",
       "    </tr>\n",
       "    <tr>\n",
       "      <th>9</th>\n",
       "      <td>GCF_009729545.1</td>\n",
       "      <td>F9F4D6141230C3A24706E462E21DE384</td>\n",
       "      <td>2023/05/05 17:16:00</td>\n",
       "      <td>E776E7A4A2176E9A32DD529BE26BB43E</td>\n",
       "      <td>2023/05/05 17:16:00</td>\n",
       "      <td>46E8238E890DCB56638BCB199533C7EF</td>\n",
       "      <td>2023/05/05 17:16:00</td>\n",
       "      <td>195A586CC83988DFA2A1391902296EC8</td>\n",
       "      <td>2023/05/05 17:16:00</td>\n",
       "    </tr>\n",
       "    <tr>\n",
       "      <th>12</th>\n",
       "      <td>GCF_003201765.1</td>\n",
       "      <td>7CA82B923A7B171FE4E12201E27517F0</td>\n",
       "      <td>2020/03/04 08:42:00</td>\n",
       "      <td>439477814832DD76BC0F9B67B4B33390</td>\n",
       "      <td>2020/03/04 08:42:00</td>\n",
       "      <td>57A12108007B9BA52A11BBA5DAD61FDC</td>\n",
       "      <td>2020/03/04 08:42:00</td>\n",
       "      <td>3DDB6D6A809477EFB8FB674F5B3D8E35</td>\n",
       "      <td>2020/03/04 08:42:00</td>\n",
       "    </tr>\n",
       "    <tr>\n",
       "      <th>15</th>\n",
       "      <td>GCF_027368325.1</td>\n",
       "      <td>6CFE27813E8637618B3809BCD250F7E0</td>\n",
       "      <td>2023/06/28 03:30:00</td>\n",
       "      <td>0671178CE7CA897EF900FAE0E2F5FC69</td>\n",
       "      <td>2023/06/28 03:30:00</td>\n",
       "      <td>F473815B859A604BF56ECA6AAE0E93B0</td>\n",
       "      <td>2023/06/28 03:30:00</td>\n",
       "      <td>BE7837986B420BAB3E7E18D5DC7A9810</td>\n",
       "      <td>2023/06/28 03:30:00</td>\n",
       "    </tr>\n",
       "    <tr>\n",
       "      <th>17</th>\n",
       "      <td>GCF_001399695.1</td>\n",
       "      <td>C8880AA472B7757F32C952A0418E9677</td>\n",
       "      <td>2022/12/19 01:34:00</td>\n",
       "      <td>69B4C00C4468C45AC4FE9E50B101A3C3</td>\n",
       "      <td>2022/12/19 01:34:00</td>\n",
       "      <td>1E046751993205F1B8715F342F9F7A07</td>\n",
       "      <td>2022/12/19 01:34:00</td>\n",
       "      <td>7082CCA6DC27D73E8C04D58EF883AE53</td>\n",
       "      <td>2022/12/19 01:34:00</td>\n",
       "    </tr>\n",
       "    <tr>\n",
       "      <th>22</th>\n",
       "      <td>GCF_004323575.1</td>\n",
       "      <td>5D64420AD2C5A2892F251175542F31BD</td>\n",
       "      <td>2023/09/21 07:03:00</td>\n",
       "      <td>ECFBDDE57592B655AC7E8B3A0C6965BB</td>\n",
       "      <td>2023/08/28 10:00:00</td>\n",
       "      <td>BDE09A08829F3D9CB145DD73F9676AF0</td>\n",
       "      <td>2023/08/28 10:00:00</td>\n",
       "      <td>C8812D72330253DE1CB1043CCC4A1DE5</td>\n",
       "      <td>2023/09/21 07:03:00</td>\n",
       "    </tr>\n",
       "    <tr>\n",
       "      <th>24</th>\n",
       "      <td>GCF_000380685.1</td>\n",
       "      <td>FDBE5F11F3C29E56076B3D7B6B6E30E5</td>\n",
       "      <td>2015/03/19 01:36:00</td>\n",
       "      <td>94299E36DDB6A7EEF2404E13F3C04FE5</td>\n",
       "      <td>2014/11/05 21:36:00</td>\n",
       "      <td>0D62517DAA457AF386F7EBC484E25DD3</td>\n",
       "      <td>2014/11/05 21:36:00</td>\n",
       "      <td></td>\n",
       "      <td></td>\n",
       "    </tr>\n",
       "    <tr>\n",
       "      <th>25</th>\n",
       "      <td>GCF_000398585.1</td>\n",
       "      <td>0CB89F35F6C7F4B8F17E97BCF431B957</td>\n",
       "      <td>2015/03/19 01:38:00</td>\n",
       "      <td>879CC168130901B3DF04627D61E3AD44</td>\n",
       "      <td>2014/11/05 21:42:00</td>\n",
       "      <td>5CC54E2EA5DAF6D825983CE283EBCE32</td>\n",
       "      <td>2014/11/05 21:42:00</td>\n",
       "      <td></td>\n",
       "      <td></td>\n",
       "    </tr>\n",
       "    <tr>\n",
       "      <th>26</th>\n",
       "      <td>GCF_000398565.1</td>\n",
       "      <td>2DD1DBBC88E2AE046BCCD15FF79D83F9</td>\n",
       "      <td>2015/03/24 17:40:00</td>\n",
       "      <td>28A781DF295025AC410048FB36E0A5AA</td>\n",
       "      <td>2014/11/05 21:42:00</td>\n",
       "      <td>60C75F8709EFE75CDC363B2C19C0435E</td>\n",
       "      <td>2014/11/05 21:42:00</td>\n",
       "      <td></td>\n",
       "      <td></td>\n",
       "    </tr>\n",
       "  </tbody>\n",
       "</table>\n",
       "</div>"
      ],
      "text/plain": [
       "   # Assembly accession                  Descriptors hash   \n",
       "1       GCF_002926195.1  8CA404B5F60C119A2C43EC4AF02195FA  \\\n",
       "5       GCF_009428885.1  13930A0174316BD1CD10ABBFB23D5C85   \n",
       "9       GCF_009729545.1  F9F4D6141230C3A24706E462E21DE384   \n",
       "12      GCF_003201765.1  7CA82B923A7B171FE4E12201E27517F0   \n",
       "15      GCF_027368325.1  6CFE27813E8637618B3809BCD250F7E0   \n",
       "17      GCF_001399695.1  C8880AA472B7757F32C952A0418E9677   \n",
       "22      GCF_004323575.1  5D64420AD2C5A2892F251175542F31BD   \n",
       "24      GCF_000380685.1  FDBE5F11F3C29E56076B3D7B6B6E30E5   \n",
       "25      GCF_000398585.1  0CB89F35F6C7F4B8F17E97BCF431B957   \n",
       "26      GCF_000398565.1  2DD1DBBC88E2AE046BCCD15FF79D83F9   \n",
       "\n",
       "   Descriptors last changed                     Features hash   \n",
       "1       2018/02/17 15:37:00  E217B9860CC56B81BE5B665501BC7CCA  \\\n",
       "5       2023/06/10 14:29:00  89FE920552570CEE9B680F2121649608   \n",
       "9       2023/05/05 17:16:00  E776E7A4A2176E9A32DD529BE26BB43E   \n",
       "12      2020/03/04 08:42:00  439477814832DD76BC0F9B67B4B33390   \n",
       "15      2023/06/28 03:30:00  0671178CE7CA897EF900FAE0E2F5FC69   \n",
       "17      2022/12/19 01:34:00  69B4C00C4468C45AC4FE9E50B101A3C3   \n",
       "22      2023/09/21 07:03:00  ECFBDDE57592B655AC7E8B3A0C6965BB   \n",
       "24      2015/03/19 01:36:00  94299E36DDB6A7EEF2404E13F3C04FE5   \n",
       "25      2015/03/19 01:38:00  879CC168130901B3DF04627D61E3AD44   \n",
       "26      2015/03/24 17:40:00  28A781DF295025AC410048FB36E0A5AA   \n",
       "\n",
       "   Features last changed                    Locations hash   \n",
       "1    2018/02/17 15:37:00  73B928E31BFB3E085715F26DF60C1D87  \\\n",
       "5    2023/06/10 14:29:00  E6989F1E613B47E058D4C56C91375B57   \n",
       "9    2023/05/05 17:16:00  46E8238E890DCB56638BCB199533C7EF   \n",
       "12   2020/03/04 08:42:00  57A12108007B9BA52A11BBA5DAD61FDC   \n",
       "15   2023/06/28 03:30:00  F473815B859A604BF56ECA6AAE0E93B0   \n",
       "17   2022/12/19 01:34:00  1E046751993205F1B8715F342F9F7A07   \n",
       "22   2023/08/28 10:00:00  BDE09A08829F3D9CB145DD73F9676AF0   \n",
       "24   2014/11/05 21:36:00  0D62517DAA457AF386F7EBC484E25DD3   \n",
       "25   2014/11/05 21:42:00  5CC54E2EA5DAF6D825983CE283EBCE32   \n",
       "26   2014/11/05 21:42:00  60C75F8709EFE75CDC363B2C19C0435E   \n",
       "\n",
       "   Locations last change                Protein names hash   \n",
       "1    2018/02/17 15:37:00  3090555A37745BC2AE0AA911A8EE7A11  \\\n",
       "5    2023/06/10 14:29:00  5BD3024B511FE600FD251C6762E26ACE   \n",
       "9    2023/05/05 17:16:00  195A586CC83988DFA2A1391902296EC8   \n",
       "12   2020/03/04 08:42:00  3DDB6D6A809477EFB8FB674F5B3D8E35   \n",
       "15   2023/06/28 03:30:00  BE7837986B420BAB3E7E18D5DC7A9810   \n",
       "17   2022/12/19 01:34:00  7082CCA6DC27D73E8C04D58EF883AE53   \n",
       "22   2023/08/28 10:00:00  C8812D72330253DE1CB1043CCC4A1DE5   \n",
       "24   2014/11/05 21:36:00                                     \n",
       "25   2014/11/05 21:42:00                                     \n",
       "26   2014/11/05 21:42:00                                     \n",
       "\n",
       "   Protein names last changed  \n",
       "1         2018/02/17 15:37:00  \n",
       "5         2023/06/10 14:29:00  \n",
       "9         2023/05/05 17:16:00  \n",
       "12        2020/03/04 08:42:00  \n",
       "15        2023/06/28 03:30:00  \n",
       "17        2022/12/19 01:34:00  \n",
       "22        2023/09/21 07:03:00  \n",
       "24                             \n",
       "25                             \n",
       "26                             "
      ]
     },
     "execution_count": 10,
     "metadata": {},
     "output_type": "execute_result"
    }
   ],
   "source": [
    "df_org_annotation_hashes = df_organisms[ df_organisms['filename'] == 'annotation_hashes.txt' ]\n",
    "df_annotation_hashes = pd.DataFrame(columns=columns_annotation_hashes)\n",
    "df_annotation_hashes = pd.concat([df_annotation_hashes, df_org_annotation_hashes['content']\\\n",
    "                                  .apply(lambda x: get_series_from_text(x, columns_annotation_hashes))])\n",
    "print(df_annotation_hashes.shape)\n",
    "df_annotation_hashes.head(10)"
   ]
  },
  {
   "cell_type": "markdown",
   "metadata": {},
   "source": [
    "## assembly_summary.txt"
   ]
  },
  {
   "cell_type": "code",
   "execution_count": 11,
   "metadata": {},
   "outputs": [
    {
     "name": "stdout",
     "output_type": "stream",
     "text": [
      "##  See ftp://ftp.ncbi.nlm.nih.gov/genomes/README_assembly_summary.txt for a description of the columns in this file.\n",
      "#assembly_accession\tbioproject\tbiosample\twgs_master\trefseq_category\ttaxid\tspecies_taxid\torganism_name\tinfraspecific_name\tisolate\tversion_status\tassembly_level\trelease_type\tgenome_rep\tseq_rel_date\tasm_name\tasm_submitter\tgbrs_paired_asm\tpaired_asm_comp\tftp_path\texcluded_from_refseq\trelation_to_type_material\tasm_not_live_date\tassembly_type\tgroup\tgenome_size\tgenome_size_ungapped\tgc_percent\treplicon_count\tscaffold_count\tcontig_count\tannotation_provider\tannotation_name\tannotation_date\ttotal_gene_count\tprotein_coding_gene_count\tnon_coding_gene_count\tpubmed_id\n",
      "GCF_003201835.2\tPRJNA224116\tSAMN09071529\tna\trepresentative genome\t41673\t41673\tAcidianus brierleyi\tstrain=DSM 1651\tna\tlatest\tComplete Genome\tMajor\tFull\t2020/03/10\tASM320183v2\tNorth Carolina State University\tGCA_003201835.2\tidentical\thttps://ftp.ncbi.nlm.nih.gov/genomes/all/GCF/003/201/835/GCF_003201835.2_ASM320183v2\tna\tassembly from type material\tna\thaploid\tarchaea\t2947244\t2947244\t31.5\t1\t1\t1\tNCBI RefSeq\tNCBI Prokaryotic Genome Annotation Pipeline (PGAP)\t06/11/23\t3201\t3031\t51\tna\n",
      "\n"
     ]
    }
   ],
   "source": [
    "assembly_summary_0 = df_organisms[ df_organisms['filename'] == 'assembly_summary.txt' ].iloc[0,:]['content']\n",
    "print(assembly_summary_0)"
   ]
  },
  {
   "cell_type": "code",
   "execution_count": 19,
   "metadata": {},
   "outputs": [
    {
     "name": "stdout",
     "output_type": "stream",
     "text": [
      "38\n"
     ]
    },
    {
     "data": {
      "text/plain": [
       "['#assembly_accession',\n",
       " 'bioproject',\n",
       " 'biosample',\n",
       " 'wgs_master',\n",
       " 'refseq_category',\n",
       " 'taxid',\n",
       " 'species_taxid',\n",
       " 'organism_name',\n",
       " 'infraspecific_name',\n",
       " 'isolate',\n",
       " 'version_status',\n",
       " 'assembly_level',\n",
       " 'release_type',\n",
       " 'genome_rep',\n",
       " 'seq_rel_date',\n",
       " 'asm_name',\n",
       " 'asm_submitter',\n",
       " 'gbrs_paired_asm',\n",
       " 'paired_asm_comp',\n",
       " 'ftp_path',\n",
       " 'excluded_from_refseq',\n",
       " 'relation_to_type_material',\n",
       " 'asm_not_live_date',\n",
       " 'assembly_type',\n",
       " 'group',\n",
       " 'genome_size',\n",
       " 'genome_size_ungapped',\n",
       " 'gc_percent',\n",
       " 'replicon_count',\n",
       " 'scaffold_count',\n",
       " 'contig_count',\n",
       " 'annotation_provider',\n",
       " 'annotation_name',\n",
       " 'annotation_date',\n",
       " 'total_gene_count',\n",
       " 'protein_coding_gene_count',\n",
       " 'non_coding_gene_count',\n",
       " 'pubmed_id']"
      ]
     },
     "execution_count": 19,
     "metadata": {},
     "output_type": "execute_result"
    }
   ],
   "source": [
    "columns_assembly_summary = assembly_summary_0.strip().split('\\n')[1].split('\\t')\n",
    "print(len(columns_assembly_summary))\n",
    "columns_assembly_summary"
   ]
  },
  {
   "cell_type": "code",
   "execution_count": 25,
   "metadata": {},
   "outputs": [
    {
     "data": {
      "text/plain": [
       "'#assembly_accession\\tbioproject\\tbiosample\\twgs_master\\trefseq_category\\ttaxid\\tspecies_taxid\\torganism_name\\tinfraspecific_name\\tisolate\\tversion_status\\tassembly_level\\trelease_type\\tgenome_rep\\tseq_rel_date\\tasm_name\\tasm_submitter\\tgbrs_paired_asm\\tpaired_asm_comp\\tftp_path\\texcluded_from_refseq\\trelation_to_type_material\\tasm_not_live_date\\tassembly_type\\tgroup\\tgenome_size\\tgenome_size_ungapped\\tgc_percent\\treplicon_count\\tscaffold_count\\tcontig_count\\tannotation_provider\\tannotation_name\\tannotation_date\\ttotal_gene_count\\tprotein_coding_gene_count\\tnon_coding_gene_count\\tpubmed_id'"
      ]
     },
     "execution_count": 25,
     "metadata": {},
     "output_type": "execute_result"
    }
   ],
   "source": [
    "'\\t'.join(columns_assembly_summary)"
   ]
  },
  {
   "cell_type": "code",
   "execution_count": 22,
   "metadata": {},
   "outputs": [
    {
     "name": "stderr",
     "output_type": "stream",
     "text": [
      "/tmp/ipykernel_6872/2813579733.py:2: SettingWithCopyWarning: \n",
      "A value is trying to be set on a copy of a slice from a DataFrame.\n",
      "Try using .loc[row_indexer,col_indexer] = value instead\n",
      "\n",
      "See the caveats in the documentation: https://pandas.pydata.org/pandas-docs/stable/user_guide/indexing.html#returning-a-view-versus-a-copy\n",
      "  df_org_assembly_summary['content'] = df_org_assembly_summary['content'].\\\n"
     ]
    },
    {
     "ename": "IndexError",
     "evalue": "list index out of range",
     "output_type": "error",
     "traceback": [
      "\u001b[0;31m---------------------------------------------------------------------------\u001b[0m",
      "\u001b[0;31mIndexError\u001b[0m                                Traceback (most recent call last)",
      "\u001b[1;32m/home/diegoflm/Documents/UV/courses_and_subjects/final_year_proyect/project/data_and_notebooks/list_of_genomes/notebooks/general/dataset_construction.ipynb Cell 19\u001b[0m line \u001b[0;36m6\n\u001b[1;32m      <a href='vscode-notebook-cell:/home/diegoflm/Documents/UV/courses_and_subjects/final_year_proyect/project/data_and_notebooks/list_of_genomes/notebooks/general/dataset_construction.ipynb#X42sZmlsZQ%3D%3D?line=1'>2</a>\u001b[0m df_org_assembly_summary[\u001b[39m'\u001b[39m\u001b[39mcontent\u001b[39m\u001b[39m'\u001b[39m] \u001b[39m=\u001b[39m df_org_assembly_summary[\u001b[39m'\u001b[39m\u001b[39mcontent\u001b[39m\u001b[39m'\u001b[39m]\u001b[39m.\u001b[39m\\\n\u001b[1;32m      <a href='vscode-notebook-cell:/home/diegoflm/Documents/UV/courses_and_subjects/final_year_proyect/project/data_and_notebooks/list_of_genomes/notebooks/general/dataset_construction.ipynb#X42sZmlsZQ%3D%3D?line=2'>3</a>\u001b[0m     apply(\u001b[39mlambda\u001b[39;00m x: \u001b[39m'\u001b[39m\u001b[39m\\t\u001b[39;00m\u001b[39m'\u001b[39m\u001b[39m.\u001b[39mjoin(x\u001b[39m.\u001b[39msplit(\u001b[39m'\u001b[39m\u001b[39m\\n\u001b[39;00m\u001b[39m'\u001b[39m)[\u001b[39m1\u001b[39m:]))\n\u001b[1;32m      <a href='vscode-notebook-cell:/home/diegoflm/Documents/UV/courses_and_subjects/final_year_proyect/project/data_and_notebooks/list_of_genomes/notebooks/general/dataset_construction.ipynb#X42sZmlsZQ%3D%3D?line=3'>4</a>\u001b[0m df_assembly_summary \u001b[39m=\u001b[39m pd\u001b[39m.\u001b[39mDataFrame(columns\u001b[39m=\u001b[39mcolumns_assembly_summary)\n\u001b[1;32m      <a href='vscode-notebook-cell:/home/diegoflm/Documents/UV/courses_and_subjects/final_year_proyect/project/data_and_notebooks/list_of_genomes/notebooks/general/dataset_construction.ipynb#X42sZmlsZQ%3D%3D?line=4'>5</a>\u001b[0m df_assembly_summary \u001b[39m=\u001b[39m pd\u001b[39m.\u001b[39mconcat([df_assembly_summary, df_org_assembly_summary[\u001b[39m'\u001b[39;49m\u001b[39mcontent\u001b[39;49m\u001b[39m'\u001b[39;49m]\\\n\u001b[0;32m----> <a href='vscode-notebook-cell:/home/diegoflm/Documents/UV/courses_and_subjects/final_year_proyect/project/data_and_notebooks/list_of_genomes/notebooks/general/dataset_construction.ipynb#X42sZmlsZQ%3D%3D?line=5'>6</a>\u001b[0m                                   \u001b[39m.\u001b[39;49mapply(\u001b[39mlambda\u001b[39;49;00m x: get_series_from_text(x, \n\u001b[1;32m      <a href='vscode-notebook-cell:/home/diegoflm/Documents/UV/courses_and_subjects/final_year_proyect/project/data_and_notebooks/list_of_genomes/notebooks/general/dataset_construction.ipynb#X42sZmlsZQ%3D%3D?line=6'>7</a>\u001b[0m                                     columns_assembly_summary))])\n\u001b[1;32m      <a href='vscode-notebook-cell:/home/diegoflm/Documents/UV/courses_and_subjects/final_year_proyect/project/data_and_notebooks/list_of_genomes/notebooks/general/dataset_construction.ipynb#X42sZmlsZQ%3D%3D?line=7'>8</a>\u001b[0m \u001b[39m# print(df_assembly_summary.shape)\u001b[39;00m\n\u001b[1;32m      <a href='vscode-notebook-cell:/home/diegoflm/Documents/UV/courses_and_subjects/final_year_proyect/project/data_and_notebooks/list_of_genomes/notebooks/general/dataset_construction.ipynb#X42sZmlsZQ%3D%3D?line=8'>9</a>\u001b[0m \u001b[39m# df_assembly_summary.head(10)\u001b[39;00m\n",
      "File \u001b[0;32m~/mambaforge/envs/bio_1/lib/python3.11/site-packages/pandas/core/series.py:4626\u001b[0m, in \u001b[0;36mSeries.apply\u001b[0;34m(self, func, convert_dtype, args, **kwargs)\u001b[0m\n\u001b[1;32m   4516\u001b[0m \u001b[39mdef\u001b[39;00m \u001b[39mapply\u001b[39m(\n\u001b[1;32m   4517\u001b[0m     \u001b[39mself\u001b[39m,\n\u001b[1;32m   4518\u001b[0m     func: AggFuncType,\n\u001b[0;32m   (...)\u001b[0m\n\u001b[1;32m   4521\u001b[0m     \u001b[39m*\u001b[39m\u001b[39m*\u001b[39mkwargs,\n\u001b[1;32m   4522\u001b[0m ) \u001b[39m-\u001b[39m\u001b[39m>\u001b[39m DataFrame \u001b[39m|\u001b[39m Series:\n\u001b[1;32m   4523\u001b[0m \u001b[39m    \u001b[39m\u001b[39m\"\"\"\u001b[39;00m\n\u001b[1;32m   4524\u001b[0m \u001b[39m    Invoke function on values of Series.\u001b[39;00m\n\u001b[1;32m   4525\u001b[0m \n\u001b[0;32m   (...)\u001b[0m\n\u001b[1;32m   4624\u001b[0m \u001b[39m    dtype: float64\u001b[39;00m\n\u001b[1;32m   4625\u001b[0m \u001b[39m    \"\"\"\u001b[39;00m\n\u001b[0;32m-> 4626\u001b[0m     \u001b[39mreturn\u001b[39;00m SeriesApply(\u001b[39mself\u001b[39;49m, func, convert_dtype, args, kwargs)\u001b[39m.\u001b[39;49mapply()\n",
      "File \u001b[0;32m~/mambaforge/envs/bio_1/lib/python3.11/site-packages/pandas/core/apply.py:1025\u001b[0m, in \u001b[0;36mSeriesApply.apply\u001b[0;34m(self)\u001b[0m\n\u001b[1;32m   1022\u001b[0m     \u001b[39mreturn\u001b[39;00m \u001b[39mself\u001b[39m\u001b[39m.\u001b[39mapply_str()\n\u001b[1;32m   1024\u001b[0m \u001b[39m# self.f is Callable\u001b[39;00m\n\u001b[0;32m-> 1025\u001b[0m \u001b[39mreturn\u001b[39;00m \u001b[39mself\u001b[39;49m\u001b[39m.\u001b[39;49mapply_standard()\n",
      "File \u001b[0;32m~/mambaforge/envs/bio_1/lib/python3.11/site-packages/pandas/core/apply.py:1076\u001b[0m, in \u001b[0;36mSeriesApply.apply_standard\u001b[0;34m(self)\u001b[0m\n\u001b[1;32m   1074\u001b[0m     \u001b[39melse\u001b[39;00m:\n\u001b[1;32m   1075\u001b[0m         values \u001b[39m=\u001b[39m obj\u001b[39m.\u001b[39mastype(\u001b[39mobject\u001b[39m)\u001b[39m.\u001b[39m_values\n\u001b[0;32m-> 1076\u001b[0m         mapped \u001b[39m=\u001b[39m lib\u001b[39m.\u001b[39;49mmap_infer(\n\u001b[1;32m   1077\u001b[0m             values,\n\u001b[1;32m   1078\u001b[0m             f,\n\u001b[1;32m   1079\u001b[0m             convert\u001b[39m=\u001b[39;49m\u001b[39mself\u001b[39;49m\u001b[39m.\u001b[39;49mconvert_dtype,\n\u001b[1;32m   1080\u001b[0m         )\n\u001b[1;32m   1082\u001b[0m \u001b[39mif\u001b[39;00m \u001b[39mlen\u001b[39m(mapped) \u001b[39mand\u001b[39;00m \u001b[39misinstance\u001b[39m(mapped[\u001b[39m0\u001b[39m], ABCSeries):\n\u001b[1;32m   1083\u001b[0m     \u001b[39m# GH#43986 Need to do list(mapped) in order to get treated as nested\u001b[39;00m\n\u001b[1;32m   1084\u001b[0m     \u001b[39m#  See also GH#25959 regarding EA support\u001b[39;00m\n\u001b[1;32m   1085\u001b[0m     \u001b[39mreturn\u001b[39;00m obj\u001b[39m.\u001b[39m_constructor_expanddim(\u001b[39mlist\u001b[39m(mapped), index\u001b[39m=\u001b[39mobj\u001b[39m.\u001b[39mindex)\n",
      "File \u001b[0;32m~/mambaforge/envs/bio_1/lib/python3.11/site-packages/pandas/_libs/lib.pyx:2834\u001b[0m, in \u001b[0;36mpandas._libs.lib.map_infer\u001b[0;34m()\u001b[0m\n",
      "\u001b[1;32m/home/diegoflm/Documents/UV/courses_and_subjects/final_year_proyect/project/data_and_notebooks/list_of_genomes/notebooks/general/dataset_construction.ipynb Cell 19\u001b[0m line \u001b[0;36m6\n\u001b[1;32m      <a href='vscode-notebook-cell:/home/diegoflm/Documents/UV/courses_and_subjects/final_year_proyect/project/data_and_notebooks/list_of_genomes/notebooks/general/dataset_construction.ipynb#X42sZmlsZQ%3D%3D?line=1'>2</a>\u001b[0m df_org_assembly_summary[\u001b[39m'\u001b[39m\u001b[39mcontent\u001b[39m\u001b[39m'\u001b[39m] \u001b[39m=\u001b[39m df_org_assembly_summary[\u001b[39m'\u001b[39m\u001b[39mcontent\u001b[39m\u001b[39m'\u001b[39m]\u001b[39m.\u001b[39m\\\n\u001b[1;32m      <a href='vscode-notebook-cell:/home/diegoflm/Documents/UV/courses_and_subjects/final_year_proyect/project/data_and_notebooks/list_of_genomes/notebooks/general/dataset_construction.ipynb#X42sZmlsZQ%3D%3D?line=2'>3</a>\u001b[0m     apply(\u001b[39mlambda\u001b[39;00m x: \u001b[39m'\u001b[39m\u001b[39m\\t\u001b[39;00m\u001b[39m'\u001b[39m\u001b[39m.\u001b[39mjoin(x\u001b[39m.\u001b[39msplit(\u001b[39m'\u001b[39m\u001b[39m\\n\u001b[39;00m\u001b[39m'\u001b[39m)[\u001b[39m1\u001b[39m:]))\n\u001b[1;32m      <a href='vscode-notebook-cell:/home/diegoflm/Documents/UV/courses_and_subjects/final_year_proyect/project/data_and_notebooks/list_of_genomes/notebooks/general/dataset_construction.ipynb#X42sZmlsZQ%3D%3D?line=3'>4</a>\u001b[0m df_assembly_summary \u001b[39m=\u001b[39m pd\u001b[39m.\u001b[39mDataFrame(columns\u001b[39m=\u001b[39mcolumns_assembly_summary)\n\u001b[1;32m      <a href='vscode-notebook-cell:/home/diegoflm/Documents/UV/courses_and_subjects/final_year_proyect/project/data_and_notebooks/list_of_genomes/notebooks/general/dataset_construction.ipynb#X42sZmlsZQ%3D%3D?line=4'>5</a>\u001b[0m df_assembly_summary \u001b[39m=\u001b[39m pd\u001b[39m.\u001b[39mconcat([df_assembly_summary, df_org_assembly_summary[\u001b[39m'\u001b[39m\u001b[39mcontent\u001b[39m\u001b[39m'\u001b[39m]\\\n\u001b[0;32m----> <a href='vscode-notebook-cell:/home/diegoflm/Documents/UV/courses_and_subjects/final_year_proyect/project/data_and_notebooks/list_of_genomes/notebooks/general/dataset_construction.ipynb#X42sZmlsZQ%3D%3D?line=5'>6</a>\u001b[0m                                   \u001b[39m.\u001b[39mapply(\u001b[39mlambda\u001b[39;00m x: get_series_from_text(x, \n\u001b[1;32m      <a href='vscode-notebook-cell:/home/diegoflm/Documents/UV/courses_and_subjects/final_year_proyect/project/data_and_notebooks/list_of_genomes/notebooks/general/dataset_construction.ipynb#X42sZmlsZQ%3D%3D?line=6'>7</a>\u001b[0m                                     columns_assembly_summary))])\n\u001b[1;32m      <a href='vscode-notebook-cell:/home/diegoflm/Documents/UV/courses_and_subjects/final_year_proyect/project/data_and_notebooks/list_of_genomes/notebooks/general/dataset_construction.ipynb#X42sZmlsZQ%3D%3D?line=7'>8</a>\u001b[0m \u001b[39m# print(df_assembly_summary.shape)\u001b[39;00m\n\u001b[1;32m      <a href='vscode-notebook-cell:/home/diegoflm/Documents/UV/courses_and_subjects/final_year_proyect/project/data_and_notebooks/list_of_genomes/notebooks/general/dataset_construction.ipynb#X42sZmlsZQ%3D%3D?line=8'>9</a>\u001b[0m \u001b[39m# df_assembly_summary.head(10)\u001b[39;00m\n",
      "\u001b[1;32m/home/diegoflm/Documents/UV/courses_and_subjects/final_year_proyect/project/data_and_notebooks/list_of_genomes/notebooks/general/dataset_construction.ipynb Cell 19\u001b[0m line \u001b[0;36m2\n\u001b[1;32m      <a href='vscode-notebook-cell:/home/diegoflm/Documents/UV/courses_and_subjects/final_year_proyect/project/data_and_notebooks/list_of_genomes/notebooks/general/dataset_construction.ipynb#X42sZmlsZQ%3D%3D?line=0'>1</a>\u001b[0m \u001b[39mdef\u001b[39;00m \u001b[39mget_series_from_text\u001b[39m(text_line, columns):\n\u001b[0;32m----> <a href='vscode-notebook-cell:/home/diegoflm/Documents/UV/courses_and_subjects/final_year_proyect/project/data_and_notebooks/list_of_genomes/notebooks/general/dataset_construction.ipynb#X42sZmlsZQ%3D%3D?line=1'>2</a>\u001b[0m     values \u001b[39m=\u001b[39m text_line\u001b[39m.\u001b[39;49msplit(\u001b[39m'\u001b[39;49m\u001b[39m\\n\u001b[39;49;00m\u001b[39m'\u001b[39;49m)[\u001b[39m1\u001b[39;49m]\u001b[39m.\u001b[39msplit(\u001b[39m'\u001b[39m\u001b[39m\\t\u001b[39;00m\u001b[39m'\u001b[39m)\n\u001b[1;32m      <a href='vscode-notebook-cell:/home/diegoflm/Documents/UV/courses_and_subjects/final_year_proyect/project/data_and_notebooks/list_of_genomes/notebooks/general/dataset_construction.ipynb#X42sZmlsZQ%3D%3D?line=2'>3</a>\u001b[0m     \u001b[39mreturn\u001b[39;00m pd\u001b[39m.\u001b[39mSeries(values, index\u001b[39m=\u001b[39mcolumns)\n",
      "\u001b[0;31mIndexError\u001b[0m: list index out of range"
     ]
    }
   ],
   "source": [
    "df_org_assembly_summary = df_organisms[ df_organisms['filename'] == 'assembly_summary.txt' ]\n",
    "df_org_assembly_summary['content'] = df_org_assembly_summary['content'].\\\n",
    "    apply(lambda x: '\\t'.join(x.split('\\n')[1:]))\n",
    "df_assembly_summary = pd.DataFrame(columns=columns_assembly_summary)\n",
    "df_assembly_summary = pd.concat([df_assembly_summary, df_org_assembly_summary['content']\\\n",
    "                                  .apply(lambda x: get_series_from_text(x, \n",
    "                                    columns_assembly_summary))])\n",
    "# print(df_assembly_summary.shape)\n",
    "# df_assembly_summary.head(10)"
   ]
  },
  {
   "cell_type": "code",
   "execution_count": null,
   "metadata": {},
   "outputs": [],
   "source": []
  },
  {
   "cell_type": "markdown",
   "metadata": {},
   "source": [
    "## temp"
   ]
  },
  {
   "cell_type": "code",
   "execution_count": null,
   "metadata": {},
   "outputs": [],
   "source": [
    "assembly_summary_historical_0 = df_organisms.loc[0, 'content']\n",
    "print(assembly_summary_historical_0)\n"
   ]
  },
  {
   "cell_type": "code",
   "execution_count": null,
   "metadata": {},
   "outputs": [],
   "source": [
    "assembly_summary_historical_0.strip().split('\\n')[1:]"
   ]
  },
  {
   "cell_type": "code",
   "execution_count": null,
   "metadata": {},
   "outputs": [],
   "source": [
    "sample = df_organisms.loc[0:3, ['organism', 'filename', 'content']].copy()\n",
    "sample"
   ]
  },
  {
   "cell_type": "code",
   "execution_count": null,
   "metadata": {},
   "outputs": [],
   "source": [
    "sample['processed'] = sample['content'].apply(lambda x: x.strip().split('\\n')[1:])\n"
   ]
  },
  {
   "cell_type": "code",
   "execution_count": null,
   "metadata": {},
   "outputs": [],
   "source": [
    "sample.loc[0, 'processed']"
   ]
  },
  {
   "cell_type": "code",
   "execution_count": null,
   "metadata": {},
   "outputs": [],
   "source": [
    "sample['processed'] = sample['content'].str.strip().str.split('\\n').str[1:]"
   ]
  },
  {
   "cell_type": "code",
   "execution_count": null,
   "metadata": {},
   "outputs": [],
   "source": [
    "sample.loc[0, 'processed']"
   ]
  }
 ],
 "metadata": {
  "kernelspec": {
   "display_name": "bio_1",
   "language": "python",
   "name": "python3"
  },
  "language_info": {
   "codemirror_mode": {
    "name": "ipython",
    "version": 3
   },
   "file_extension": ".py",
   "mimetype": "text/x-python",
   "name": "python",
   "nbconvert_exporter": "python",
   "pygments_lexer": "ipython3",
   "version": "3.11.3"
  },
  "orig_nbformat": 4
 },
 "nbformat": 4,
 "nbformat_minor": 2
}
