{
 "cells": [
  {
   "cell_type": "code",
   "execution_count": 2,
   "metadata": {},
   "outputs": [],
   "source": [
    "from selenium import webdriver\n",
    "from selenium.webdriver.common.by import By\n",
    "from selenium.webdriver.support.ui import WebDriverWait\n",
    "from selenium.webdriver.support import expected_conditions as EC\n",
    "from selenium.common.exceptions import NoSuchElementException, ElementClickInterceptedException\n",
    "from selenium.webdriver.firefox.options import Options\n",
    "from pathlib import Path\n",
    "import pandas as pd\n",
    "import json"
   ]
  },
  {
   "cell_type": "markdown",
   "metadata": {},
   "source": [
    "# Constants"
   ]
  },
  {
   "cell_type": "code",
   "execution_count": 3,
   "metadata": {},
   "outputs": [],
   "source": [
    "pd.set_option('display.max_colwidth', None)"
   ]
  },
  {
   "cell_type": "code",
   "execution_count": 4,
   "metadata": {},
   "outputs": [
    {
     "data": {
      "text/plain": [
       "True"
      ]
     },
     "execution_count": 4,
     "metadata": {},
     "output_type": "execute_result"
    }
   ],
   "source": [
    "PATH_DATA = Path.cwd().parent.parent.parent / 'data'\n",
    "PATH_DATA.exists()"
   ]
  },
  {
   "cell_type": "code",
   "execution_count": 5,
   "metadata": {},
   "outputs": [
    {
     "data": {
      "text/plain": [
       "True"
      ]
     },
     "execution_count": 5,
     "metadata": {},
     "output_type": "execute_result"
    }
   ],
   "source": [
    "PATH_PREPROCESSED = PATH_DATA / 'preprocessed'\n",
    "PATH_PREPROCESSED.exists()"
   ]
  },
  {
   "cell_type": "code",
   "execution_count": 6,
   "metadata": {},
   "outputs": [
    {
     "data": {
      "text/plain": [
       "True"
      ]
     },
     "execution_count": 6,
     "metadata": {},
     "output_type": "execute_result"
    }
   ],
   "source": [
    "PATH_DF_URLS_ARCHAEA = PATH_PREPROCESSED / 'archaea' / 'archaea_name_formatting.csv'\n",
    "PATH_DF_URLS_ARCHAEA.exists()"
   ]
  },
  {
   "cell_type": "code",
   "execution_count": 7,
   "metadata": {},
   "outputs": [
    {
     "data": {
      "text/plain": [
       "True"
      ]
     },
     "execution_count": 7,
     "metadata": {},
     "output_type": "execute_result"
    }
   ],
   "source": [
    "PATH_RESULTS = PATH_DATA / 'results'\n",
    "PATH_RESULTS.exists()"
   ]
  },
  {
   "cell_type": "code",
   "execution_count": 8,
   "metadata": {},
   "outputs": [
    {
     "data": {
      "text/plain": [
       "True"
      ]
     },
     "execution_count": 8,
     "metadata": {},
     "output_type": "execute_result"
    }
   ],
   "source": [
    "PATH_RESULTS_LIFESTYLE_ARCHAEA = PATH_RESULTS / 'lifestyle' / 'archaea'\n",
    "PATH_RESULTS_LIFESTYLE_ARCHAEA.exists()"
   ]
  },
  {
   "cell_type": "code",
   "execution_count": 9,
   "metadata": {},
   "outputs": [
    {
     "data": {
      "text/plain": [
       "True"
      ]
     },
     "execution_count": 9,
     "metadata": {},
     "output_type": "execute_result"
    }
   ],
   "source": [
    "PATH_DESTINY_LIFESTYLE_ARCHAEA = PATH_RESULTS_LIFESTYLE_ARCHAEA / 'lifestyle_archaea.json'\n",
    "PATH_DESTINY_LIFESTYLE_ARCHAEA.exists()"
   ]
  },
  {
   "cell_type": "code",
   "execution_count": 10,
   "metadata": {},
   "outputs": [
    {
     "data": {
      "text/plain": [
       "True"
      ]
     },
     "execution_count": 10,
     "metadata": {},
     "output_type": "execute_result"
    }
   ],
   "source": [
    "PATH_DF_URLS_BACTERIA = PATH_PREPROCESSED / 'bacteria' / 'bacteria_name_formatting.csv'\n",
    "PATH_DF_URLS_BACTERIA.exists()"
   ]
  },
  {
   "cell_type": "markdown",
   "metadata": {},
   "source": [
    "# webdriver"
   ]
  },
  {
   "cell_type": "code",
   "execution_count": 9,
   "metadata": {},
   "outputs": [],
   "source": [
    "driver = webdriver.Firefox()"
   ]
  },
  {
   "cell_type": "markdown",
   "metadata": {},
   "source": [
    "# Capture env data"
   ]
  },
  {
   "cell_type": "code",
   "execution_count": 10,
   "metadata": {},
   "outputs": [],
   "source": [
    "driver.implicitly_wait(180)\n",
    "driver.get(\"https://gcm.wdcm.org/search?search=Acidianus%20brierleyi&list=isolate\")\n",
    "table_rows = driver.find_elements(\"css selector\", \"div.fd-isolate table tr\")"
   ]
  },
  {
   "cell_type": "markdown",
   "metadata": {},
   "source": [
    "## Don't wait for the page to charge completely"
   ]
  },
  {
   "cell_type": "code",
   "execution_count": 11,
   "metadata": {},
   "outputs": [],
   "source": [
    "# options = Options()\n",
    "# options.page_load_strategy = 'none'"
   ]
  },
  {
   "cell_type": "code",
   "execution_count": 12,
   "metadata": {},
   "outputs": [],
   "source": [
    "# driver = webdriver.Firefox(options=options)"
   ]
  },
  {
   "cell_type": "code",
   "execution_count": 13,
   "metadata": {},
   "outputs": [],
   "source": [
    "# driver.get(\"https://gcm.wdcm.org/search?search=Acidianus%20brierleyi&list=isolate\")\n",
    "# try:\n",
    "#     WebDriverWait(driver, 35).until(\n",
    "#         EC.presence_of_element_located(\n",
    "#             ('css selector', 'div.fd-isolate table')\n",
    "#         )\n",
    "#     )\n",
    "#     print(\"Table found\")\n",
    "# except NoSuchElementException as nsee:\n",
    "#     print(\"Failed to find the table\")\n",
    "#     print(nsee)\n",
    "# except Exception as e:\n",
    "#     print(\"Didn't find the table\")\n",
    "#     print(e)\n"
   ]
  },
  {
   "cell_type": "code",
   "execution_count": 14,
   "metadata": {},
   "outputs": [
    {
     "name": "stdout",
     "output_type": "stream",
     "text": [
      "8\n",
      "['Algae', 'Archaea', 'Bacterium', 'Fungi', 'Protozoa', 'Virus', 'Others', 'Total']\n"
     ]
    }
   ],
   "source": [
    "print(len(table_rows[0].text.split(\"\\n\")))\n",
    "print(table_rows[0].text.split(\"\\n\"))"
   ]
  },
  {
   "cell_type": "code",
   "execution_count": 15,
   "metadata": {},
   "outputs": [
    {
     "data": {
      "text/plain": [
       "{'Environmental': 3, 'Sediment': 1, 'Others': 1, 'Total': 5}"
      ]
     },
     "execution_count": 15,
     "metadata": {},
     "output_type": "execute_result"
    }
   ],
   "source": [
    "temp_dict = {}\n",
    "for row in table_rows[1:]:\n",
    "    environment = row.text.split(\"\\n\")[0]\n",
    "    val = int(row.text.split(\"\\n\")[2])\n",
    "    # print(val)\n",
    "    if val > 0:\n",
    "        temp_dict[environment] = val\n",
    "\n",
    "temp_dict"
   ]
  },
  {
   "cell_type": "markdown",
   "metadata": {},
   "source": [
    "# Join data"
   ]
  },
  {
   "cell_type": "code",
   "execution_count": 16,
   "metadata": {},
   "outputs": [
    {
     "data": {
      "text/html": [
       "<div>\n",
       "<style scoped>\n",
       "    .dataframe tbody tr th:only-of-type {\n",
       "        vertical-align: middle;\n",
       "    }\n",
       "\n",
       "    .dataframe tbody tr th {\n",
       "        vertical-align: top;\n",
       "    }\n",
       "\n",
       "    .dataframe thead th {\n",
       "        text-align: right;\n",
       "    }\n",
       "</style>\n",
       "<table border=\"1\" class=\"dataframe\">\n",
       "  <thead>\n",
       "    <tr style=\"text-align: right;\">\n",
       "      <th></th>\n",
       "      <th>name</th>\n",
       "      <th>url</th>\n",
       "      <th>formatted_name_gcm</th>\n",
       "      <th>formatted_name_ncbi</th>\n",
       "      <th>url_gcm_search</th>\n",
       "      <th>url_gcm_isolation_src</th>\n",
       "    </tr>\n",
       "  </thead>\n",
       "  <tbody>\n",
       "    <tr>\n",
       "      <th>1232</th>\n",
       "      <td>uncultured_Nitrososphaera_sp.</td>\n",
       "      <td>https://ftp.ncbi.nlm.nih.gov/genomes/refseq/archaea/uncultured_Nitrososphaera_sp./</td>\n",
       "      <td>uncultured Nitrososphaera</td>\n",
       "      <td>uncultured Nitrososphaera sp.</td>\n",
       "      <td>https://gcm.wdcm.org/search?search=uncultured Nitrososphaera</td>\n",
       "      <td>https://gcm.wdcm.org/search?search=uncultured Nitrososphaera&amp;list=isolate</td>\n",
       "    </tr>\n",
       "    <tr>\n",
       "      <th>1233</th>\n",
       "      <td>uncultured_archaeon_A07HB70</td>\n",
       "      <td>https://ftp.ncbi.nlm.nih.gov/genomes/refseq/archaea/uncultured_archaeon_A07HB70/</td>\n",
       "      <td>uncultured archaeon A07HB70</td>\n",
       "      <td>uncultured archaeon A07HB70</td>\n",
       "      <td>https://gcm.wdcm.org/search?search=uncultured archaeon A07HB70</td>\n",
       "      <td>https://gcm.wdcm.org/search?search=uncultured archaeon A07HB70&amp;list=isolate</td>\n",
       "    </tr>\n",
       "    <tr>\n",
       "      <th>1234</th>\n",
       "      <td>uncultured_archaeon_A07HN63</td>\n",
       "      <td>https://ftp.ncbi.nlm.nih.gov/genomes/refseq/archaea/uncultured_archaeon_A07HN63/</td>\n",
       "      <td>uncultured archaeon A07HN63</td>\n",
       "      <td>uncultured archaeon A07HN63</td>\n",
       "      <td>https://gcm.wdcm.org/search?search=uncultured archaeon A07HN63</td>\n",
       "      <td>https://gcm.wdcm.org/search?search=uncultured archaeon A07HN63&amp;list=isolate</td>\n",
       "    </tr>\n",
       "    <tr>\n",
       "      <th>1235</th>\n",
       "      <td>uncultured_archaeon_A07HR60</td>\n",
       "      <td>https://ftp.ncbi.nlm.nih.gov/genomes/refseq/archaea/uncultured_archaeon_A07HR60/</td>\n",
       "      <td>uncultured archaeon A07HR60</td>\n",
       "      <td>uncultured archaeon A07HR60</td>\n",
       "      <td>https://gcm.wdcm.org/search?search=uncultured archaeon A07HR60</td>\n",
       "      <td>https://gcm.wdcm.org/search?search=uncultured archaeon A07HR60&amp;list=isolate</td>\n",
       "    </tr>\n",
       "    <tr>\n",
       "      <th>1236</th>\n",
       "      <td>uncultured_archaeon_A07HR67</td>\n",
       "      <td>https://ftp.ncbi.nlm.nih.gov/genomes/refseq/archaea/uncultured_archaeon_A07HR67/</td>\n",
       "      <td>uncultured archaeon A07HR67</td>\n",
       "      <td>uncultured archaeon A07HR67</td>\n",
       "      <td>https://gcm.wdcm.org/search?search=uncultured archaeon A07HR67</td>\n",
       "      <td>https://gcm.wdcm.org/search?search=uncultured archaeon A07HR67&amp;list=isolate</td>\n",
       "    </tr>\n",
       "  </tbody>\n",
       "</table>\n",
       "</div>"
      ],
      "text/plain": [
       "                               name   \n",
       "1232  uncultured_Nitrososphaera_sp.  \\\n",
       "1233    uncultured_archaeon_A07HB70   \n",
       "1234    uncultured_archaeon_A07HN63   \n",
       "1235    uncultured_archaeon_A07HR60   \n",
       "1236    uncultured_archaeon_A07HR67   \n",
       "\n",
       "                                                                                     url   \n",
       "1232  https://ftp.ncbi.nlm.nih.gov/genomes/refseq/archaea/uncultured_Nitrososphaera_sp./  \\\n",
       "1233    https://ftp.ncbi.nlm.nih.gov/genomes/refseq/archaea/uncultured_archaeon_A07HB70/   \n",
       "1234    https://ftp.ncbi.nlm.nih.gov/genomes/refseq/archaea/uncultured_archaeon_A07HN63/   \n",
       "1235    https://ftp.ncbi.nlm.nih.gov/genomes/refseq/archaea/uncultured_archaeon_A07HR60/   \n",
       "1236    https://ftp.ncbi.nlm.nih.gov/genomes/refseq/archaea/uncultured_archaeon_A07HR67/   \n",
       "\n",
       "               formatted_name_gcm            formatted_name_ncbi   \n",
       "1232   uncultured Nitrososphaera   uncultured Nitrososphaera sp.  \\\n",
       "1233  uncultured archaeon A07HB70    uncultured archaeon A07HB70   \n",
       "1234  uncultured archaeon A07HN63    uncultured archaeon A07HN63   \n",
       "1235  uncultured archaeon A07HR60    uncultured archaeon A07HR60   \n",
       "1236  uncultured archaeon A07HR67    uncultured archaeon A07HR67   \n",
       "\n",
       "                                                      url_gcm_search   \n",
       "1232   https://gcm.wdcm.org/search?search=uncultured Nitrososphaera   \\\n",
       "1233  https://gcm.wdcm.org/search?search=uncultured archaeon A07HB70   \n",
       "1234  https://gcm.wdcm.org/search?search=uncultured archaeon A07HN63   \n",
       "1235  https://gcm.wdcm.org/search?search=uncultured archaeon A07HR60   \n",
       "1236  https://gcm.wdcm.org/search?search=uncultured archaeon A07HR67   \n",
       "\n",
       "                                                            url_gcm_isolation_src  \n",
       "1232    https://gcm.wdcm.org/search?search=uncultured Nitrososphaera&list=isolate  \n",
       "1233  https://gcm.wdcm.org/search?search=uncultured archaeon A07HB70&list=isolate  \n",
       "1234  https://gcm.wdcm.org/search?search=uncultured archaeon A07HN63&list=isolate  \n",
       "1235  https://gcm.wdcm.org/search?search=uncultured archaeon A07HR60&list=isolate  \n",
       "1236  https://gcm.wdcm.org/search?search=uncultured archaeon A07HR67&list=isolate  "
      ]
     },
     "execution_count": 16,
     "metadata": {},
     "output_type": "execute_result"
    }
   ],
   "source": [
    "df_archaea_name_formatting = pd.read_csv(PATH_DF_URLS_ARCHAEA)\n",
    "df_archaea_name_formatting.tail()"
   ]
  },
  {
   "cell_type": "code",
   "execution_count": 24,
   "metadata": {},
   "outputs": [
    {
     "name": "stdout",
     "output_type": "stream",
     "text": [
      "{'name': 'ANME-2_cluster_archaeon_HR1', 'url_refseq': 'https://ftp.ncbi.nlm.nih.gov/genomes/refseq/archaea/ANME-2_cluster_archaeon_HR1/', 'url_gcm_isolation_src': 'https://gcm.wdcm.org/search?search=ANME-2 cluster archaeon HR1&list=isolate'}\n",
      "{'name': 'Acidianus_ambivalens', 'url_refseq': 'https://ftp.ncbi.nlm.nih.gov/genomes/refseq/archaea/Acidianus_ambivalens/', 'url_gcm_isolation_src': 'https://gcm.wdcm.org/search?search=Acidianus ambivalens&list=isolate', 'Sediment': 1, 'Water': 1, 'Total': 2}\n",
      "{'name': 'Acidianus_brierleyi', 'url_refseq': 'https://ftp.ncbi.nlm.nih.gov/genomes/refseq/archaea/Acidianus_brierleyi/', 'url_gcm_isolation_src': 'https://gcm.wdcm.org/search?search=Acidianus brierleyi&list=isolate', 'Environmental': 3, 'Sediment': 1, 'Others': 1, 'Total': 5}\n",
      "{'name': 'Acidianus_hospitalis', 'url_refseq': 'https://ftp.ncbi.nlm.nih.gov/genomes/refseq/archaea/Acidianus_hospitalis/', 'url_gcm_isolation_src': 'https://gcm.wdcm.org/search?search=Acidianus hospitalis&list=isolate'}\n",
      "{'name': 'Acidianus_infernus', 'url_refseq': 'https://ftp.ncbi.nlm.nih.gov/genomes/refseq/archaea/Acidianus_infernus/', 'url_gcm_isolation_src': 'https://gcm.wdcm.org/search?search=Acidianus infernus&list=isolate', 'Sediment': 2, 'Others': 1, 'Total': 3}\n",
      "{'name': 'Acidianus_manzaensis', 'url_refseq': 'https://ftp.ncbi.nlm.nih.gov/genomes/refseq/archaea/Acidianus_manzaensis/', 'url_gcm_isolation_src': 'https://gcm.wdcm.org/search?search=Acidianus manzaensis&list=isolate', 'Soil': 1, 'Total': 1}\n",
      "[{'name': 'Acidianus_ambivalens', 'url_refseq': 'https://ftp.ncbi.nlm.nih.gov/genomes/refseq/archaea/Acidianus_ambivalens/', 'url_gcm_isolation_src': 'https://gcm.wdcm.org/search?search=Acidianus ambivalens&list=isolate', 'Sediment': 1, 'Water': 1, 'Total': 2}, {'name': 'Acidianus_brierleyi', 'url_refseq': 'https://ftp.ncbi.nlm.nih.gov/genomes/refseq/archaea/Acidianus_brierleyi/', 'url_gcm_isolation_src': 'https://gcm.wdcm.org/search?search=Acidianus brierleyi&list=isolate', 'Environmental': 3, 'Sediment': 1, 'Others': 1, 'Total': 5}, {'name': 'Acidianus_infernus', 'url_refseq': 'https://ftp.ncbi.nlm.nih.gov/genomes/refseq/archaea/Acidianus_infernus/', 'url_gcm_isolation_src': 'https://gcm.wdcm.org/search?search=Acidianus infernus&list=isolate', 'Sediment': 2, 'Others': 1, 'Total': 3}, {'name': 'Acidianus_manzaensis', 'url_refseq': 'https://ftp.ncbi.nlm.nih.gov/genomes/refseq/archaea/Acidianus_manzaensis/', 'url_gcm_isolation_src': 'https://gcm.wdcm.org/search?search=Acidianus manzaensis&list=isolate', 'Soil': 1, 'Total': 1}]\n"
     ]
    }
   ],
   "source": [
    "dict_list = []\n",
    "for index, row in df_archaea_name_formatting.loc[:5].iterrows():\n",
    "    # print(index, row[['name', 'url_gcm_isolation_src']])\n",
    "    driver.get(row['url_gcm_isolation_src'])\n",
    "    table_rows = driver.find_elements(\"css selector\", \"div.fd-isolate table tr\")\n",
    "    found = False\n",
    "    dict_organism = {}\n",
    "    dict_organism['name'] = df_archaea_name_formatting.loc[index, 'name']\n",
    "    dict_organism['url_refseq'] = df_archaea_name_formatting.loc[index, 'url']\n",
    "    dict_organism['url_gcm_isolation_src'] = df_archaea_name_formatting.loc[index, 'url_gcm_isolation_src']\n",
    "    \n",
    "    for row in table_rows[1:]:\n",
    "        environment = row.text.split(\"\\n\")[0]\n",
    "        val = int(row.text.split(\"\\n\")[2])\n",
    "        if val > 0:\n",
    "            found = True\n",
    "            dict_organism[environment] = val\n",
    "\n",
    "    if found:\n",
    "        dict_list.append(dict_organism)\n",
    "    print(dict_organism)\n",
    "print(dict_list)\n",
    "\n",
    "with open(PATH_DESTINY_LIFESTYLE_ARCHAEA, 'a') as f:\n",
    "    json.dump(dict_list, f, indent=4)\n"
   ]
  },
  {
   "cell_type": "code",
   "execution_count": 26,
   "metadata": {},
   "outputs": [
    {
     "data": {
      "text/html": [
       "<div>\n",
       "<style scoped>\n",
       "    .dataframe tbody tr th:only-of-type {\n",
       "        vertical-align: middle;\n",
       "    }\n",
       "\n",
       "    .dataframe tbody tr th {\n",
       "        vertical-align: top;\n",
       "    }\n",
       "\n",
       "    .dataframe thead th {\n",
       "        text-align: right;\n",
       "    }\n",
       "</style>\n",
       "<table border=\"1\" class=\"dataframe\">\n",
       "  <thead>\n",
       "    <tr style=\"text-align: right;\">\n",
       "      <th></th>\n",
       "      <th>name</th>\n",
       "      <th>url</th>\n",
       "      <th>formatted_name_gcm</th>\n",
       "      <th>formatted_name_ncbi</th>\n",
       "      <th>url_gcm_search</th>\n",
       "      <th>url_gcm_isolation_src</th>\n",
       "    </tr>\n",
       "  </thead>\n",
       "  <tbody>\n",
       "    <tr>\n",
       "      <th>0</th>\n",
       "      <td>ANME-2_cluster_archaeon_HR1</td>\n",
       "      <td>https://ftp.ncbi.nlm.nih.gov/genomes/refseq/archaea/ANME-2_cluster_archaeon_HR1/</td>\n",
       "      <td>ANME-2 cluster archaeon HR1</td>\n",
       "      <td>ANME-2 cluster archaeon HR1</td>\n",
       "      <td>https://gcm.wdcm.org/search?search=ANME-2 cluster archaeon HR1</td>\n",
       "      <td>https://gcm.wdcm.org/search?search=ANME-2 cluster archaeon HR1&amp;list=isolate</td>\n",
       "    </tr>\n",
       "    <tr>\n",
       "      <th>1</th>\n",
       "      <td>Acidianus_ambivalens</td>\n",
       "      <td>https://ftp.ncbi.nlm.nih.gov/genomes/refseq/archaea/Acidianus_ambivalens/</td>\n",
       "      <td>Acidianus ambivalens</td>\n",
       "      <td>Acidianus ambivalens</td>\n",
       "      <td>https://gcm.wdcm.org/search?search=Acidianus ambivalens</td>\n",
       "      <td>https://gcm.wdcm.org/search?search=Acidianus ambivalens&amp;list=isolate</td>\n",
       "    </tr>\n",
       "    <tr>\n",
       "      <th>2</th>\n",
       "      <td>Acidianus_brierleyi</td>\n",
       "      <td>https://ftp.ncbi.nlm.nih.gov/genomes/refseq/archaea/Acidianus_brierleyi/</td>\n",
       "      <td>Acidianus brierleyi</td>\n",
       "      <td>Acidianus brierleyi</td>\n",
       "      <td>https://gcm.wdcm.org/search?search=Acidianus brierleyi</td>\n",
       "      <td>https://gcm.wdcm.org/search?search=Acidianus brierleyi&amp;list=isolate</td>\n",
       "    </tr>\n",
       "    <tr>\n",
       "      <th>3</th>\n",
       "      <td>Acidianus_hospitalis</td>\n",
       "      <td>https://ftp.ncbi.nlm.nih.gov/genomes/refseq/archaea/Acidianus_hospitalis/</td>\n",
       "      <td>Acidianus hospitalis</td>\n",
       "      <td>Acidianus hospitalis</td>\n",
       "      <td>https://gcm.wdcm.org/search?search=Acidianus hospitalis</td>\n",
       "      <td>https://gcm.wdcm.org/search?search=Acidianus hospitalis&amp;list=isolate</td>\n",
       "    </tr>\n",
       "    <tr>\n",
       "      <th>4</th>\n",
       "      <td>Acidianus_infernus</td>\n",
       "      <td>https://ftp.ncbi.nlm.nih.gov/genomes/refseq/archaea/Acidianus_infernus/</td>\n",
       "      <td>Acidianus infernus</td>\n",
       "      <td>Acidianus infernus</td>\n",
       "      <td>https://gcm.wdcm.org/search?search=Acidianus infernus</td>\n",
       "      <td>https://gcm.wdcm.org/search?search=Acidianus infernus&amp;list=isolate</td>\n",
       "    </tr>\n",
       "    <tr>\n",
       "      <th>...</th>\n",
       "      <td>...</td>\n",
       "      <td>...</td>\n",
       "      <td>...</td>\n",
       "      <td>...</td>\n",
       "      <td>...</td>\n",
       "      <td>...</td>\n",
       "    </tr>\n",
       "    <tr>\n",
       "      <th>1232</th>\n",
       "      <td>uncultured_Nitrososphaera_sp.</td>\n",
       "      <td>https://ftp.ncbi.nlm.nih.gov/genomes/refseq/archaea/uncultured_Nitrososphaera_sp./</td>\n",
       "      <td>uncultured Nitrososphaera</td>\n",
       "      <td>uncultured Nitrososphaera sp.</td>\n",
       "      <td>https://gcm.wdcm.org/search?search=uncultured Nitrososphaera</td>\n",
       "      <td>https://gcm.wdcm.org/search?search=uncultured Nitrososphaera&amp;list=isolate</td>\n",
       "    </tr>\n",
       "    <tr>\n",
       "      <th>1233</th>\n",
       "      <td>uncultured_archaeon_A07HB70</td>\n",
       "      <td>https://ftp.ncbi.nlm.nih.gov/genomes/refseq/archaea/uncultured_archaeon_A07HB70/</td>\n",
       "      <td>uncultured archaeon A07HB70</td>\n",
       "      <td>uncultured archaeon A07HB70</td>\n",
       "      <td>https://gcm.wdcm.org/search?search=uncultured archaeon A07HB70</td>\n",
       "      <td>https://gcm.wdcm.org/search?search=uncultured archaeon A07HB70&amp;list=isolate</td>\n",
       "    </tr>\n",
       "    <tr>\n",
       "      <th>1234</th>\n",
       "      <td>uncultured_archaeon_A07HN63</td>\n",
       "      <td>https://ftp.ncbi.nlm.nih.gov/genomes/refseq/archaea/uncultured_archaeon_A07HN63/</td>\n",
       "      <td>uncultured archaeon A07HN63</td>\n",
       "      <td>uncultured archaeon A07HN63</td>\n",
       "      <td>https://gcm.wdcm.org/search?search=uncultured archaeon A07HN63</td>\n",
       "      <td>https://gcm.wdcm.org/search?search=uncultured archaeon A07HN63&amp;list=isolate</td>\n",
       "    </tr>\n",
       "    <tr>\n",
       "      <th>1235</th>\n",
       "      <td>uncultured_archaeon_A07HR60</td>\n",
       "      <td>https://ftp.ncbi.nlm.nih.gov/genomes/refseq/archaea/uncultured_archaeon_A07HR60/</td>\n",
       "      <td>uncultured archaeon A07HR60</td>\n",
       "      <td>uncultured archaeon A07HR60</td>\n",
       "      <td>https://gcm.wdcm.org/search?search=uncultured archaeon A07HR60</td>\n",
       "      <td>https://gcm.wdcm.org/search?search=uncultured archaeon A07HR60&amp;list=isolate</td>\n",
       "    </tr>\n",
       "    <tr>\n",
       "      <th>1236</th>\n",
       "      <td>uncultured_archaeon_A07HR67</td>\n",
       "      <td>https://ftp.ncbi.nlm.nih.gov/genomes/refseq/archaea/uncultured_archaeon_A07HR67/</td>\n",
       "      <td>uncultured archaeon A07HR67</td>\n",
       "      <td>uncultured archaeon A07HR67</td>\n",
       "      <td>https://gcm.wdcm.org/search?search=uncultured archaeon A07HR67</td>\n",
       "      <td>https://gcm.wdcm.org/search?search=uncultured archaeon A07HR67&amp;list=isolate</td>\n",
       "    </tr>\n",
       "  </tbody>\n",
       "</table>\n",
       "<p>1237 rows × 6 columns</p>\n",
       "</div>"
      ],
      "text/plain": [
       "                               name   \n",
       "0       ANME-2_cluster_archaeon_HR1  \\\n",
       "1              Acidianus_ambivalens   \n",
       "2               Acidianus_brierleyi   \n",
       "3              Acidianus_hospitalis   \n",
       "4                Acidianus_infernus   \n",
       "...                             ...   \n",
       "1232  uncultured_Nitrososphaera_sp.   \n",
       "1233    uncultured_archaeon_A07HB70   \n",
       "1234    uncultured_archaeon_A07HN63   \n",
       "1235    uncultured_archaeon_A07HR60   \n",
       "1236    uncultured_archaeon_A07HR67   \n",
       "\n",
       "                                                                                     url   \n",
       "0       https://ftp.ncbi.nlm.nih.gov/genomes/refseq/archaea/ANME-2_cluster_archaeon_HR1/  \\\n",
       "1              https://ftp.ncbi.nlm.nih.gov/genomes/refseq/archaea/Acidianus_ambivalens/   \n",
       "2               https://ftp.ncbi.nlm.nih.gov/genomes/refseq/archaea/Acidianus_brierleyi/   \n",
       "3              https://ftp.ncbi.nlm.nih.gov/genomes/refseq/archaea/Acidianus_hospitalis/   \n",
       "4                https://ftp.ncbi.nlm.nih.gov/genomes/refseq/archaea/Acidianus_infernus/   \n",
       "...                                                                                  ...   \n",
       "1232  https://ftp.ncbi.nlm.nih.gov/genomes/refseq/archaea/uncultured_Nitrososphaera_sp./   \n",
       "1233    https://ftp.ncbi.nlm.nih.gov/genomes/refseq/archaea/uncultured_archaeon_A07HB70/   \n",
       "1234    https://ftp.ncbi.nlm.nih.gov/genomes/refseq/archaea/uncultured_archaeon_A07HN63/   \n",
       "1235    https://ftp.ncbi.nlm.nih.gov/genomes/refseq/archaea/uncultured_archaeon_A07HR60/   \n",
       "1236    https://ftp.ncbi.nlm.nih.gov/genomes/refseq/archaea/uncultured_archaeon_A07HR67/   \n",
       "\n",
       "               formatted_name_gcm            formatted_name_ncbi   \n",
       "0     ANME-2 cluster archaeon HR1    ANME-2 cluster archaeon HR1  \\\n",
       "1            Acidianus ambivalens           Acidianus ambivalens   \n",
       "2             Acidianus brierleyi            Acidianus brierleyi   \n",
       "3            Acidianus hospitalis           Acidianus hospitalis   \n",
       "4              Acidianus infernus             Acidianus infernus   \n",
       "...                           ...                            ...   \n",
       "1232   uncultured Nitrososphaera   uncultured Nitrososphaera sp.   \n",
       "1233  uncultured archaeon A07HB70    uncultured archaeon A07HB70   \n",
       "1234  uncultured archaeon A07HN63    uncultured archaeon A07HN63   \n",
       "1235  uncultured archaeon A07HR60    uncultured archaeon A07HR60   \n",
       "1236  uncultured archaeon A07HR67    uncultured archaeon A07HR67   \n",
       "\n",
       "                                                      url_gcm_search   \n",
       "0     https://gcm.wdcm.org/search?search=ANME-2 cluster archaeon HR1  \\\n",
       "1            https://gcm.wdcm.org/search?search=Acidianus ambivalens   \n",
       "2             https://gcm.wdcm.org/search?search=Acidianus brierleyi   \n",
       "3            https://gcm.wdcm.org/search?search=Acidianus hospitalis   \n",
       "4              https://gcm.wdcm.org/search?search=Acidianus infernus   \n",
       "...                                                              ...   \n",
       "1232   https://gcm.wdcm.org/search?search=uncultured Nitrososphaera    \n",
       "1233  https://gcm.wdcm.org/search?search=uncultured archaeon A07HB70   \n",
       "1234  https://gcm.wdcm.org/search?search=uncultured archaeon A07HN63   \n",
       "1235  https://gcm.wdcm.org/search?search=uncultured archaeon A07HR60   \n",
       "1236  https://gcm.wdcm.org/search?search=uncultured archaeon A07HR67   \n",
       "\n",
       "                                                            url_gcm_isolation_src  \n",
       "0     https://gcm.wdcm.org/search?search=ANME-2 cluster archaeon HR1&list=isolate  \n",
       "1            https://gcm.wdcm.org/search?search=Acidianus ambivalens&list=isolate  \n",
       "2             https://gcm.wdcm.org/search?search=Acidianus brierleyi&list=isolate  \n",
       "3            https://gcm.wdcm.org/search?search=Acidianus hospitalis&list=isolate  \n",
       "4              https://gcm.wdcm.org/search?search=Acidianus infernus&list=isolate  \n",
       "...                                                                           ...  \n",
       "1232    https://gcm.wdcm.org/search?search=uncultured Nitrososphaera&list=isolate  \n",
       "1233  https://gcm.wdcm.org/search?search=uncultured archaeon A07HB70&list=isolate  \n",
       "1234  https://gcm.wdcm.org/search?search=uncultured archaeon A07HN63&list=isolate  \n",
       "1235  https://gcm.wdcm.org/search?search=uncultured archaeon A07HR60&list=isolate  \n",
       "1236  https://gcm.wdcm.org/search?search=uncultured archaeon A07HR67&list=isolate  \n",
       "\n",
       "[1237 rows x 6 columns]"
      ]
     },
     "execution_count": 26,
     "metadata": {},
     "output_type": "execute_result"
    }
   ],
   "source": [
    "df_archaea_name_formatting.loc[:]"
   ]
  },
  {
   "cell_type": "markdown",
   "metadata": {},
   "source": [
    "# Bacteria"
   ]
  },
  {
   "cell_type": "code",
   "execution_count": 11,
   "metadata": {},
   "outputs": [
    {
     "data": {
      "text/html": [
       "<div>\n",
       "<style scoped>\n",
       "    .dataframe tbody tr th:only-of-type {\n",
       "        vertical-align: middle;\n",
       "    }\n",
       "\n",
       "    .dataframe tbody tr th {\n",
       "        vertical-align: top;\n",
       "    }\n",
       "\n",
       "    .dataframe thead th {\n",
       "        text-align: right;\n",
       "    }\n",
       "</style>\n",
       "<table border=\"1\" class=\"dataframe\">\n",
       "  <thead>\n",
       "    <tr style=\"text-align: right;\">\n",
       "      <th></th>\n",
       "      <th>name</th>\n",
       "      <th>url</th>\n",
       "      <th>formatted_name_gcm</th>\n",
       "      <th>formatted_name_ncbi</th>\n",
       "      <th>url_gcm_search</th>\n",
       "      <th>url_gcm_isolation_src</th>\n",
       "    </tr>\n",
       "  </thead>\n",
       "  <tbody>\n",
       "    <tr>\n",
       "      <th>0</th>\n",
       "      <td>Abditibacterium_utsteinense</td>\n",
       "      <td>https://ftp.ncbi.nlm.nih.gov/genomes/refseq/bacteria/Abditibacterium_utsteinense/</td>\n",
       "      <td>Abditibacterium utsteinense</td>\n",
       "      <td>Abditibacterium utsteinense</td>\n",
       "      <td>https://gcm.wdcm.org/search?search=Abditibacterium utsteinense</td>\n",
       "      <td>https://gcm.wdcm.org/search?search=Abditibacterium utsteinense&amp;list=isolate</td>\n",
       "    </tr>\n",
       "    <tr>\n",
       "      <th>1</th>\n",
       "      <td>Abiotrophia_defectiva</td>\n",
       "      <td>https://ftp.ncbi.nlm.nih.gov/genomes/refseq/bacteria/Abiotrophia_defectiva/</td>\n",
       "      <td>Abiotrophia defectiva</td>\n",
       "      <td>Abiotrophia defectiva</td>\n",
       "      <td>https://gcm.wdcm.org/search?search=Abiotrophia defectiva</td>\n",
       "      <td>https://gcm.wdcm.org/search?search=Abiotrophia defectiva&amp;list=isolate</td>\n",
       "    </tr>\n",
       "    <tr>\n",
       "      <th>2</th>\n",
       "      <td>Abiotrophia_sp.</td>\n",
       "      <td>https://ftp.ncbi.nlm.nih.gov/genomes/refseq/bacteria/Abiotrophia_sp./</td>\n",
       "      <td>Abiotrophia</td>\n",
       "      <td>Abiotrophia sp.</td>\n",
       "      <td>https://gcm.wdcm.org/search?search=Abiotrophia</td>\n",
       "      <td>https://gcm.wdcm.org/search?search=Abiotrophia&amp;list=isolate</td>\n",
       "    </tr>\n",
       "    <tr>\n",
       "      <th>3</th>\n",
       "      <td>Abiotrophia_sp._HMSC24B09</td>\n",
       "      <td>https://ftp.ncbi.nlm.nih.gov/genomes/refseq/bacteria/Abiotrophia_sp._HMSC24B09/</td>\n",
       "      <td>Abiotrophia</td>\n",
       "      <td>Abiotrophia sp. HMSC24B09</td>\n",
       "      <td>https://gcm.wdcm.org/search?search=Abiotrophia</td>\n",
       "      <td>https://gcm.wdcm.org/search?search=Abiotrophia&amp;list=isolate</td>\n",
       "    </tr>\n",
       "    <tr>\n",
       "      <th>4</th>\n",
       "      <td>Absicoccus_porci</td>\n",
       "      <td>https://ftp.ncbi.nlm.nih.gov/genomes/refseq/bacteria/Absicoccus_porci/</td>\n",
       "      <td>Absicoccus porci</td>\n",
       "      <td>Absicoccus porci</td>\n",
       "      <td>https://gcm.wdcm.org/search?search=Absicoccus porci</td>\n",
       "      <td>https://gcm.wdcm.org/search?search=Absicoccus porci&amp;list=isolate</td>\n",
       "    </tr>\n",
       "    <tr>\n",
       "      <th>...</th>\n",
       "      <td>...</td>\n",
       "      <td>...</td>\n",
       "      <td>...</td>\n",
       "      <td>...</td>\n",
       "      <td>...</td>\n",
       "      <td>...</td>\n",
       "    </tr>\n",
       "    <tr>\n",
       "      <th>52904</th>\n",
       "      <td>zeta_proteobacterium_SCGC_AB-137-J06</td>\n",
       "      <td>https://ftp.ncbi.nlm.nih.gov/genomes/refseq/bacteria/zeta_proteobacterium_SCGC_AB-137-J06/</td>\n",
       "      <td>zeta proteobacterium SCGC AB-137-J06</td>\n",
       "      <td>zeta proteobacterium SCGC AB-137-J06</td>\n",
       "      <td>https://gcm.wdcm.org/search?search=zeta proteobacterium SCGC AB-137-J06</td>\n",
       "      <td>https://gcm.wdcm.org/search?search=zeta proteobacterium SCGC AB-137-J06&amp;list=isolate</td>\n",
       "    </tr>\n",
       "    <tr>\n",
       "      <th>52905</th>\n",
       "      <td>zeta_proteobacterium_SCGC_AB-602-C20</td>\n",
       "      <td>https://ftp.ncbi.nlm.nih.gov/genomes/refseq/bacteria/zeta_proteobacterium_SCGC_AB-602-C20/</td>\n",
       "      <td>zeta proteobacterium SCGC AB-602-C20</td>\n",
       "      <td>zeta proteobacterium SCGC AB-602-C20</td>\n",
       "      <td>https://gcm.wdcm.org/search?search=zeta proteobacterium SCGC AB-602-C20</td>\n",
       "      <td>https://gcm.wdcm.org/search?search=zeta proteobacterium SCGC AB-602-C20&amp;list=isolate</td>\n",
       "    </tr>\n",
       "    <tr>\n",
       "      <th>52906</th>\n",
       "      <td>zeta_proteobacterium_SCGC_AB-602-E04</td>\n",
       "      <td>https://ftp.ncbi.nlm.nih.gov/genomes/refseq/bacteria/zeta_proteobacterium_SCGC_AB-602-E04/</td>\n",
       "      <td>zeta proteobacterium SCGC AB-602-E04</td>\n",
       "      <td>zeta proteobacterium SCGC AB-602-E04</td>\n",
       "      <td>https://gcm.wdcm.org/search?search=zeta proteobacterium SCGC AB-602-E04</td>\n",
       "      <td>https://gcm.wdcm.org/search?search=zeta proteobacterium SCGC AB-602-E04&amp;list=isolate</td>\n",
       "    </tr>\n",
       "    <tr>\n",
       "      <th>52907</th>\n",
       "      <td>zeta_proteobacterium_SCGC_AB-604-B04</td>\n",
       "      <td>https://ftp.ncbi.nlm.nih.gov/genomes/refseq/bacteria/zeta_proteobacterium_SCGC_AB-604-B04/</td>\n",
       "      <td>zeta proteobacterium SCGC AB-604-B04</td>\n",
       "      <td>zeta proteobacterium SCGC AB-604-B04</td>\n",
       "      <td>https://gcm.wdcm.org/search?search=zeta proteobacterium SCGC AB-604-B04</td>\n",
       "      <td>https://gcm.wdcm.org/search?search=zeta proteobacterium SCGC AB-604-B04&amp;list=isolate</td>\n",
       "    </tr>\n",
       "    <tr>\n",
       "      <th>52908</th>\n",
       "      <td>zeta_proteobacterium_SCGC_AB-604-O16</td>\n",
       "      <td>https://ftp.ncbi.nlm.nih.gov/genomes/refseq/bacteria/zeta_proteobacterium_SCGC_AB-604-O16/</td>\n",
       "      <td>zeta proteobacterium SCGC AB-604-O16</td>\n",
       "      <td>zeta proteobacterium SCGC AB-604-O16</td>\n",
       "      <td>https://gcm.wdcm.org/search?search=zeta proteobacterium SCGC AB-604-O16</td>\n",
       "      <td>https://gcm.wdcm.org/search?search=zeta proteobacterium SCGC AB-604-O16&amp;list=isolate</td>\n",
       "    </tr>\n",
       "  </tbody>\n",
       "</table>\n",
       "<p>52909 rows × 6 columns</p>\n",
       "</div>"
      ],
      "text/plain": [
       "                                       name   \n",
       "0               Abditibacterium_utsteinense  \\\n",
       "1                     Abiotrophia_defectiva   \n",
       "2                           Abiotrophia_sp.   \n",
       "3                 Abiotrophia_sp._HMSC24B09   \n",
       "4                          Absicoccus_porci   \n",
       "...                                     ...   \n",
       "52904  zeta_proteobacterium_SCGC_AB-137-J06   \n",
       "52905  zeta_proteobacterium_SCGC_AB-602-C20   \n",
       "52906  zeta_proteobacterium_SCGC_AB-602-E04   \n",
       "52907  zeta_proteobacterium_SCGC_AB-604-B04   \n",
       "52908  zeta_proteobacterium_SCGC_AB-604-O16   \n",
       "\n",
       "                                                                                              url   \n",
       "0               https://ftp.ncbi.nlm.nih.gov/genomes/refseq/bacteria/Abditibacterium_utsteinense/  \\\n",
       "1                     https://ftp.ncbi.nlm.nih.gov/genomes/refseq/bacteria/Abiotrophia_defectiva/   \n",
       "2                           https://ftp.ncbi.nlm.nih.gov/genomes/refseq/bacteria/Abiotrophia_sp./   \n",
       "3                 https://ftp.ncbi.nlm.nih.gov/genomes/refseq/bacteria/Abiotrophia_sp._HMSC24B09/   \n",
       "4                          https://ftp.ncbi.nlm.nih.gov/genomes/refseq/bacteria/Absicoccus_porci/   \n",
       "...                                                                                           ...   \n",
       "52904  https://ftp.ncbi.nlm.nih.gov/genomes/refseq/bacteria/zeta_proteobacterium_SCGC_AB-137-J06/   \n",
       "52905  https://ftp.ncbi.nlm.nih.gov/genomes/refseq/bacteria/zeta_proteobacterium_SCGC_AB-602-C20/   \n",
       "52906  https://ftp.ncbi.nlm.nih.gov/genomes/refseq/bacteria/zeta_proteobacterium_SCGC_AB-602-E04/   \n",
       "52907  https://ftp.ncbi.nlm.nih.gov/genomes/refseq/bacteria/zeta_proteobacterium_SCGC_AB-604-B04/   \n",
       "52908  https://ftp.ncbi.nlm.nih.gov/genomes/refseq/bacteria/zeta_proteobacterium_SCGC_AB-604-O16/   \n",
       "\n",
       "                         formatted_name_gcm   \n",
       "0               Abditibacterium utsteinense  \\\n",
       "1                     Abiotrophia defectiva   \n",
       "2                              Abiotrophia    \n",
       "3                              Abiotrophia    \n",
       "4                          Absicoccus porci   \n",
       "...                                     ...   \n",
       "52904  zeta proteobacterium SCGC AB-137-J06   \n",
       "52905  zeta proteobacterium SCGC AB-602-C20   \n",
       "52906  zeta proteobacterium SCGC AB-602-E04   \n",
       "52907  zeta proteobacterium SCGC AB-604-B04   \n",
       "52908  zeta proteobacterium SCGC AB-604-O16   \n",
       "\n",
       "                        formatted_name_ncbi   \n",
       "0               Abditibacterium utsteinense  \\\n",
       "1                     Abiotrophia defectiva   \n",
       "2                           Abiotrophia sp.   \n",
       "3                 Abiotrophia sp. HMSC24B09   \n",
       "4                          Absicoccus porci   \n",
       "...                                     ...   \n",
       "52904  zeta proteobacterium SCGC AB-137-J06   \n",
       "52905  zeta proteobacterium SCGC AB-602-C20   \n",
       "52906  zeta proteobacterium SCGC AB-602-E04   \n",
       "52907  zeta proteobacterium SCGC AB-604-B04   \n",
       "52908  zeta proteobacterium SCGC AB-604-O16   \n",
       "\n",
       "                                                                url_gcm_search   \n",
       "0               https://gcm.wdcm.org/search?search=Abditibacterium utsteinense  \\\n",
       "1                     https://gcm.wdcm.org/search?search=Abiotrophia defectiva   \n",
       "2                              https://gcm.wdcm.org/search?search=Abiotrophia    \n",
       "3                              https://gcm.wdcm.org/search?search=Abiotrophia    \n",
       "4                          https://gcm.wdcm.org/search?search=Absicoccus porci   \n",
       "...                                                                        ...   \n",
       "52904  https://gcm.wdcm.org/search?search=zeta proteobacterium SCGC AB-137-J06   \n",
       "52905  https://gcm.wdcm.org/search?search=zeta proteobacterium SCGC AB-602-C20   \n",
       "52906  https://gcm.wdcm.org/search?search=zeta proteobacterium SCGC AB-602-E04   \n",
       "52907  https://gcm.wdcm.org/search?search=zeta proteobacterium SCGC AB-604-B04   \n",
       "52908  https://gcm.wdcm.org/search?search=zeta proteobacterium SCGC AB-604-O16   \n",
       "\n",
       "                                                                      url_gcm_isolation_src  \n",
       "0               https://gcm.wdcm.org/search?search=Abditibacterium utsteinense&list=isolate  \n",
       "1                     https://gcm.wdcm.org/search?search=Abiotrophia defectiva&list=isolate  \n",
       "2                               https://gcm.wdcm.org/search?search=Abiotrophia&list=isolate  \n",
       "3                               https://gcm.wdcm.org/search?search=Abiotrophia&list=isolate  \n",
       "4                          https://gcm.wdcm.org/search?search=Absicoccus porci&list=isolate  \n",
       "...                                                                                     ...  \n",
       "52904  https://gcm.wdcm.org/search?search=zeta proteobacterium SCGC AB-137-J06&list=isolate  \n",
       "52905  https://gcm.wdcm.org/search?search=zeta proteobacterium SCGC AB-602-C20&list=isolate  \n",
       "52906  https://gcm.wdcm.org/search?search=zeta proteobacterium SCGC AB-602-E04&list=isolate  \n",
       "52907  https://gcm.wdcm.org/search?search=zeta proteobacterium SCGC AB-604-B04&list=isolate  \n",
       "52908  https://gcm.wdcm.org/search?search=zeta proteobacterium SCGC AB-604-O16&list=isolate  \n",
       "\n",
       "[52909 rows x 6 columns]"
      ]
     },
     "execution_count": 11,
     "metadata": {},
     "output_type": "execute_result"
    }
   ],
   "source": [
    "df_bacteria_name_formatting = pd.read_csv(PATH_DF_URLS_BACTERIA)\n",
    "df_bacteria_name_formatting"
   ]
  },
  {
   "cell_type": "code",
   "execution_count": 12,
   "metadata": {},
   "outputs": [
    {
     "data": {
      "text/html": [
       "<div>\n",
       "<style scoped>\n",
       "    .dataframe tbody tr th:only-of-type {\n",
       "        vertical-align: middle;\n",
       "    }\n",
       "\n",
       "    .dataframe tbody tr th {\n",
       "        vertical-align: top;\n",
       "    }\n",
       "\n",
       "    .dataframe thead th {\n",
       "        text-align: right;\n",
       "    }\n",
       "</style>\n",
       "<table border=\"1\" class=\"dataframe\">\n",
       "  <thead>\n",
       "    <tr style=\"text-align: right;\">\n",
       "      <th></th>\n",
       "      <th>name</th>\n",
       "      <th>url</th>\n",
       "      <th>formatted_name_gcm</th>\n",
       "      <th>formatted_name_ncbi</th>\n",
       "      <th>url_gcm_search</th>\n",
       "      <th>url_gcm_isolation_src</th>\n",
       "    </tr>\n",
       "  </thead>\n",
       "  <tbody>\n",
       "    <tr>\n",
       "      <th>543</th>\n",
       "      <td>Acinetobacter_soli</td>\n",
       "      <td>https://ftp.ncbi.nlm.nih.gov/genomes/refseq/bacteria/Acinetobacter_soli/</td>\n",
       "      <td>Acinetobacter soli</td>\n",
       "      <td>Acinetobacter soli</td>\n",
       "      <td>https://gcm.wdcm.org/search?search=Acinetobacter soli</td>\n",
       "      <td>https://gcm.wdcm.org/search?search=Acinetobacter soli&amp;list=isolate</td>\n",
       "    </tr>\n",
       "  </tbody>\n",
       "</table>\n",
       "</div>"
      ],
      "text/plain": [
       "                   name   \n",
       "543  Acinetobacter_soli  \\\n",
       "\n",
       "                                                                          url   \n",
       "543  https://ftp.ncbi.nlm.nih.gov/genomes/refseq/bacteria/Acinetobacter_soli/  \\\n",
       "\n",
       "     formatted_name_gcm formatted_name_ncbi   \n",
       "543  Acinetobacter soli  Acinetobacter soli  \\\n",
       "\n",
       "                                            url_gcm_search   \n",
       "543  https://gcm.wdcm.org/search?search=Acinetobacter soli  \\\n",
       "\n",
       "                                                  url_gcm_isolation_src  \n",
       "543  https://gcm.wdcm.org/search?search=Acinetobacter soli&list=isolate  "
      ]
     },
     "execution_count": 12,
     "metadata": {},
     "output_type": "execute_result"
    }
   ],
   "source": [
    "df_bacteria_name_formatting[ df_bacteria_name_formatting['url'] == 'https://ftp.ncbi.nlm.nih.gov/genomes/refseq/bacteria/Acinetobacter_soli/' ]"
   ]
  },
  {
   "cell_type": "code",
   "execution_count": 13,
   "metadata": {},
   "outputs": [
    {
     "data": {
      "text/html": [
       "<div>\n",
       "<style scoped>\n",
       "    .dataframe tbody tr th:only-of-type {\n",
       "        vertical-align: middle;\n",
       "    }\n",
       "\n",
       "    .dataframe tbody tr th {\n",
       "        vertical-align: top;\n",
       "    }\n",
       "\n",
       "    .dataframe thead th {\n",
       "        text-align: right;\n",
       "    }\n",
       "</style>\n",
       "<table border=\"1\" class=\"dataframe\">\n",
       "  <thead>\n",
       "    <tr style=\"text-align: right;\">\n",
       "      <th></th>\n",
       "      <th>name</th>\n",
       "      <th>url</th>\n",
       "      <th>formatted_name_gcm</th>\n",
       "      <th>formatted_name_ncbi</th>\n",
       "      <th>url_gcm_search</th>\n",
       "      <th>url_gcm_isolation_src</th>\n",
       "    </tr>\n",
       "  </thead>\n",
       "  <tbody>\n",
       "    <tr>\n",
       "      <th>542</th>\n",
       "      <td>Acinetobacter_silvestris</td>\n",
       "      <td>https://ftp.ncbi.nlm.nih.gov/genomes/refseq/bacteria/Acinetobacter_silvestris/</td>\n",
       "      <td>Acinetobacter silvestris</td>\n",
       "      <td>Acinetobacter silvestris</td>\n",
       "      <td>https://gcm.wdcm.org/search?search=Acinetobacter silvestris</td>\n",
       "      <td>https://gcm.wdcm.org/search?search=Acinetobacter silvestris&amp;list=isolate</td>\n",
       "    </tr>\n",
       "    <tr>\n",
       "      <th>543</th>\n",
       "      <td>Acinetobacter_soli</td>\n",
       "      <td>https://ftp.ncbi.nlm.nih.gov/genomes/refseq/bacteria/Acinetobacter_soli/</td>\n",
       "      <td>Acinetobacter soli</td>\n",
       "      <td>Acinetobacter soli</td>\n",
       "      <td>https://gcm.wdcm.org/search?search=Acinetobacter soli</td>\n",
       "      <td>https://gcm.wdcm.org/search?search=Acinetobacter soli&amp;list=isolate</td>\n",
       "    </tr>\n",
       "    <tr>\n",
       "      <th>544</th>\n",
       "      <td>Acinetobacter_sp.</td>\n",
       "      <td>https://ftp.ncbi.nlm.nih.gov/genomes/refseq/bacteria/Acinetobacter_sp./</td>\n",
       "      <td>Acinetobacter</td>\n",
       "      <td>Acinetobacter sp.</td>\n",
       "      <td>https://gcm.wdcm.org/search?search=Acinetobacter</td>\n",
       "      <td>https://gcm.wdcm.org/search?search=Acinetobacter&amp;list=isolate</td>\n",
       "    </tr>\n",
       "  </tbody>\n",
       "</table>\n",
       "</div>"
      ],
      "text/plain": [
       "                         name   \n",
       "542  Acinetobacter_silvestris  \\\n",
       "543        Acinetobacter_soli   \n",
       "544         Acinetobacter_sp.   \n",
       "\n",
       "                                                                                url   \n",
       "542  https://ftp.ncbi.nlm.nih.gov/genomes/refseq/bacteria/Acinetobacter_silvestris/  \\\n",
       "543        https://ftp.ncbi.nlm.nih.gov/genomes/refseq/bacteria/Acinetobacter_soli/   \n",
       "544         https://ftp.ncbi.nlm.nih.gov/genomes/refseq/bacteria/Acinetobacter_sp./   \n",
       "\n",
       "           formatted_name_gcm       formatted_name_ncbi   \n",
       "542  Acinetobacter silvestris  Acinetobacter silvestris  \\\n",
       "543        Acinetobacter soli        Acinetobacter soli   \n",
       "544            Acinetobacter          Acinetobacter sp.   \n",
       "\n",
       "                                                  url_gcm_search   \n",
       "542  https://gcm.wdcm.org/search?search=Acinetobacter silvestris  \\\n",
       "543        https://gcm.wdcm.org/search?search=Acinetobacter soli   \n",
       "544            https://gcm.wdcm.org/search?search=Acinetobacter    \n",
       "\n",
       "                                                        url_gcm_isolation_src  \n",
       "542  https://gcm.wdcm.org/search?search=Acinetobacter silvestris&list=isolate  \n",
       "543        https://gcm.wdcm.org/search?search=Acinetobacter soli&list=isolate  \n",
       "544             https://gcm.wdcm.org/search?search=Acinetobacter&list=isolate  "
      ]
     },
     "execution_count": 13,
     "metadata": {},
     "output_type": "execute_result"
    }
   ],
   "source": [
    "df_bacteria_name_formatting[542:545]"
   ]
  }
 ],
 "metadata": {
  "kernelspec": {
   "display_name": "web_scraping",
   "language": "python",
   "name": "python3"
  },
  "language_info": {
   "codemirror_mode": {
    "name": "ipython",
    "version": 3
   },
   "file_extension": ".py",
   "mimetype": "text/x-python",
   "name": "python",
   "nbconvert_exporter": "python",
   "pygments_lexer": "ipython3",
   "version": "3.11.3"
  }
 },
 "nbformat": 4,
 "nbformat_minor": 2
}
