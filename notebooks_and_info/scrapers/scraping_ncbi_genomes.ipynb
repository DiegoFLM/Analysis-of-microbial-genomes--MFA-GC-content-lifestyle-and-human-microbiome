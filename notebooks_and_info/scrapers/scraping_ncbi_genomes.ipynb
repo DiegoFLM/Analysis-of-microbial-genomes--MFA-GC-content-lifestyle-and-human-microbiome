{
 "cells": [
  {
   "cell_type": "code",
   "execution_count": 1,
   "metadata": {},
   "outputs": [],
   "source": [
    "import numpy as np\n",
    "import pandas as pd\n",
    "import scrapy\n",
    "import requests\n",
    "from lxml import etree\n",
    "from bs4 import BeautifulSoup\n",
    "from urllib.parse import urljoin\n",
    "from io import StringIO\n",
    "from scrapy.crawler import CrawlerProcess\n",
    "from scrapy.pipelines.files import FilesPipeline\n",
    "from urllib.parse import urlparse\n",
    "from pathlib import Path\n",
    "import time\n",
    "import datetime"
   ]
  },
  {
   "cell_type": "markdown",
   "metadata": {},
   "source": [
    "# Constants"
   ]
  },
  {
   "cell_type": "code",
   "execution_count": 2,
   "metadata": {},
   "outputs": [
    {
     "data": {
      "text/plain": [
       "True"
      ]
     },
     "execution_count": 2,
     "metadata": {},
     "output_type": "execute_result"
    }
   ],
   "source": [
    "PATH_DATA = Path.cwd().parent.parent / 'data'\n",
    "PATH_DATA.exists()"
   ]
  },
  {
   "cell_type": "code",
   "execution_count": 3,
   "metadata": {},
   "outputs": [
    {
     "data": {
      "text/plain": [
       "True"
      ]
     },
     "execution_count": 3,
     "metadata": {},
     "output_type": "execute_result"
    }
   ],
   "source": [
    "PATH_SCRAPED = PATH_DATA / 'raw' / 'scraped'\n",
    "PATH_SCRAPED.exists()"
   ]
  },
  {
   "cell_type": "code",
   "execution_count": 4,
   "metadata": {},
   "outputs": [
    {
     "data": {
      "text/plain": [
       "True"
      ]
     },
     "execution_count": 4,
     "metadata": {},
     "output_type": "execute_result"
    }
   ],
   "source": [
    "PATH_GENOMIC_FNA = PATH_DATA / 'raw' / 'genomes' \\\n",
    "    / 'archaea' / 'genomic_fna'\n",
    "PATH_GENOMIC_FNA.exists()"
   ]
  },
  {
   "cell_type": "code",
   "execution_count": 5,
   "metadata": {},
   "outputs": [
    {
     "data": {
      "text/plain": [
       "True"
      ]
     },
     "execution_count": 5,
     "metadata": {},
     "output_type": "execute_result"
    }
   ],
   "source": [
    "PATH_TEMP_GENOMIC_FNA = PATH_DATA / 'raw' / 'genomes' \\\n",
    "    / 'archaea' / 'temp_genomic_fna'\n",
    "PATH_TEMP_GENOMIC_FNA.exists()"
   ]
  },
  {
   "cell_type": "code",
   "execution_count": 6,
   "metadata": {},
   "outputs": [
    {
     "data": {
      "text/plain": [
       "True"
      ]
     },
     "execution_count": 6,
     "metadata": {},
     "output_type": "execute_result"
    }
   ],
   "source": [
    "PATH_GENOMIC_BACTERIA_FNA = PATH_DATA / 'raw' / 'genomes' \\\n",
    "    / 'bacteria' / 'genomic_fna'\n",
    "PATH_GENOMIC_BACTERIA_FNA.exists()"
   ]
  },
  {
   "cell_type": "code",
   "execution_count": 7,
   "metadata": {},
   "outputs": [
    {
     "data": {
      "text/plain": [
       "True"
      ]
     },
     "execution_count": 7,
     "metadata": {},
     "output_type": "execute_result"
    }
   ],
   "source": [
    "PATH_TEMP_BACTERIA_GENOMIC_FNA = PATH_DATA / 'raw' / 'genomes' \\\n",
    "    / 'bacteria' / 'temp_genomic_fna'\n",
    "PATH_TEMP_BACTERIA_GENOMIC_FNA.exists()"
   ]
  },
  {
   "cell_type": "code",
   "execution_count": 8,
   "metadata": {},
   "outputs": [
    {
     "data": {
      "text/plain": [
       "True"
      ]
     },
     "execution_count": 8,
     "metadata": {},
     "output_type": "execute_result"
    }
   ],
   "source": [
    "PATH_RESULTS_BACTERIA = (PATH_DATA / \"results\" / \"bacteria\")\n",
    "PATH_RESULTS_BACTERIA.exists()"
   ]
  },
  {
   "cell_type": "markdown",
   "metadata": {},
   "source": [
    "# Data Recovery"
   ]
  },
  {
   "cell_type": "markdown",
   "metadata": {},
   "source": [
    "## archaea"
   ]
  },
  {
   "cell_type": "code",
   "execution_count": 6,
   "metadata": {},
   "outputs": [
    {
     "data": {
      "text/html": [
       "<div>\n",
       "<style scoped>\n",
       "    .dataframe tbody tr th:only-of-type {\n",
       "        vertical-align: middle;\n",
       "    }\n",
       "\n",
       "    .dataframe tbody tr th {\n",
       "        vertical-align: top;\n",
       "    }\n",
       "\n",
       "    .dataframe thead th {\n",
       "        text-align: right;\n",
       "    }\n",
       "</style>\n",
       "<table border=\"1\" class=\"dataframe\">\n",
       "  <thead>\n",
       "    <tr style=\"text-align: right;\">\n",
       "      <th></th>\n",
       "      <th>name</th>\n",
       "      <th>url</th>\n",
       "    </tr>\n",
       "  </thead>\n",
       "  <tbody>\n",
       "    <tr>\n",
       "      <th>0</th>\n",
       "      <td>ANME-2_cluster_archaeon_HR1</td>\n",
       "      <td>https://ftp.ncbi.nlm.nih.gov/genomes/refseq/ar...</td>\n",
       "    </tr>\n",
       "    <tr>\n",
       "      <th>1</th>\n",
       "      <td>Acidianus_ambivalens</td>\n",
       "      <td>https://ftp.ncbi.nlm.nih.gov/genomes/refseq/ar...</td>\n",
       "    </tr>\n",
       "    <tr>\n",
       "      <th>2</th>\n",
       "      <td>Acidianus_brierleyi</td>\n",
       "      <td>https://ftp.ncbi.nlm.nih.gov/genomes/refseq/ar...</td>\n",
       "    </tr>\n",
       "    <tr>\n",
       "      <th>3</th>\n",
       "      <td>Acidianus_hospitalis</td>\n",
       "      <td>https://ftp.ncbi.nlm.nih.gov/genomes/refseq/ar...</td>\n",
       "    </tr>\n",
       "    <tr>\n",
       "      <th>4</th>\n",
       "      <td>Acidianus_infernus</td>\n",
       "      <td>https://ftp.ncbi.nlm.nih.gov/genomes/refseq/ar...</td>\n",
       "    </tr>\n",
       "    <tr>\n",
       "      <th>...</th>\n",
       "      <td>...</td>\n",
       "      <td>...</td>\n",
       "    </tr>\n",
       "    <tr>\n",
       "      <th>1232</th>\n",
       "      <td>uncultured_Nitrososphaera_sp.</td>\n",
       "      <td>https://ftp.ncbi.nlm.nih.gov/genomes/refseq/ar...</td>\n",
       "    </tr>\n",
       "    <tr>\n",
       "      <th>1233</th>\n",
       "      <td>uncultured_archaeon_A07HB70</td>\n",
       "      <td>https://ftp.ncbi.nlm.nih.gov/genomes/refseq/ar...</td>\n",
       "    </tr>\n",
       "    <tr>\n",
       "      <th>1234</th>\n",
       "      <td>uncultured_archaeon_A07HN63</td>\n",
       "      <td>https://ftp.ncbi.nlm.nih.gov/genomes/refseq/ar...</td>\n",
       "    </tr>\n",
       "    <tr>\n",
       "      <th>1235</th>\n",
       "      <td>uncultured_archaeon_A07HR60</td>\n",
       "      <td>https://ftp.ncbi.nlm.nih.gov/genomes/refseq/ar...</td>\n",
       "    </tr>\n",
       "    <tr>\n",
       "      <th>1236</th>\n",
       "      <td>uncultured_archaeon_A07HR67</td>\n",
       "      <td>https://ftp.ncbi.nlm.nih.gov/genomes/refseq/ar...</td>\n",
       "    </tr>\n",
       "  </tbody>\n",
       "</table>\n",
       "<p>1237 rows × 2 columns</p>\n",
       "</div>"
      ],
      "text/plain": [
       "                               name   \n",
       "0       ANME-2_cluster_archaeon_HR1  \\\n",
       "1              Acidianus_ambivalens   \n",
       "2               Acidianus_brierleyi   \n",
       "3              Acidianus_hospitalis   \n",
       "4                Acidianus_infernus   \n",
       "...                             ...   \n",
       "1232  uncultured_Nitrososphaera_sp.   \n",
       "1233    uncultured_archaeon_A07HB70   \n",
       "1234    uncultured_archaeon_A07HN63   \n",
       "1235    uncultured_archaeon_A07HR60   \n",
       "1236    uncultured_archaeon_A07HR67   \n",
       "\n",
       "                                                    url  \n",
       "0     https://ftp.ncbi.nlm.nih.gov/genomes/refseq/ar...  \n",
       "1     https://ftp.ncbi.nlm.nih.gov/genomes/refseq/ar...  \n",
       "2     https://ftp.ncbi.nlm.nih.gov/genomes/refseq/ar...  \n",
       "3     https://ftp.ncbi.nlm.nih.gov/genomes/refseq/ar...  \n",
       "4     https://ftp.ncbi.nlm.nih.gov/genomes/refseq/ar...  \n",
       "...                                                 ...  \n",
       "1232  https://ftp.ncbi.nlm.nih.gov/genomes/refseq/ar...  \n",
       "1233  https://ftp.ncbi.nlm.nih.gov/genomes/refseq/ar...  \n",
       "1234  https://ftp.ncbi.nlm.nih.gov/genomes/refseq/ar...  \n",
       "1235  https://ftp.ncbi.nlm.nih.gov/genomes/refseq/ar...  \n",
       "1236  https://ftp.ncbi.nlm.nih.gov/genomes/refseq/ar...  \n",
       "\n",
       "[1237 rows x 2 columns]"
      ]
     },
     "execution_count": 6,
     "metadata": {},
     "output_type": "execute_result"
    }
   ],
   "source": [
    "df_archaea = pd.read_csv(PATH_DATA / 'raw' / \\\n",
    "    'scraped' / 'archaea_name_url.csv')\n",
    "df_archaea"
   ]
  },
  {
   "cell_type": "code",
   "execution_count": 7,
   "metadata": {},
   "outputs": [
    {
     "name": "stdout",
     "output_type": "stream",
     "text": [
      "1237\n"
     ]
    },
    {
     "data": {
      "text/plain": [
       "array(['https://ftp.ncbi.nlm.nih.gov/genomes/refseq/archaea/ANME-2_cluster_archaeon_HR1/',\n",
       "       'https://ftp.ncbi.nlm.nih.gov/genomes/refseq/archaea/Acidianus_ambivalens/',\n",
       "       'https://ftp.ncbi.nlm.nih.gov/genomes/refseq/archaea/Acidianus_brierleyi/',\n",
       "       ...,\n",
       "       'https://ftp.ncbi.nlm.nih.gov/genomes/refseq/archaea/uncultured_archaeon_A07HN63/',\n",
       "       'https://ftp.ncbi.nlm.nih.gov/genomes/refseq/archaea/uncultured_archaeon_A07HR60/',\n",
       "       'https://ftp.ncbi.nlm.nih.gov/genomes/refseq/archaea/uncultured_archaeon_A07HR67/'],\n",
       "      dtype=object)"
      ]
     },
     "execution_count": 7,
     "metadata": {},
     "output_type": "execute_result"
    }
   ],
   "source": [
    "urls_archaea_organisms = df_archaea['url'].values\n",
    "print(len(urls_archaea_organisms))\n",
    "urls_archaea_organisms"
   ]
  },
  {
   "cell_type": "markdown",
   "metadata": {},
   "source": [
    "## bacteria"
   ]
  },
  {
   "cell_type": "code",
   "execution_count": 9,
   "metadata": {},
   "outputs": [
    {
     "data": {
      "text/html": [
       "<div>\n",
       "<style scoped>\n",
       "    .dataframe tbody tr th:only-of-type {\n",
       "        vertical-align: middle;\n",
       "    }\n",
       "\n",
       "    .dataframe tbody tr th {\n",
       "        vertical-align: top;\n",
       "    }\n",
       "\n",
       "    .dataframe thead th {\n",
       "        text-align: right;\n",
       "    }\n",
       "</style>\n",
       "<table border=\"1\" class=\"dataframe\">\n",
       "  <thead>\n",
       "    <tr style=\"text-align: right;\">\n",
       "      <th></th>\n",
       "      <th>name</th>\n",
       "      <th>url</th>\n",
       "    </tr>\n",
       "  </thead>\n",
       "  <tbody>\n",
       "    <tr>\n",
       "      <th>0</th>\n",
       "      <td>Abditibacterium_utsteinense</td>\n",
       "      <td>https://ftp.ncbi.nlm.nih.gov/genomes/refseq/ba...</td>\n",
       "    </tr>\n",
       "    <tr>\n",
       "      <th>1</th>\n",
       "      <td>Abiotrophia_defectiva</td>\n",
       "      <td>https://ftp.ncbi.nlm.nih.gov/genomes/refseq/ba...</td>\n",
       "    </tr>\n",
       "    <tr>\n",
       "      <th>2</th>\n",
       "      <td>Abiotrophia_sp.</td>\n",
       "      <td>https://ftp.ncbi.nlm.nih.gov/genomes/refseq/ba...</td>\n",
       "    </tr>\n",
       "    <tr>\n",
       "      <th>3</th>\n",
       "      <td>Abiotrophia_sp._HMSC24B09</td>\n",
       "      <td>https://ftp.ncbi.nlm.nih.gov/genomes/refseq/ba...</td>\n",
       "    </tr>\n",
       "    <tr>\n",
       "      <th>4</th>\n",
       "      <td>Absicoccus_porci</td>\n",
       "      <td>https://ftp.ncbi.nlm.nih.gov/genomes/refseq/ba...</td>\n",
       "    </tr>\n",
       "    <tr>\n",
       "      <th>...</th>\n",
       "      <td>...</td>\n",
       "      <td>...</td>\n",
       "    </tr>\n",
       "    <tr>\n",
       "      <th>52904</th>\n",
       "      <td>zeta_proteobacterium_SCGC_AB-137-J06</td>\n",
       "      <td>https://ftp.ncbi.nlm.nih.gov/genomes/refseq/ba...</td>\n",
       "    </tr>\n",
       "    <tr>\n",
       "      <th>52905</th>\n",
       "      <td>zeta_proteobacterium_SCGC_AB-602-C20</td>\n",
       "      <td>https://ftp.ncbi.nlm.nih.gov/genomes/refseq/ba...</td>\n",
       "    </tr>\n",
       "    <tr>\n",
       "      <th>52906</th>\n",
       "      <td>zeta_proteobacterium_SCGC_AB-602-E04</td>\n",
       "      <td>https://ftp.ncbi.nlm.nih.gov/genomes/refseq/ba...</td>\n",
       "    </tr>\n",
       "    <tr>\n",
       "      <th>52907</th>\n",
       "      <td>zeta_proteobacterium_SCGC_AB-604-B04</td>\n",
       "      <td>https://ftp.ncbi.nlm.nih.gov/genomes/refseq/ba...</td>\n",
       "    </tr>\n",
       "    <tr>\n",
       "      <th>52908</th>\n",
       "      <td>zeta_proteobacterium_SCGC_AB-604-O16</td>\n",
       "      <td>https://ftp.ncbi.nlm.nih.gov/genomes/refseq/ba...</td>\n",
       "    </tr>\n",
       "  </tbody>\n",
       "</table>\n",
       "<p>52909 rows × 2 columns</p>\n",
       "</div>"
      ],
      "text/plain": [
       "                                       name   \n",
       "0               Abditibacterium_utsteinense  \\\n",
       "1                     Abiotrophia_defectiva   \n",
       "2                           Abiotrophia_sp.   \n",
       "3                 Abiotrophia_sp._HMSC24B09   \n",
       "4                          Absicoccus_porci   \n",
       "...                                     ...   \n",
       "52904  zeta_proteobacterium_SCGC_AB-137-J06   \n",
       "52905  zeta_proteobacterium_SCGC_AB-602-C20   \n",
       "52906  zeta_proteobacterium_SCGC_AB-602-E04   \n",
       "52907  zeta_proteobacterium_SCGC_AB-604-B04   \n",
       "52908  zeta_proteobacterium_SCGC_AB-604-O16   \n",
       "\n",
       "                                                     url  \n",
       "0      https://ftp.ncbi.nlm.nih.gov/genomes/refseq/ba...  \n",
       "1      https://ftp.ncbi.nlm.nih.gov/genomes/refseq/ba...  \n",
       "2      https://ftp.ncbi.nlm.nih.gov/genomes/refseq/ba...  \n",
       "3      https://ftp.ncbi.nlm.nih.gov/genomes/refseq/ba...  \n",
       "4      https://ftp.ncbi.nlm.nih.gov/genomes/refseq/ba...  \n",
       "...                                                  ...  \n",
       "52904  https://ftp.ncbi.nlm.nih.gov/genomes/refseq/ba...  \n",
       "52905  https://ftp.ncbi.nlm.nih.gov/genomes/refseq/ba...  \n",
       "52906  https://ftp.ncbi.nlm.nih.gov/genomes/refseq/ba...  \n",
       "52907  https://ftp.ncbi.nlm.nih.gov/genomes/refseq/ba...  \n",
       "52908  https://ftp.ncbi.nlm.nih.gov/genomes/refseq/ba...  \n",
       "\n",
       "[52909 rows x 2 columns]"
      ]
     },
     "execution_count": 9,
     "metadata": {},
     "output_type": "execute_result"
    }
   ],
   "source": [
    "df_bacteria = pd.read_csv(PATH_DATA / 'raw' / \\\n",
    "    'scraped' / 'bacteria_name_url.csv')\n",
    "df_bacteria"
   ]
  },
  {
   "cell_type": "code",
   "execution_count": 10,
   "metadata": {},
   "outputs": [
    {
     "name": "stdout",
     "output_type": "stream",
     "text": [
      "52909\n"
     ]
    },
    {
     "data": {
      "text/plain": [
       "array(['https://ftp.ncbi.nlm.nih.gov/genomes/refseq/bacteria/Abditibacterium_utsteinense/',\n",
       "       'https://ftp.ncbi.nlm.nih.gov/genomes/refseq/bacteria/Abiotrophia_defectiva/',\n",
       "       'https://ftp.ncbi.nlm.nih.gov/genomes/refseq/bacteria/Abiotrophia_sp./',\n",
       "       ...,\n",
       "       'https://ftp.ncbi.nlm.nih.gov/genomes/refseq/bacteria/zeta_proteobacterium_SCGC_AB-602-E04/',\n",
       "       'https://ftp.ncbi.nlm.nih.gov/genomes/refseq/bacteria/zeta_proteobacterium_SCGC_AB-604-B04/',\n",
       "       'https://ftp.ncbi.nlm.nih.gov/genomes/refseq/bacteria/zeta_proteobacterium_SCGC_AB-604-O16/'],\n",
       "      dtype=object)"
      ]
     },
     "execution_count": 10,
     "metadata": {},
     "output_type": "execute_result"
    }
   ],
   "source": [
    "urls_bacteria_organisms = df_bacteria['url'].values\n",
    "print(len(urls_bacteria_organisms))\n",
    "urls_bacteria_organisms"
   ]
  },
  {
   "cell_type": "code",
   "execution_count": 11,
   "metadata": {},
   "outputs": [
    {
     "data": {
      "text/html": [
       "<div>\n",
       "<style scoped>\n",
       "    .dataframe tbody tr th:only-of-type {\n",
       "        vertical-align: middle;\n",
       "    }\n",
       "\n",
       "    .dataframe tbody tr th {\n",
       "        vertical-align: top;\n",
       "    }\n",
       "\n",
       "    .dataframe thead th {\n",
       "        text-align: right;\n",
       "    }\n",
       "</style>\n",
       "<table border=\"1\" class=\"dataframe\">\n",
       "  <thead>\n",
       "    <tr style=\"text-align: right;\">\n",
       "      <th></th>\n",
       "      <th>Organism</th>\n",
       "      <th>path</th>\n",
       "      <th>seq_length</th>\n",
       "      <th>GC_content</th>\n",
       "      <th>Q</th>\n",
       "      <th>Tau(Q)</th>\n",
       "      <th>D(Q)</th>\n",
       "      <th>r_squared</th>\n",
       "      <th>Delta_Dq</th>\n",
       "    </tr>\n",
       "  </thead>\n",
       "  <tbody>\n",
       "    <tr>\n",
       "      <th>0</th>\n",
       "      <td>pseudodesulfovibrio_indicus</td>\n",
       "      <td>/home/diegoflm/Documents/UV/courses_and_subjec...</td>\n",
       "      <td>3966573</td>\n",
       "      <td>0,634883563216913</td>\n",
       "      <td>-20,0</td>\n",
       "      <td>-58,22372404009182</td>\n",
       "      <td>2,77255828762342</td>\n",
       "      <td>0,998439748513986</td>\n",
       "      <td>1,2478087067971309</td>\n",
       "    </tr>\n",
       "    <tr>\n",
       "      <th>1</th>\n",
       "      <td>pseudodesulfovibrio_indicus</td>\n",
       "      <td>/home/diegoflm/Documents/UV/courses_and_subjec...</td>\n",
       "      <td>3966573</td>\n",
       "      <td>0,634883563216913</td>\n",
       "      <td>-19,0</td>\n",
       "      <td>-55,31755996878647</td>\n",
       "      <td>2,7658779984393234</td>\n",
       "      <td>0,9984547716999835</td>\n",
       "      <td>1,2478087067971309</td>\n",
       "    </tr>\n",
       "    <tr>\n",
       "      <th>2</th>\n",
       "      <td>pseudodesulfovibrio_indicus</td>\n",
       "      <td>/home/diegoflm/Documents/UV/courses_and_subjec...</td>\n",
       "      <td>3966573</td>\n",
       "      <td>0,634883563216913</td>\n",
       "      <td>-18,0</td>\n",
       "      <td>-52,41184580682713</td>\n",
       "      <td>2,7585182003593225</td>\n",
       "      <td>0,9984714685532762</td>\n",
       "      <td>1,2478087067971309</td>\n",
       "    </tr>\n",
       "    <tr>\n",
       "      <th>3</th>\n",
       "      <td>pseudodesulfovibrio_indicus</td>\n",
       "      <td>/home/diegoflm/Documents/UV/courses_and_subjec...</td>\n",
       "      <td>3966573</td>\n",
       "      <td>0,634883563216913</td>\n",
       "      <td>-17,0</td>\n",
       "      <td>-49,506696847686705</td>\n",
       "      <td>2,750372047093706</td>\n",
       "      <td>0,9984901100821286</td>\n",
       "      <td>1,2478087067971309</td>\n",
       "    </tr>\n",
       "    <tr>\n",
       "      <th>4</th>\n",
       "      <td>pseudodesulfovibrio_indicus</td>\n",
       "      <td>/home/diegoflm/Documents/UV/courses_and_subjec...</td>\n",
       "      <td>3966573</td>\n",
       "      <td>0,634883563216913</td>\n",
       "      <td>-16,0</td>\n",
       "      <td>-46,602267713291056</td>\n",
       "      <td>2,7413098654877093</td>\n",
       "      <td>0,9985110304927113</td>\n",
       "      <td>1,2478087067971309</td>\n",
       "    </tr>\n",
       "    <tr>\n",
       "      <th>...</th>\n",
       "      <td>...</td>\n",
       "      <td>...</td>\n",
       "      <td>...</td>\n",
       "      <td>...</td>\n",
       "      <td>...</td>\n",
       "      <td>...</td>\n",
       "      <td>...</td>\n",
       "      <td>...</td>\n",
       "      <td>...</td>\n",
       "    </tr>\n",
       "    <tr>\n",
       "      <th>3417591</th>\n",
       "      <td>zymomonas_sp._segment_3</td>\n",
       "      <td>/home/diegoflm/Documents/UV/courses_and_subjec...</td>\n",
       "      <td>640617</td>\n",
       "      <td>0,45795381639887794</td>\n",
       "      <td>16,0</td>\n",
       "      <td>24,041505273994705</td>\n",
       "      <td>1,6027670182663136</td>\n",
       "      <td>0,9983998418704588</td>\n",
       "      <td>1,2856818438370474</td>\n",
       "    </tr>\n",
       "    <tr>\n",
       "      <th>3417592</th>\n",
       "      <td>zymomonas_sp._segment_3</td>\n",
       "      <td>/home/diegoflm/Documents/UV/courses_and_subjec...</td>\n",
       "      <td>640617</td>\n",
       "      <td>0,45795381639887794</td>\n",
       "      <td>17,0</td>\n",
       "      <td>25,564688499910517</td>\n",
       "      <td>1,5977930312444073</td>\n",
       "      <td>0,9983302561291089</td>\n",
       "      <td>1,2856818438370474</td>\n",
       "    </tr>\n",
       "    <tr>\n",
       "      <th>3417593</th>\n",
       "      <td>zymomonas_sp._segment_3</td>\n",
       "      <td>/home/diegoflm/Documents/UV/courses_and_subjec...</td>\n",
       "      <td>640617</td>\n",
       "      <td>0,45795381639887794</td>\n",
       "      <td>18,0</td>\n",
       "      <td>27,08653137280582</td>\n",
       "      <td>1,5933253748709306</td>\n",
       "      <td>0,9982699578190471</td>\n",
       "      <td>1,2856818438370474</td>\n",
       "    </tr>\n",
       "    <tr>\n",
       "      <th>3417594</th>\n",
       "      <td>zymomonas_sp._segment_3</td>\n",
       "      <td>/home/diegoflm/Documents/UV/courses_and_subjec...</td>\n",
       "      <td>640617</td>\n",
       "      <td>0,45795381639887794</td>\n",
       "      <td>19,0</td>\n",
       "      <td>28,607184008911975</td>\n",
       "      <td>1,5892880004951098</td>\n",
       "      <td>0,9982175466913437</td>\n",
       "      <td>1,2856818438370474</td>\n",
       "    </tr>\n",
       "    <tr>\n",
       "      <th>3417595</th>\n",
       "      <td>zymomonas_sp._segment_3</td>\n",
       "      <td>/home/diegoflm/Documents/UV/courses_and_subjec...</td>\n",
       "      <td>640617</td>\n",
       "      <td>0,45795381639887794</td>\n",
       "      <td>20,0</td>\n",
       "      <td>30,126769923329796</td>\n",
       "      <td>1,5856194696489367</td>\n",
       "      <td>0,9981718483610235</td>\n",
       "      <td>1,2856818438370474</td>\n",
       "    </tr>\n",
       "  </tbody>\n",
       "</table>\n",
       "<p>3417596 rows × 9 columns</p>\n",
       "</div>"
      ],
      "text/plain": [
       "                            Organism   \n",
       "0        pseudodesulfovibrio_indicus  \\\n",
       "1        pseudodesulfovibrio_indicus   \n",
       "2        pseudodesulfovibrio_indicus   \n",
       "3        pseudodesulfovibrio_indicus   \n",
       "4        pseudodesulfovibrio_indicus   \n",
       "...                              ...   \n",
       "3417591      zymomonas_sp._segment_3   \n",
       "3417592      zymomonas_sp._segment_3   \n",
       "3417593      zymomonas_sp._segment_3   \n",
       "3417594      zymomonas_sp._segment_3   \n",
       "3417595      zymomonas_sp._segment_3   \n",
       "\n",
       "                                                      path  seq_length   \n",
       "0        /home/diegoflm/Documents/UV/courses_and_subjec...     3966573  \\\n",
       "1        /home/diegoflm/Documents/UV/courses_and_subjec...     3966573   \n",
       "2        /home/diegoflm/Documents/UV/courses_and_subjec...     3966573   \n",
       "3        /home/diegoflm/Documents/UV/courses_and_subjec...     3966573   \n",
       "4        /home/diegoflm/Documents/UV/courses_and_subjec...     3966573   \n",
       "...                                                    ...         ...   \n",
       "3417591  /home/diegoflm/Documents/UV/courses_and_subjec...      640617   \n",
       "3417592  /home/diegoflm/Documents/UV/courses_and_subjec...      640617   \n",
       "3417593  /home/diegoflm/Documents/UV/courses_and_subjec...      640617   \n",
       "3417594  /home/diegoflm/Documents/UV/courses_and_subjec...      640617   \n",
       "3417595  /home/diegoflm/Documents/UV/courses_and_subjec...      640617   \n",
       "\n",
       "                  GC_content      Q               Tau(Q)                D(Q)   \n",
       "0          0,634883563216913  -20,0   -58,22372404009182    2,77255828762342  \\\n",
       "1          0,634883563216913  -19,0   -55,31755996878647  2,7658779984393234   \n",
       "2          0,634883563216913  -18,0   -52,41184580682713  2,7585182003593225   \n",
       "3          0,634883563216913  -17,0  -49,506696847686705   2,750372047093706   \n",
       "4          0,634883563216913  -16,0  -46,602267713291056  2,7413098654877093   \n",
       "...                      ...    ...                  ...                 ...   \n",
       "3417591  0,45795381639887794   16,0   24,041505273994705  1,6027670182663136   \n",
       "3417592  0,45795381639887794   17,0   25,564688499910517  1,5977930312444073   \n",
       "3417593  0,45795381639887794   18,0    27,08653137280582  1,5933253748709306   \n",
       "3417594  0,45795381639887794   19,0   28,607184008911975  1,5892880004951098   \n",
       "3417595  0,45795381639887794   20,0   30,126769923329796  1,5856194696489367   \n",
       "\n",
       "                  r_squared            Delta_Dq  \n",
       "0         0,998439748513986  1,2478087067971309  \n",
       "1        0,9984547716999835  1,2478087067971309  \n",
       "2        0,9984714685532762  1,2478087067971309  \n",
       "3        0,9984901100821286  1,2478087067971309  \n",
       "4        0,9985110304927113  1,2478087067971309  \n",
       "...                     ...                 ...  \n",
       "3417591  0,9983998418704588  1,2856818438370474  \n",
       "3417592  0,9983302561291089  1,2856818438370474  \n",
       "3417593  0,9982699578190471  1,2856818438370474  \n",
       "3417594  0,9982175466913437  1,2856818438370474  \n",
       "3417595  0,9981718483610235  1,2856818438370474  \n",
       "\n",
       "[3417596 rows x 9 columns]"
      ]
     },
     "execution_count": 11,
     "metadata": {},
     "output_type": "execute_result"
    }
   ],
   "source": [
    "df_mfa_bacteria = pd.read_csv(PATH_RESULTS_BACTERIA / 'mfa_bacteria_35000_52909_pow7.csv', sep=';')\n",
    "df_mfa_bacteria"
   ]
  },
  {
   "cell_type": "code",
   "execution_count": 12,
   "metadata": {},
   "outputs": [
    {
     "data": {
      "text/plain": [
       "array(['zwartia_vadi_segment_1', 'zwartia_vadi_segment_2',\n",
       "       'zwartia_vadi_segment_3', 'zymobacter_palmae',\n",
       "       'zymobacter_palmae_segment_1', 'zymobacter_palmae_segment_2',\n",
       "       'zymobacter_palmae_segment_3', 'zymomonas_mobilis',\n",
       "       'zymomonas_mobilis_segment_1', 'zymomonas_mobilis_segment_2',\n",
       "       'zymomonas_mobilis_segment_3', 'zymomonas_sp.',\n",
       "       'zymomonas_sp._segment_1', 'zymomonas_sp._segment_2',\n",
       "       'zymomonas_sp._segment_3'], dtype=object)"
      ]
     },
     "execution_count": 12,
     "metadata": {},
     "output_type": "execute_result"
    }
   ],
   "source": [
    "df_mfa_bacteria['Organism'].unique()[-15:]"
   ]
  },
  {
   "cell_type": "markdown",
   "metadata": {},
   "source": [
    "# Genome Scrapers"
   ]
  },
  {
   "cell_type": "markdown",
   "metadata": {},
   "source": [
    "## Requests"
   ]
  },
  {
   "cell_type": "code",
   "execution_count": 8,
   "metadata": {},
   "outputs": [
    {
     "name": "stdout",
     "output_type": "stream",
     "text": [
      "200\n"
     ]
    }
   ],
   "source": [
    "# ANME-2_cluster_archaeon_HR1\n",
    "\n",
    "try:\n",
    "    request_archaea_0 = requests.get(urls_archaea_organisms[0])\n",
    "    print(request_archaea_0.status_code)\n",
    "except Exception as e:\n",
    "    print(e)"
   ]
  },
  {
   "cell_type": "code",
   "execution_count": 9,
   "metadata": {},
   "outputs": [
    {
     "data": {
      "text/plain": [
       "bs4.BeautifulSoup"
      ]
     },
     "execution_count": 9,
     "metadata": {},
     "output_type": "execute_result"
    }
   ],
   "source": [
    "soup_archaea_0 = BeautifulSoup(request_archaea_0.text, 'html.parser')\n",
    "type(soup_archaea_0)"
   ]
  },
  {
   "cell_type": "code",
   "execution_count": 10,
   "metadata": {},
   "outputs": [
    {
     "data": {
      "text/plain": [
       "<!DOCTYPE HTML PUBLIC \"-//W3C//DTD HTML 3.2 Final//EN\">\n",
       "\n",
       "<html>\n",
       "<head>\n",
       "<title>Index of /genomes/refseq/archaea/ANME-2_cluster_archaeon_HR1</title>\n",
       "</head>\n",
       "<body>\n",
       "<h1>Index of /genomes/refseq/archaea/ANME-2_cluster_archaeon_HR1</h1>\n",
       "<pre>Name                            Last modified      Size  <hr/><a href=\"/genomes/refseq/archaea/\">Parent Directory</a>                                     -   \n",
       "<a href=\"all_assembly_versions/\">all_assembly_versions/</a>          2024-03-18 00:38    -   \n",
       "<a href=\"annotation_hashes.txt\">annotation_hashes.txt</a>           2024-03-16 19:37  410   \n",
       "<a href=\"assembly_summary_historical.txt\">assembly_summary_historical.txt</a> 2024-03-16 19:08  1.1K  \n",
       "<hr/></pre>\n",
       "<a href=\"https://www.hhs.gov/vulnerability-disclosure-policy/index.html\">HHS Vulnerability Disclosure</a>\n",
       "</body></html>"
      ]
     },
     "execution_count": 10,
     "metadata": {},
     "output_type": "execute_result"
    }
   ],
   "source": [
    "soup_archaea_0"
   ]
  },
  {
   "cell_type": "code",
   "execution_count": 11,
   "metadata": {},
   "outputs": [
    {
     "data": {
      "text/plain": [
       "[<a href=\"/genomes/refseq/archaea/\">Parent Directory</a>,\n",
       " <a href=\"all_assembly_versions/\">all_assembly_versions/</a>,\n",
       " <a href=\"annotation_hashes.txt\">annotation_hashes.txt</a>,\n",
       " <a href=\"assembly_summary_historical.txt\">assembly_summary_historical.txt</a>]"
      ]
     },
     "execution_count": 11,
     "metadata": {},
     "output_type": "execute_result"
    }
   ],
   "source": [
    "result_set_archaea_0 = soup_archaea_0.find('pre').find_all('a')\n",
    "result_set_archaea_0"
   ]
  },
  {
   "cell_type": "code",
   "execution_count": 12,
   "metadata": {},
   "outputs": [
    {
     "data": {
      "text/plain": [
       "['all_assembly_versions/',\n",
       " 'annotation_hashes.txt',\n",
       " 'assembly_summary_historical.txt']"
      ]
     },
     "execution_count": 12,
     "metadata": {},
     "output_type": "execute_result"
    }
   ],
   "source": [
    "items = []\n",
    "for i in result_set_archaea_0[1:]:\n",
    "    items.append( i.get('href') )\n",
    "items"
   ]
  },
  {
   "cell_type": "code",
   "execution_count": 13,
   "metadata": {},
   "outputs": [
    {
     "data": {
      "text/plain": [
       "['https://ftp.ncbi.nlm.nih.gov/genomes/refseq/archaea/ANME-2_cluster_archaeon_HR1/all_assembly_versions/',\n",
       " 'https://ftp.ncbi.nlm.nih.gov/genomes/refseq/archaea/ANME-2_cluster_archaeon_HR1/annotation_hashes.txt',\n",
       " 'https://ftp.ncbi.nlm.nih.gov/genomes/refseq/archaea/ANME-2_cluster_archaeon_HR1/assembly_summary_historical.txt']"
      ]
     },
     "execution_count": 13,
     "metadata": {},
     "output_type": "execute_result"
    }
   ],
   "source": [
    "urls_archaea_0 = []\n",
    "for i in result_set_archaea_0[1:]:\n",
    "    urls_archaea_0.append( urljoin( request_archaea_0.url, i.get('href') ) )\n",
    "urls_archaea_0"
   ]
  },
  {
   "cell_type": "code",
   "execution_count": 14,
   "metadata": {},
   "outputs": [
    {
     "name": "stdout",
     "output_type": "stream",
     "text": [
      "['https://ftp.ncbi.nlm.nih.gov/genomes/refseq/archaea/ANME-2_cluster_archaeon_HR1/all_assembly_versions/']\n",
      "200\n"
     ]
    }
   ],
   "source": [
    "# aav := all_assembly_versions\n",
    "url_aav_archaea_0 = [url for url \\\n",
    "    in urls_archaea_0 if 'all_assembly_versions' in url]\n",
    "print(url_aav_archaea_0)\n",
    "\n",
    "try:\n",
    "    request_aav_archaea_0 =  requests.get(urls_archaea_0[0])\n",
    "    print(request_archaea_0.status_code)\n",
    "except Exception as e:\n",
    "    print(e)"
   ]
  },
  {
   "cell_type": "code",
   "execution_count": 15,
   "metadata": {},
   "outputs": [
    {
     "data": {
      "text/plain": [
       "array(['https://ftp.ncbi.nlm.nih.gov/genomes/refseq/archaea/ANME-2_cluster_archaeon_HR1/',\n",
       "       'https://ftp.ncbi.nlm.nih.gov/genomes/refseq/archaea/Acidianus_ambivalens/',\n",
       "       'https://ftp.ncbi.nlm.nih.gov/genomes/refseq/archaea/Acidianus_brierleyi/',\n",
       "       'https://ftp.ncbi.nlm.nih.gov/genomes/refseq/archaea/Acidianus_hospitalis/',\n",
       "       'https://ftp.ncbi.nlm.nih.gov/genomes/refseq/archaea/Acidianus_infernus/'],\n",
       "      dtype=object)"
      ]
     },
     "execution_count": 15,
     "metadata": {},
     "output_type": "execute_result"
    }
   ],
   "source": [
    "urls_archaea_organisms[:5]"
   ]
  },
  {
   "cell_type": "code",
   "execution_count": 16,
   "metadata": {},
   "outputs": [
    {
     "name": "stdout",
     "output_type": "stream",
     "text": [
      "https://ftp.ncbi.nlm.nih.gov/genomes/refseq/archaea/ANME-2_cluster_archaeon_HR1/all_assembly_versions/\n",
      "https://ftp.ncbi.nlm.nih.gov/genomes/refseq/archaea/Acidianus_ambivalens/all_assembly_versions/\n",
      "https://ftp.ncbi.nlm.nih.gov/genomes/refseq/archaea/Acidianus_brierleyi/all_assembly_versions/\n",
      "https://ftp.ncbi.nlm.nih.gov/genomes/refseq/archaea/Acidianus_hospitalis/all_assembly_versions/\n",
      "https://ftp.ncbi.nlm.nih.gov/genomes/refseq/archaea/Acidianus_infernus/all_assembly_versions/\n"
     ]
    }
   ],
   "source": [
    "for url in urls_archaea_organisms[:5]:\n",
    "    print(urljoin(url, 'all_assembly_versions/'))"
   ]
  },
  {
   "cell_type": "code",
   "execution_count": null,
   "metadata": {},
   "outputs": [],
   "source": [
    "url_aav_ok = 0\n",
    "url_aav_not_ok = 0\n",
    "for url in urls_archaea_organisms[:5]:\n",
    "    try:\n",
    "        response = requests.get(urljoin(url, 'all_assembly_versions/'))\n",
    "        print( response.url )\n",
    "        # access elements of the response.text using xpath\n",
    "\n",
    "\n",
    "        # Assuming 'response' is the requests response object\n",
    "        html_parser = etree.HTMLParser()\n",
    "        parsed_html = etree.HTML(response.text, parser=html_parser)\n",
    "\n",
    "        # Use XPath expressions to select elements\n",
    "        elements = parsed_html.xpath('//pre/a')  \n",
    "        # print(elements)\n",
    "\n",
    "        urls_aav = [urljoin(url, \"all_assembly_versions/\") for url in urls_archaea_organisms[:5]]\n",
    "        print(\"urls_aav\", urls_aav)\n",
    "\n",
    "        # Process the selected elements\n",
    "        for element in elements:\n",
    "            # Access element properties or extract text\n",
    "            print(\"-----ELEMENT-----\")\n",
    "            property_value = element.get('href')  # Replace 'property_name' with the desired property name\n",
    "            print(\"href: \", property_value)\n",
    "            element_text = element.text\n",
    "            print(element_text)\n",
    "            # Perform further processing on the selected elements\n",
    "        \n",
    "\n",
    "\n",
    "        url_aav_ok += 1\n",
    "        # print(request.status_code)\n",
    "    except Exception as e:\n",
    "        print(e)\n",
    "        url_aav_not_ok += 1\n",
    "\n",
    "# last runtime: 14m 11.9s\n",
    "\n",
    "print(url_aav_ok, url_aav_not_ok)"
   ]
  },
  {
   "cell_type": "markdown",
   "metadata": {},
   "source": [
    "## Item and Custom Pipeline"
   ]
  },
  {
   "cell_type": "code",
   "execution_count": 13,
   "metadata": {},
   "outputs": [],
   "source": [
    "class genomeNameItem(scrapy.Item):\n",
    "    file_urls = scrapy.Field()\n",
    "    genome_file_name = scrapy.Field()"
   ]
  },
  {
   "cell_type": "code",
   "execution_count": 14,
   "metadata": {},
   "outputs": [],
   "source": [
    "class CustomFilesPipeline(FilesPipeline):\n",
    "    def get_media_requests(self, item, info):\n",
    "        # This method is called for each item and must return the Request objects to download.\n",
    "        # Here, we customize it to use our item's `file_urls` field.\n",
    "        return [scrapy.Request(x, meta={'genome_file_name': item['genome_file_name']}) for x in item.get('file_urls', [])]\n",
    "\n",
    "    def file_path(self, request, response=None, info=None, *, item=None):\n",
    "        # This method determines the path (including the filename) where the file will be saved.\n",
    "        # Here, we use the filename from the request's meta, which we set in get_media_requests.\n",
    "        return request.meta['genome_file_name']\n",
    "    \n",
    "    # def file_path(self, request, response=None, info=None, *, item=None):\n",
    "    #     # Extract the desired filename from the item\n",
    "    #     # This assumes you have a 'genome_file_name' field in your item\n",
    "    #     filename = item.get('genome_file_name')\n",
    "    #     # Return the filename\n",
    "    #     return filename\n"
   ]
  },
  {
   "cell_type": "markdown",
   "metadata": {},
   "source": [
    "## Archaea"
   ]
  },
  {
   "cell_type": "markdown",
   "metadata": {},
   "source": [
    "### Spider"
   ]
  },
  {
   "cell_type": "code",
   "execution_count": 21,
   "metadata": {},
   "outputs": [],
   "source": [
    "class SpiderGenomesArchaea(scrapy.Spider):\n",
    "    name = 'spider_genomes'\n",
    "    allowed_domains = ['ftp.ncbi.nlm.nih.gov']\n",
    "    custom_settings = {\n",
    "        'ITEM_PIPELINES': {'__main__.CustomFilesPipeline': 1},\n",
    "        # 'ITEM_PIPELINES': {'scrapy.pipelines.files.FilesPipeline': 1},\n",
    "        'FILES_STORE': str( PATH_GENOMIC_FNA ),\n",
    "    }\n",
    "\n",
    "    start_urls = list(urls_archaea_organisms)  # Assuming this is defined elsewhere\n",
    "\n",
    "    def parse(self, response):\n",
    "        url_aav = urljoin(response.url, 'all_assembly_versions/')\n",
    "        \n",
    "        yield scrapy.Request(\n",
    "            url=url_aav,\n",
    "            callback=self.parse_through,\n",
    "            meta={\n",
    "                'base_url': response.url,\n",
    "                'organism': response.url.split('/')[-2]\n",
    "                }\n",
    "        )\n",
    "\n",
    "        \n",
    "    def parse_through(self, response):\n",
    "        # avs =: assembly_versions\n",
    "        hrefs_avs = response.xpath('//pre/a/@href').getall()\n",
    "        hrefs_avs = hrefs_avs[1:]\n",
    "        href_1 = hrefs_avs[0]\n",
    "\n",
    "        if ( href_1 == \"suppressed/\" ):\n",
    "            yield scrapy.Request(\n",
    "                url= urljoin(response.url, href_1),\n",
    "                callback=self.parse_through,\n",
    "                meta={\n",
    "                    'base_url': response.url,\n",
    "                    'organism': response.meta['organism']\n",
    "                    }\n",
    "            )\n",
    "        else:\n",
    "            yield scrapy.Request(\n",
    "                url= urljoin(response.url, href_1),\n",
    "                callback=self.download_files,\n",
    "                meta={\n",
    "                    'base_url': response.url,\n",
    "                    'organism': response.meta['organism'],\n",
    "                    'genome_version': href_1.split('/')[-2]\n",
    "                    }\n",
    "            )\n",
    "\n",
    "        \n",
    "    def download_files(self, response):\n",
    "        genome_file_name = str(response.meta['genome_version']) + '_genomic.fna.gz'\n",
    "        urls_download_genome = [urljoin(response.url, genome_file_name)]\n",
    "\n",
    "        item = genomeNameItem()\n",
    "        item['file_urls'] = urls_download_genome\n",
    "        item['genome_file_name'] = str(response.meta['organism']).lower() \\\n",
    "            + '/' + str(genome_file_name)\n",
    "        \n",
    "        print(\"Downloading genome for: \", response.meta['organism'])\n",
    "\n",
    "        yield item"
   ]
  },
  {
   "cell_type": "code",
   "execution_count": 22,
   "metadata": {},
   "outputs": [
    {
     "name": "stdout",
     "output_type": "stream",
     "text": [
      "['https://ftp.ncbi.nlm.nih.gov/genomes/refseq/archaea/ANME-2_cluster_archaeon_HR1/', 'https://ftp.ncbi.nlm.nih.gov/genomes/refseq/archaea/Acidianus_ambivalens/', 'https://ftp.ncbi.nlm.nih.gov/genomes/refseq/archaea/Acidianus_brierleyi/', 'https://ftp.ncbi.nlm.nih.gov/genomes/refseq/archaea/Acidianus_hospitalis/', 'https://ftp.ncbi.nlm.nih.gov/genomes/refseq/archaea/Acidianus_infernus/']\n",
      "['https://ftp.ncbi.nlm.nih.gov/genomes/refseq/archaea/ANME-2_cluster_archaeon_HR1/'\n",
      " 'https://ftp.ncbi.nlm.nih.gov/genomes/refseq/archaea/Acidianus_ambivalens/'\n",
      " 'https://ftp.ncbi.nlm.nih.gov/genomes/refseq/archaea/Acidianus_brierleyi/'\n",
      " 'https://ftp.ncbi.nlm.nih.gov/genomes/refseq/archaea/Acidianus_hospitalis/'\n",
      " 'https://ftp.ncbi.nlm.nih.gov/genomes/refseq/archaea/Acidianus_infernus/']\n"
     ]
    }
   ],
   "source": [
    "print(list(urls_archaea_organisms[:5]))\n",
    "print(urls_archaea_organisms[:5])"
   ]
  },
  {
   "cell_type": "markdown",
   "metadata": {},
   "source": [
    "### Crawler"
   ]
  },
  {
   "cell_type": "code",
   "execution_count": 24,
   "metadata": {},
   "outputs": [
    {
     "data": {
      "text/plain": [
       "1237"
      ]
     },
     "execution_count": 24,
     "metadata": {},
     "output_type": "execute_result"
    }
   ],
   "source": [
    "len(urls_archaea_organisms)"
   ]
  },
  {
   "cell_type": "code",
   "execution_count": null,
   "metadata": {},
   "outputs": [],
   "source": [
    "process = CrawlerProcess()\n",
    "process.crawl(SpiderGenomesArchaea)\n",
    "process.start()\n",
    "\n",
    "# last runtime (2024-03-19): 2m 54.6s\n",
    "# 1193 genomes downloaded from 1237 links"
   ]
  },
  {
   "cell_type": "markdown",
   "metadata": {},
   "source": [
    "## Bacteria"
   ]
  },
  {
   "cell_type": "markdown",
   "metadata": {},
   "source": [
    "### Spider"
   ]
  },
  {
   "cell_type": "code",
   "execution_count": 17,
   "metadata": {},
   "outputs": [],
   "source": [
    "class SpiderGenomesBacteria(scrapy.Spider):\n",
    "    name = 'spider_genomes_bacteria'\n",
    "    allowed_domains = ['ftp.ncbi.nlm.nih.gov']\n",
    "    custom_settings = {\n",
    "        'ITEM_PIPELINES': {'__main__.CustomFilesPipeline': 1},\n",
    "        # 'ITEM_PIPELINES': {'scrapy.pipelines.files.FilesPipeline': 1},\n",
    "        'FILES_STORE': str( PATH_GENOMIC_BACTERIA_FNA ),\n",
    "    }\n",
    "\n",
    "    start_urls = list(urls_bacteria_organisms[50000:])  # This is defined elsewhere\n",
    "\n",
    "    def parse(self, response):\n",
    "        url_aav = urljoin(response.url, 'all_assembly_versions/')\n",
    "        \n",
    "        yield scrapy.Request(\n",
    "            url=url_aav,\n",
    "            callback=self.parse_through,\n",
    "            meta={\n",
    "                'base_url': response.url,\n",
    "                'organism': response.url.split('/')[-2]\n",
    "                }\n",
    "        )\n",
    "\n",
    "        \n",
    "    def parse_through(self, response):\n",
    "        # avs =: assembly_versions\n",
    "        hrefs_avs = response.xpath('//pre/a/@href').getall()\n",
    "        hrefs_avs = hrefs_avs[1:]\n",
    "        href_1 = hrefs_avs[0]\n",
    "\n",
    "        if ( href_1 == \"suppressed/\" ):\n",
    "            yield scrapy.Request(\n",
    "                url= urljoin(response.url, href_1),\n",
    "                callback=self.parse_through,\n",
    "                meta={\n",
    "                    'base_url': response.url,\n",
    "                    'organism': response.meta['organism']\n",
    "                    }\n",
    "            )\n",
    "        else:\n",
    "            yield scrapy.Request(\n",
    "                url= urljoin(response.url, href_1),\n",
    "                callback=self.download_files,\n",
    "                meta={\n",
    "                    'base_url': response.url,\n",
    "                    'organism': response.meta['organism'],\n",
    "                    'genome_version': href_1.split('/')[-2]\n",
    "                    }\n",
    "            )\n",
    "\n",
    "\n",
    "    def download_files(self, response):\n",
    "        genome_file_name = str(response.meta['genome_version']) + '_genomic.fna.gz'\n",
    "        urls_download_genome = [urljoin(response.url, genome_file_name)]\n",
    "\n",
    "        item = genomeNameItem()\n",
    "        item['file_urls'] = urls_download_genome\n",
    "        item['genome_file_name'] = str(response.meta['organism']).lower() \\\n",
    "            + '/' + str(genome_file_name)\n",
    "        \n",
    "        print(\"Downloading genome for: \", response.meta['organism'])\n",
    "\n",
    "        yield item"
   ]
  },
  {
   "cell_type": "code",
   "execution_count": 15,
   "metadata": {},
   "outputs": [
    {
     "name": "stdout",
     "output_type": "stream",
     "text": [
      "52909\n",
      "(array([52006]),)\n",
      "['https://ftp.ncbi.nlm.nih.gov/genomes/refseq/bacteria/Zymomonas_mobilis/'\n",
      " 'https://ftp.ncbi.nlm.nih.gov/genomes/refseq/bacteria/Zymomonas_sp./'\n",
      " 'https://ftp.ncbi.nlm.nih.gov/genomes/refseq/bacteria/_Acholeplasma_multilocale/'\n",
      " 'https://ftp.ncbi.nlm.nih.gov/genomes/refseq/bacteria/_Acidovorax_ebreus/'\n",
      " 'https://ftp.ncbi.nlm.nih.gov/genomes/refseq/bacteria/_Actinobacillus_rossii/'\n",
      " 'https://ftp.ncbi.nlm.nih.gov/genomes/refseq/bacteria/_Actinomadura_parvosata/'\n",
      " 'https://ftp.ncbi.nlm.nih.gov/genomes/refseq/bacteria/_Bacillus_caldolyticus/'\n",
      " 'https://ftp.ncbi.nlm.nih.gov/genomes/refseq/bacteria/_Bacillus_enclensis/'\n",
      " 'https://ftp.ncbi.nlm.nih.gov/genomes/refseq/bacteria/_Bacillus_sp._KCTC_13219/'\n",
      " 'https://ftp.ncbi.nlm.nih.gov/genomes/refseq/bacteria/_Bacteroides_pectinophilus/']\n"
     ]
    }
   ],
   "source": [
    "print(len(urls_bacteria_organisms))\n",
    "\n",
    "url_last_genome_batch = 'https://ftp.ncbi.nlm.nih.gov/genomes/refseq/bacteria/Zymomonas_sp./'\n",
    "# url_last_genome_batch = 'https://ftp.ncbi.nlm.nih.gov/genomes/refseq/bacteria/Sterolibacterium_denitrificans/'\n",
    "# url_last_genome_batch = 'https://ftp.ncbi.nlm.nih.gov/genomes/refseq/bacteria/Romboutsia_weinsteinii/'\n",
    "# url_last_genome_batch = 'https://ftp.ncbi.nlm.nih.gov/genomes/refseq/bacteria/Pseudodesulfovibrio_hydrargyri/'\n",
    "# url_last_genome_batch = 'https://ftp.ncbi.nlm.nih.gov/genomes/refseq/bacteria/Oleisolibacter_albus/'\n",
    "# url_last_genome_batch = 'https://ftp.ncbi.nlm.nih.gov/genomes/refseq/bacteria/Mesorhizobium_sp._STM_4661/'\n",
    "# url_last_genome_batch = 'https://ftp.ncbi.nlm.nih.gov/genomes/refseq/bacteria/Hydrogenoanaerobacterium_sp./'\n",
    "# url_last_genome_batch = 'https://ftp.ncbi.nlm.nih.gov/genomes/refseq/bacteria/Elioraea_tepida/'\n",
    "# url_last_genome_batch = 'https://ftp.ncbi.nlm.nih.gov/genomes/refseq/bacteria/Cellulophaga_tyrosinoxydans/'\n",
    "# url_last_genome_batch = 'https://ftp.ncbi.nlm.nih.gov/genomes/refseq/bacteria/Bacillus_cereus_group_sp._TH243-1LC/'\n",
    "# index of the url_last_genome_batch in the numpy array\n",
    "# url_last_genome_batch\n",
    " \n",
    "idx_url_last_genome_batch = np.where(urls_bacteria_organisms == url_last_genome_batch)\n",
    "print(idx_url_last_genome_batch)\n",
    "\n",
    "print(urls_bacteria_organisms[52005:52015])"
   ]
  },
  {
   "cell_type": "code",
   "execution_count": 16,
   "metadata": {},
   "outputs": [
    {
     "name": "stdout",
     "output_type": "stream",
     "text": [
      "['https://ftp.ncbi.nlm.nih.gov/genomes/refseq/bacteria/Steroidobacter_gossypii/'\n",
      " 'https://ftp.ncbi.nlm.nih.gov/genomes/refseq/bacteria/Steroidobacter_sp./'\n",
      " 'https://ftp.ncbi.nlm.nih.gov/genomes/refseq/bacteria/Sterolibacterium_denitrificans/'\n",
      " 'https://ftp.ncbi.nlm.nih.gov/genomes/refseq/bacteria/Stieleria_maiorica/'\n",
      " 'https://ftp.ncbi.nlm.nih.gov/genomes/refseq/bacteria/Stieleria_neptunia/']\n"
     ]
    }
   ],
   "source": [
    "print(urls_bacteria_organisms[44997:45002])"
   ]
  },
  {
   "cell_type": "code",
   "execution_count": null,
   "metadata": {},
   "outputs": [],
   "source": [
    "process = CrawlerProcess()\n",
    "process.crawl(SpiderGenomesBacteria)\n",
    "process.start()\n",
    "\n",
    "\n",
    "\n",
    "# last runtime (2024-03-19): 12m 36.7s\n",
    "#  genomes downloaded from 5000 links\n",
    "\n",
    "# last runtime (2024-07-15): 17m 17.0s\n",
    "#  genomes downloaded from 5000 links\n",
    "\n",
    "# last runtime (2024-07-27): 14m 18.3s\n",
    "#  genomes downloaded from 5000 links\n",
    "\n",
    "# last runtime (2024-08-01): 12m 1s\n",
    "#  genomes downloaded from 5000 links\n",
    "\n",
    "# last runtime (2024-08-04): 24m 28.2s\n",
    "#  genomes downloaded from 5000 links"
   ]
  }
 ],
 "metadata": {
  "kernelspec": {
   "display_name": "web_scraping",
   "language": "python",
   "name": "python3"
  },
  "language_info": {
   "codemirror_mode": {
    "name": "ipython",
    "version": 3
   },
   "file_extension": ".py",
   "mimetype": "text/x-python",
   "name": "python",
   "nbconvert_exporter": "python",
   "pygments_lexer": "ipython3",
   "version": "3.11.3"
  }
 },
 "nbformat": 4,
 "nbformat_minor": 2
}
