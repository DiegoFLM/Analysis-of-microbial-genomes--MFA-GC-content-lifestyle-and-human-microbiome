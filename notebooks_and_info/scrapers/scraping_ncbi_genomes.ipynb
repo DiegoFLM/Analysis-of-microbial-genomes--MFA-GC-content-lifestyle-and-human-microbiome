{
 "cells": [
  {
   "cell_type": "code",
   "execution_count": 1,
   "metadata": {},
   "outputs": [],
   "source": [
    "import numpy as np\n",
    "import pandas as pd\n",
    "import scrapy\n",
    "import requests\n",
    "from lxml import etree\n",
    "from bs4 import BeautifulSoup\n",
    "from urllib.parse import urljoin\n",
    "from io import StringIO\n",
    "from scrapy.crawler import CrawlerProcess\n",
    "from pathlib import Path\n",
    "import time\n",
    "import datetime"
   ]
  },
  {
   "cell_type": "markdown",
   "metadata": {},
   "source": [
    "# Constants"
   ]
  },
  {
   "cell_type": "code",
   "execution_count": 2,
   "metadata": {},
   "outputs": [
    {
     "data": {
      "text/plain": [
       "True"
      ]
     },
     "execution_count": 2,
     "metadata": {},
     "output_type": "execute_result"
    }
   ],
   "source": [
    "PATH_DATA = Path.cwd().parent.parent / 'data'\n",
    "PATH_DATA.exists()"
   ]
  },
  {
   "cell_type": "code",
   "execution_count": 3,
   "metadata": {},
   "outputs": [
    {
     "data": {
      "text/plain": [
       "True"
      ]
     },
     "execution_count": 3,
     "metadata": {},
     "output_type": "execute_result"
    }
   ],
   "source": [
    "PATH_SCRAPED = PATH_DATA / 'raw' / 'scraped'\n",
    "PATH_SCRAPED.exists()"
   ]
  },
  {
   "cell_type": "code",
   "execution_count": 4,
   "metadata": {},
   "outputs": [
    {
     "data": {
      "text/plain": [
       "True"
      ]
     },
     "execution_count": 4,
     "metadata": {},
     "output_type": "execute_result"
    }
   ],
   "source": [
    "PATH_GENOMIC_FNA = PATH_DATA / 'raw' / 'genomes' \\\n",
    "    / 'archaea' / 'genomic_fna'\n",
    "PATH_GENOMIC_FNA.exists()"
   ]
  },
  {
   "cell_type": "code",
   "execution_count": 5,
   "metadata": {},
   "outputs": [
    {
     "data": {
      "text/plain": [
       "True"
      ]
     },
     "execution_count": 5,
     "metadata": {},
     "output_type": "execute_result"
    }
   ],
   "source": [
    "PATH_TEMP_GENOMIC_FNA = PATH_DATA / 'raw' / 'genomes' \\\n",
    "    / 'archaea' / 'temp_genomic_fna'\n",
    "PATH_TEMP_GENOMIC_FNA.exists()"
   ]
  },
  {
   "cell_type": "markdown",
   "metadata": {},
   "source": [
    "# Data Recovery"
   ]
  },
  {
   "cell_type": "code",
   "execution_count": 6,
   "metadata": {},
   "outputs": [
    {
     "data": {
      "text/html": [
       "<div>\n",
       "<style scoped>\n",
       "    .dataframe tbody tr th:only-of-type {\n",
       "        vertical-align: middle;\n",
       "    }\n",
       "\n",
       "    .dataframe tbody tr th {\n",
       "        vertical-align: top;\n",
       "    }\n",
       "\n",
       "    .dataframe thead th {\n",
       "        text-align: right;\n",
       "    }\n",
       "</style>\n",
       "<table border=\"1\" class=\"dataframe\">\n",
       "  <thead>\n",
       "    <tr style=\"text-align: right;\">\n",
       "      <th></th>\n",
       "      <th>name</th>\n",
       "      <th>url</th>\n",
       "    </tr>\n",
       "  </thead>\n",
       "  <tbody>\n",
       "    <tr>\n",
       "      <th>0</th>\n",
       "      <td>ANME-2_cluster_archaeon_HR1</td>\n",
       "      <td>https://ftp.ncbi.nlm.nih.gov/genomes/refseq/ar...</td>\n",
       "    </tr>\n",
       "    <tr>\n",
       "      <th>1</th>\n",
       "      <td>Acidianus_ambivalens</td>\n",
       "      <td>https://ftp.ncbi.nlm.nih.gov/genomes/refseq/ar...</td>\n",
       "    </tr>\n",
       "    <tr>\n",
       "      <th>2</th>\n",
       "      <td>Acidianus_brierleyi</td>\n",
       "      <td>https://ftp.ncbi.nlm.nih.gov/genomes/refseq/ar...</td>\n",
       "    </tr>\n",
       "    <tr>\n",
       "      <th>3</th>\n",
       "      <td>Acidianus_hospitalis</td>\n",
       "      <td>https://ftp.ncbi.nlm.nih.gov/genomes/refseq/ar...</td>\n",
       "    </tr>\n",
       "    <tr>\n",
       "      <th>4</th>\n",
       "      <td>Acidianus_infernus</td>\n",
       "      <td>https://ftp.ncbi.nlm.nih.gov/genomes/refseq/ar...</td>\n",
       "    </tr>\n",
       "    <tr>\n",
       "      <th>...</th>\n",
       "      <td>...</td>\n",
       "      <td>...</td>\n",
       "    </tr>\n",
       "    <tr>\n",
       "      <th>1232</th>\n",
       "      <td>uncultured_Nitrososphaera_sp.</td>\n",
       "      <td>https://ftp.ncbi.nlm.nih.gov/genomes/refseq/ar...</td>\n",
       "    </tr>\n",
       "    <tr>\n",
       "      <th>1233</th>\n",
       "      <td>uncultured_archaeon_A07HB70</td>\n",
       "      <td>https://ftp.ncbi.nlm.nih.gov/genomes/refseq/ar...</td>\n",
       "    </tr>\n",
       "    <tr>\n",
       "      <th>1234</th>\n",
       "      <td>uncultured_archaeon_A07HN63</td>\n",
       "      <td>https://ftp.ncbi.nlm.nih.gov/genomes/refseq/ar...</td>\n",
       "    </tr>\n",
       "    <tr>\n",
       "      <th>1235</th>\n",
       "      <td>uncultured_archaeon_A07HR60</td>\n",
       "      <td>https://ftp.ncbi.nlm.nih.gov/genomes/refseq/ar...</td>\n",
       "    </tr>\n",
       "    <tr>\n",
       "      <th>1236</th>\n",
       "      <td>uncultured_archaeon_A07HR67</td>\n",
       "      <td>https://ftp.ncbi.nlm.nih.gov/genomes/refseq/ar...</td>\n",
       "    </tr>\n",
       "  </tbody>\n",
       "</table>\n",
       "<p>1237 rows × 2 columns</p>\n",
       "</div>"
      ],
      "text/plain": [
       "                               name   \n",
       "0       ANME-2_cluster_archaeon_HR1  \\\n",
       "1              Acidianus_ambivalens   \n",
       "2               Acidianus_brierleyi   \n",
       "3              Acidianus_hospitalis   \n",
       "4                Acidianus_infernus   \n",
       "...                             ...   \n",
       "1232  uncultured_Nitrososphaera_sp.   \n",
       "1233    uncultured_archaeon_A07HB70   \n",
       "1234    uncultured_archaeon_A07HN63   \n",
       "1235    uncultured_archaeon_A07HR60   \n",
       "1236    uncultured_archaeon_A07HR67   \n",
       "\n",
       "                                                    url  \n",
       "0     https://ftp.ncbi.nlm.nih.gov/genomes/refseq/ar...  \n",
       "1     https://ftp.ncbi.nlm.nih.gov/genomes/refseq/ar...  \n",
       "2     https://ftp.ncbi.nlm.nih.gov/genomes/refseq/ar...  \n",
       "3     https://ftp.ncbi.nlm.nih.gov/genomes/refseq/ar...  \n",
       "4     https://ftp.ncbi.nlm.nih.gov/genomes/refseq/ar...  \n",
       "...                                                 ...  \n",
       "1232  https://ftp.ncbi.nlm.nih.gov/genomes/refseq/ar...  \n",
       "1233  https://ftp.ncbi.nlm.nih.gov/genomes/refseq/ar...  \n",
       "1234  https://ftp.ncbi.nlm.nih.gov/genomes/refseq/ar...  \n",
       "1235  https://ftp.ncbi.nlm.nih.gov/genomes/refseq/ar...  \n",
       "1236  https://ftp.ncbi.nlm.nih.gov/genomes/refseq/ar...  \n",
       "\n",
       "[1237 rows x 2 columns]"
      ]
     },
     "execution_count": 6,
     "metadata": {},
     "output_type": "execute_result"
    }
   ],
   "source": [
    "df_archaea = pd.read_csv(PATH_DATA / 'raw' / \\\n",
    "    'scraped' / 'archaea_name_url.csv')\n",
    "df_archaea"
   ]
  },
  {
   "cell_type": "code",
   "execution_count": 7,
   "metadata": {},
   "outputs": [
    {
     "name": "stdout",
     "output_type": "stream",
     "text": [
      "1237\n"
     ]
    },
    {
     "data": {
      "text/plain": [
       "array(['https://ftp.ncbi.nlm.nih.gov/genomes/refseq/archaea/ANME-2_cluster_archaeon_HR1/',\n",
       "       'https://ftp.ncbi.nlm.nih.gov/genomes/refseq/archaea/Acidianus_ambivalens/',\n",
       "       'https://ftp.ncbi.nlm.nih.gov/genomes/refseq/archaea/Acidianus_brierleyi/',\n",
       "       ...,\n",
       "       'https://ftp.ncbi.nlm.nih.gov/genomes/refseq/archaea/uncultured_archaeon_A07HN63/',\n",
       "       'https://ftp.ncbi.nlm.nih.gov/genomes/refseq/archaea/uncultured_archaeon_A07HR60/',\n",
       "       'https://ftp.ncbi.nlm.nih.gov/genomes/refseq/archaea/uncultured_archaeon_A07HR67/'],\n",
       "      dtype=object)"
      ]
     },
     "execution_count": 7,
     "metadata": {},
     "output_type": "execute_result"
    }
   ],
   "source": [
    "urls_archaea_organisms = df_archaea['url'].values\n",
    "print(len(urls_archaea_organisms))\n",
    "urls_archaea_organisms"
   ]
  },
  {
   "cell_type": "markdown",
   "metadata": {},
   "source": [
    "# Genome Scrapers"
   ]
  },
  {
   "cell_type": "markdown",
   "metadata": {},
   "source": [
    "## Requests"
   ]
  },
  {
   "cell_type": "code",
   "execution_count": 8,
   "metadata": {},
   "outputs": [
    {
     "name": "stdout",
     "output_type": "stream",
     "text": [
      "200\n"
     ]
    }
   ],
   "source": [
    "# ANME-2_cluster_archaeon_HR1\n",
    "\n",
    "try:\n",
    "    request_archaea_0 = requests.get(urls_archaea_organisms[0])\n",
    "    print(request_archaea_0.status_code)\n",
    "except Exception as e:\n",
    "    print(e)"
   ]
  },
  {
   "cell_type": "code",
   "execution_count": 9,
   "metadata": {},
   "outputs": [
    {
     "data": {
      "text/plain": [
       "bs4.BeautifulSoup"
      ]
     },
     "execution_count": 9,
     "metadata": {},
     "output_type": "execute_result"
    }
   ],
   "source": [
    "soup_archaea_0 = BeautifulSoup(request_archaea_0.text, 'html.parser')\n",
    "type(soup_archaea_0)"
   ]
  },
  {
   "cell_type": "code",
   "execution_count": 10,
   "metadata": {},
   "outputs": [
    {
     "data": {
      "text/plain": [
       "<!DOCTYPE HTML PUBLIC \"-//W3C//DTD HTML 3.2 Final//EN\">\n",
       "\n",
       "<html>\n",
       "<head>\n",
       "<title>Index of /genomes/refseq/archaea/ANME-2_cluster_archaeon_HR1</title>\n",
       "</head>\n",
       "<body>\n",
       "<h1>Index of /genomes/refseq/archaea/ANME-2_cluster_archaeon_HR1</h1>\n",
       "<pre>Name                            Last modified      Size  <hr/><a href=\"/genomes/refseq/archaea/\">Parent Directory</a>                                     -   \n",
       "<a href=\"all_assembly_versions/\">all_assembly_versions/</a>          2024-03-18 00:38    -   \n",
       "<a href=\"annotation_hashes.txt\">annotation_hashes.txt</a>           2024-03-16 19:37  410   \n",
       "<a href=\"assembly_summary_historical.txt\">assembly_summary_historical.txt</a> 2024-03-16 19:08  1.1K  \n",
       "<hr/></pre>\n",
       "<a href=\"https://www.hhs.gov/vulnerability-disclosure-policy/index.html\">HHS Vulnerability Disclosure</a>\n",
       "</body></html>"
      ]
     },
     "execution_count": 10,
     "metadata": {},
     "output_type": "execute_result"
    }
   ],
   "source": [
    "soup_archaea_0"
   ]
  },
  {
   "cell_type": "code",
   "execution_count": 11,
   "metadata": {},
   "outputs": [
    {
     "data": {
      "text/plain": [
       "[<a href=\"/genomes/refseq/archaea/\">Parent Directory</a>,\n",
       " <a href=\"all_assembly_versions/\">all_assembly_versions/</a>,\n",
       " <a href=\"annotation_hashes.txt\">annotation_hashes.txt</a>,\n",
       " <a href=\"assembly_summary_historical.txt\">assembly_summary_historical.txt</a>]"
      ]
     },
     "execution_count": 11,
     "metadata": {},
     "output_type": "execute_result"
    }
   ],
   "source": [
    "result_set_archaea_0 = soup_archaea_0.find('pre').find_all('a')\n",
    "result_set_archaea_0"
   ]
  },
  {
   "cell_type": "code",
   "execution_count": 12,
   "metadata": {},
   "outputs": [
    {
     "data": {
      "text/plain": [
       "['all_assembly_versions/',\n",
       " 'annotation_hashes.txt',\n",
       " 'assembly_summary_historical.txt']"
      ]
     },
     "execution_count": 12,
     "metadata": {},
     "output_type": "execute_result"
    }
   ],
   "source": [
    "items = []\n",
    "for i in result_set_archaea_0[1:]:\n",
    "    items.append( i.get('href') )\n",
    "items"
   ]
  },
  {
   "cell_type": "code",
   "execution_count": 13,
   "metadata": {},
   "outputs": [
    {
     "data": {
      "text/plain": [
       "['https://ftp.ncbi.nlm.nih.gov/genomes/refseq/archaea/ANME-2_cluster_archaeon_HR1/all_assembly_versions/',\n",
       " 'https://ftp.ncbi.nlm.nih.gov/genomes/refseq/archaea/ANME-2_cluster_archaeon_HR1/annotation_hashes.txt',\n",
       " 'https://ftp.ncbi.nlm.nih.gov/genomes/refseq/archaea/ANME-2_cluster_archaeon_HR1/assembly_summary_historical.txt']"
      ]
     },
     "execution_count": 13,
     "metadata": {},
     "output_type": "execute_result"
    }
   ],
   "source": [
    "urls_archaea_0 = []\n",
    "for i in result_set_archaea_0[1:]:\n",
    "    urls_archaea_0.append( urljoin( request_archaea_0.url, i.get('href') ) )\n",
    "urls_archaea_0"
   ]
  },
  {
   "cell_type": "code",
   "execution_count": 14,
   "metadata": {},
   "outputs": [
    {
     "name": "stdout",
     "output_type": "stream",
     "text": [
      "['https://ftp.ncbi.nlm.nih.gov/genomes/refseq/archaea/ANME-2_cluster_archaeon_HR1/all_assembly_versions/']\n"
     ]
    },
    {
     "name": "stdout",
     "output_type": "stream",
     "text": [
      "200\n"
     ]
    }
   ],
   "source": [
    "# aav := all_assembly_versions\n",
    "url_aav_archaea_0 = [url for url \\\n",
    "    in urls_archaea_0 if 'all_assembly_versions' in url]\n",
    "print(url_aav_archaea_0)\n",
    "\n",
    "try:\n",
    "    request_aav_archaea_0 =  requests.get(urls_archaea_0[0])\n",
    "    print(request_archaea_0.status_code)\n",
    "except Exception as e:\n",
    "    print(e)"
   ]
  },
  {
   "cell_type": "code",
   "execution_count": 15,
   "metadata": {},
   "outputs": [
    {
     "data": {
      "text/plain": [
       "array(['https://ftp.ncbi.nlm.nih.gov/genomes/refseq/archaea/ANME-2_cluster_archaeon_HR1/',\n",
       "       'https://ftp.ncbi.nlm.nih.gov/genomes/refseq/archaea/Acidianus_ambivalens/',\n",
       "       'https://ftp.ncbi.nlm.nih.gov/genomes/refseq/archaea/Acidianus_brierleyi/',\n",
       "       'https://ftp.ncbi.nlm.nih.gov/genomes/refseq/archaea/Acidianus_hospitalis/',\n",
       "       'https://ftp.ncbi.nlm.nih.gov/genomes/refseq/archaea/Acidianus_infernus/'],\n",
       "      dtype=object)"
      ]
     },
     "execution_count": 15,
     "metadata": {},
     "output_type": "execute_result"
    }
   ],
   "source": [
    "urls_archaea_organisms[:5]"
   ]
  },
  {
   "cell_type": "code",
   "execution_count": 16,
   "metadata": {},
   "outputs": [
    {
     "name": "stdout",
     "output_type": "stream",
     "text": [
      "https://ftp.ncbi.nlm.nih.gov/genomes/refseq/archaea/ANME-2_cluster_archaeon_HR1/all_assembly_versions/\n",
      "https://ftp.ncbi.nlm.nih.gov/genomes/refseq/archaea/Acidianus_ambivalens/all_assembly_versions/\n",
      "https://ftp.ncbi.nlm.nih.gov/genomes/refseq/archaea/Acidianus_brierleyi/all_assembly_versions/\n",
      "https://ftp.ncbi.nlm.nih.gov/genomes/refseq/archaea/Acidianus_hospitalis/all_assembly_versions/\n",
      "https://ftp.ncbi.nlm.nih.gov/genomes/refseq/archaea/Acidianus_infernus/all_assembly_versions/\n"
     ]
    }
   ],
   "source": [
    "for url in urls_archaea_organisms[:5]:\n",
    "    print(urljoin(url, 'all_assembly_versions/'))"
   ]
  },
  {
   "cell_type": "code",
   "execution_count": 17,
   "metadata": {},
   "outputs": [
    {
     "name": "stdout",
     "output_type": "stream",
     "text": [
      "https://ftp.ncbi.nlm.nih.gov/genomes/refseq/archaea/ANME-2_cluster_archaeon_HR1/all_assembly_versions/\n",
      "urls_aav ['https://ftp.ncbi.nlm.nih.gov/genomes/refseq/archaea/ANME-2_cluster_archaeon_HR1/all_assembly_versions/', 'https://ftp.ncbi.nlm.nih.gov/genomes/refseq/archaea/Acidianus_ambivalens/all_assembly_versions/', 'https://ftp.ncbi.nlm.nih.gov/genomes/refseq/archaea/Acidianus_brierleyi/all_assembly_versions/', 'https://ftp.ncbi.nlm.nih.gov/genomes/refseq/archaea/Acidianus_hospitalis/all_assembly_versions/', 'https://ftp.ncbi.nlm.nih.gov/genomes/refseq/archaea/Acidianus_infernus/all_assembly_versions/']\n",
      "-----ELEMENT-----\n",
      "href:  /genomes/refseq/archaea/ANME-2_cluster_archaeon_HR1/\n",
      "Parent Directory\n",
      "-----ELEMENT-----\n",
      "href:  suppressed/\n",
      "suppressed/\n",
      "https://ftp.ncbi.nlm.nih.gov/genomes/refseq/archaea/Acidianus_ambivalens/all_assembly_versions/\n",
      "urls_aav ['https://ftp.ncbi.nlm.nih.gov/genomes/refseq/archaea/ANME-2_cluster_archaeon_HR1/all_assembly_versions/', 'https://ftp.ncbi.nlm.nih.gov/genomes/refseq/archaea/Acidianus_ambivalens/all_assembly_versions/', 'https://ftp.ncbi.nlm.nih.gov/genomes/refseq/archaea/Acidianus_brierleyi/all_assembly_versions/', 'https://ftp.ncbi.nlm.nih.gov/genomes/refseq/archaea/Acidianus_hospitalis/all_assembly_versions/', 'https://ftp.ncbi.nlm.nih.gov/genomes/refseq/archaea/Acidianus_infernus/all_assembly_versions/']\n",
      "-----ELEMENT-----\n",
      "href:  /genomes/refseq/archaea/Acidianus_ambivalens/\n",
      "Parent Directory\n",
      "-----ELEMENT-----\n",
      "href:  GCF_009428885.1_ASM942888v1/\n",
      "GCF_009428885.1_ASM942888v1/\n",
      "-----ELEMENT-----\n",
      "href:  GCF_009729015.1_ASM972901v1/\n",
      "GCF_009729015.1_ASM972901v1/\n",
      "https://ftp.ncbi.nlm.nih.gov/genomes/refseq/archaea/Acidianus_brierleyi/all_assembly_versions/\n",
      "urls_aav ['https://ftp.ncbi.nlm.nih.gov/genomes/refseq/archaea/ANME-2_cluster_archaeon_HR1/all_assembly_versions/', 'https://ftp.ncbi.nlm.nih.gov/genomes/refseq/archaea/Acidianus_ambivalens/all_assembly_versions/', 'https://ftp.ncbi.nlm.nih.gov/genomes/refseq/archaea/Acidianus_brierleyi/all_assembly_versions/', 'https://ftp.ncbi.nlm.nih.gov/genomes/refseq/archaea/Acidianus_hospitalis/all_assembly_versions/', 'https://ftp.ncbi.nlm.nih.gov/genomes/refseq/archaea/Acidianus_infernus/all_assembly_versions/']\n",
      "-----ELEMENT-----\n",
      "href:  /genomes/refseq/archaea/Acidianus_brierleyi/\n",
      "Parent Directory\n",
      "-----ELEMENT-----\n",
      "href:  GCF_003201835.1_ASM320183v1/\n",
      "GCF_003201835.1_ASM320183v1/\n",
      "-----ELEMENT-----\n",
      "href:  GCF_003201835.2_ASM320183v2/\n",
      "GCF_003201835.2_ASM320183v2/\n",
      "https://ftp.ncbi.nlm.nih.gov/genomes/refseq/archaea/Acidianus_hospitalis/all_assembly_versions/\n",
      "urls_aav ['https://ftp.ncbi.nlm.nih.gov/genomes/refseq/archaea/ANME-2_cluster_archaeon_HR1/all_assembly_versions/', 'https://ftp.ncbi.nlm.nih.gov/genomes/refseq/archaea/Acidianus_ambivalens/all_assembly_versions/', 'https://ftp.ncbi.nlm.nih.gov/genomes/refseq/archaea/Acidianus_brierleyi/all_assembly_versions/', 'https://ftp.ncbi.nlm.nih.gov/genomes/refseq/archaea/Acidianus_hospitalis/all_assembly_versions/', 'https://ftp.ncbi.nlm.nih.gov/genomes/refseq/archaea/Acidianus_infernus/all_assembly_versions/']\n",
      "-----ELEMENT-----\n",
      "href:  /genomes/refseq/archaea/Acidianus_hospitalis/\n",
      "Parent Directory\n",
      "-----ELEMENT-----\n",
      "href:  GCF_000213215.1_ASM21321v1/\n",
      "GCF_000213215.1_ASM21321v1/\n",
      "https://ftp.ncbi.nlm.nih.gov/genomes/refseq/archaea/Acidianus_infernus/all_assembly_versions/\n",
      "urls_aav ['https://ftp.ncbi.nlm.nih.gov/genomes/refseq/archaea/ANME-2_cluster_archaeon_HR1/all_assembly_versions/', 'https://ftp.ncbi.nlm.nih.gov/genomes/refseq/archaea/Acidianus_ambivalens/all_assembly_versions/', 'https://ftp.ncbi.nlm.nih.gov/genomes/refseq/archaea/Acidianus_brierleyi/all_assembly_versions/', 'https://ftp.ncbi.nlm.nih.gov/genomes/refseq/archaea/Acidianus_hospitalis/all_assembly_versions/', 'https://ftp.ncbi.nlm.nih.gov/genomes/refseq/archaea/Acidianus_infernus/all_assembly_versions/']\n",
      "-----ELEMENT-----\n",
      "href:  /genomes/refseq/archaea/Acidianus_infernus/\n",
      "Parent Directory\n",
      "-----ELEMENT-----\n",
      "href:  GCF_009729545.1_ASM972954v1/\n",
      "GCF_009729545.1_ASM972954v1/\n",
      "5 0\n"
     ]
    }
   ],
   "source": [
    "url_aav_ok = 0\n",
    "url_aav_not_ok = 0\n",
    "for url in urls_archaea_organisms[:5]:\n",
    "    try:\n",
    "        response = requests.get(urljoin(url, 'all_assembly_versions/'))\n",
    "        print( response.url )\n",
    "        # access elements of the response.text using xpath\n",
    "\n",
    "\n",
    "        # Assuming 'response' is the requests response object\n",
    "        html_parser = etree.HTMLParser()\n",
    "        parsed_html = etree.HTML(response.text, parser=html_parser)\n",
    "\n",
    "        # Use XPath expressions to select elements\n",
    "        elements = parsed_html.xpath('//pre/a')  \n",
    "        # print(elements)\n",
    "\n",
    "        urls_aav = [urljoin(url, \"all_assembly_versions/\") for url in urls_archaea_organisms[:5]]\n",
    "        print(\"urls_aav\", urls_aav)\n",
    "\n",
    "        # Process the selected elements\n",
    "        for element in elements:\n",
    "            # Access element properties or extract text\n",
    "            print(\"-----ELEMENT-----\")\n",
    "            property_value = element.get('href')  # Replace 'property_name' with the desired property name\n",
    "            print(\"href: \", property_value)\n",
    "            element_text = element.text\n",
    "            print(element_text)\n",
    "            # Perform further processing on the selected elements\n",
    "        \n",
    "\n",
    "\n",
    "        url_aav_ok += 1\n",
    "        # print(request.status_code)\n",
    "    except Exception as e:\n",
    "        print(e)\n",
    "        url_aav_not_ok += 1\n",
    "\n",
    "# last runtime: 14m 11.9s\n",
    "\n",
    "print(url_aav_ok, url_aav_not_ok)"
   ]
  },
  {
   "cell_type": "markdown",
   "metadata": {},
   "source": [
    "## Archaea"
   ]
  },
  {
   "cell_type": "markdown",
   "metadata": {},
   "source": [
    "### Item and Custom Pipeline"
   ]
  },
  {
   "cell_type": "code",
   "execution_count": 18,
   "metadata": {},
   "outputs": [],
   "source": [
    "from scrapy.pipelines.files import FilesPipeline\n",
    "from urllib.parse import urlparse"
   ]
  },
  {
   "cell_type": "code",
   "execution_count": 19,
   "metadata": {},
   "outputs": [],
   "source": [
    "class genomeNameItem(scrapy.Item):\n",
    "    file_urls = scrapy.Field()\n",
    "    genome_file_name = scrapy.Field()"
   ]
  },
  {
   "cell_type": "code",
   "execution_count": 20,
   "metadata": {},
   "outputs": [],
   "source": [
    "class CustomFilesPipeline(FilesPipeline):\n",
    "    def get_media_requests(self, item, info):\n",
    "        # This method is called for each item and must return the Request objects to download.\n",
    "        # Here, we customize it to use our item's `file_urls` field.\n",
    "        return [scrapy.Request(x, meta={'genome_file_name': item['genome_file_name']}) for x in item.get('file_urls', [])]\n",
    "\n",
    "    def file_path(self, request, response=None, info=None, *, item=None):\n",
    "        # This method determines the path (including the filename) where the file will be saved.\n",
    "        # Here, we use the filename from the request's meta, which we set in get_media_requests.\n",
    "        return request.meta['genome_file_name']\n",
    "    \n",
    "    # def file_path(self, request, response=None, info=None, *, item=None):\n",
    "    #     # Extract the desired filename from the item\n",
    "    #     # This assumes you have a 'genome_file_name' field in your item\n",
    "    #     filename = item.get('genome_file_name')\n",
    "    #     # Return the filename\n",
    "    #     return filename\n"
   ]
  },
  {
   "cell_type": "markdown",
   "metadata": {},
   "source": [
    "### Spider"
   ]
  },
  {
   "cell_type": "code",
   "execution_count": 21,
   "metadata": {},
   "outputs": [],
   "source": [
    "class SpiderGenomesArchaea(scrapy.Spider):\n",
    "    name = 'spider_genomes'\n",
    "    allowed_domains = ['ftp.ncbi.nlm.nih.gov']\n",
    "    custom_settings = {\n",
    "        'ITEM_PIPELINES': {'__main__.CustomFilesPipeline': 1},\n",
    "        # 'ITEM_PIPELINES': {'scrapy.pipelines.files.FilesPipeline': 1},\n",
    "        'FILES_STORE': str( PATH_TEMP_GENOMIC_FNA ),\n",
    "    }\n",
    "\n",
    "    start_urls = list(urls_archaea_organisms[:5])  # Assuming this is defined elsewhere\n",
    "\n",
    "    def parse(self, response):\n",
    "        url_aav = urljoin(response.url, 'all_assembly_versions/')\n",
    "        \n",
    "        yield scrapy.Request(\n",
    "            url=url_aav,\n",
    "            callback=self.parse_through,\n",
    "            meta={\n",
    "                'base_url': response.url,\n",
    "                'organism': response.url.split('/')[-2]\n",
    "                }\n",
    "        )\n",
    "\n",
    "        \n",
    "    def parse_through(self, response):\n",
    "        # avs =: assembly_versions\n",
    "        hrefs_avs = response.xpath('//pre/a/@href').getall()\n",
    "        hrefs_avs = hrefs_avs[1:]\n",
    "        href_1 = hrefs_avs[0]\n",
    "\n",
    "        if ( href_1 == \"suppressed/\" ):\n",
    "            yield scrapy.Request(\n",
    "                url= urljoin(response.url, href_1),\n",
    "                callback=self.parse_through,\n",
    "                meta={\n",
    "                    'base_url': response.url,\n",
    "                    'organism': response.meta['organism']\n",
    "                    }\n",
    "            )\n",
    "        else:\n",
    "            yield scrapy.Request(\n",
    "                url= urljoin(response.url, href_1),\n",
    "                callback=self.download_files,\n",
    "                meta={\n",
    "                    'base_url': response.url,\n",
    "                    'organism': response.meta['organism'],\n",
    "                    'genome_version': href_1.split('/')[-2]\n",
    "                    }\n",
    "            )\n",
    "\n",
    "        \n",
    "    def download_files(self, response):\n",
    "        genome_file_name = str(response.meta['genome_version']) + '_genomic.fna.gz'\n",
    "        urls_download_genome = [urljoin(response.url, genome_file_name)]\n",
    "\n",
    "        item = genomeNameItem()\n",
    "        item['file_urls'] = urls_download_genome\n",
    "        item['genome_file_name'] = str(response.meta['organism']).lower() \\\n",
    "            + '/' + str(genome_file_name)\n",
    "\n",
    "        yield item"
   ]
  },
  {
   "cell_type": "code",
   "execution_count": 22,
   "metadata": {},
   "outputs": [
    {
     "name": "stdout",
     "output_type": "stream",
     "text": [
      "['https://ftp.ncbi.nlm.nih.gov/genomes/refseq/archaea/ANME-2_cluster_archaeon_HR1/', 'https://ftp.ncbi.nlm.nih.gov/genomes/refseq/archaea/Acidianus_ambivalens/', 'https://ftp.ncbi.nlm.nih.gov/genomes/refseq/archaea/Acidianus_brierleyi/', 'https://ftp.ncbi.nlm.nih.gov/genomes/refseq/archaea/Acidianus_hospitalis/', 'https://ftp.ncbi.nlm.nih.gov/genomes/refseq/archaea/Acidianus_infernus/']\n",
      "['https://ftp.ncbi.nlm.nih.gov/genomes/refseq/archaea/ANME-2_cluster_archaeon_HR1/'\n",
      " 'https://ftp.ncbi.nlm.nih.gov/genomes/refseq/archaea/Acidianus_ambivalens/'\n",
      " 'https://ftp.ncbi.nlm.nih.gov/genomes/refseq/archaea/Acidianus_brierleyi/'\n",
      " 'https://ftp.ncbi.nlm.nih.gov/genomes/refseq/archaea/Acidianus_hospitalis/'\n",
      " 'https://ftp.ncbi.nlm.nih.gov/genomes/refseq/archaea/Acidianus_infernus/']\n"
     ]
    }
   ],
   "source": [
    "print(list(urls_archaea_organisms[:5]))\n",
    "print(urls_archaea_organisms[:5])"
   ]
  },
  {
   "cell_type": "markdown",
   "metadata": {},
   "source": [
    "### Crawler"
   ]
  },
  {
   "cell_type": "code",
   "execution_count": 23,
   "metadata": {},
   "outputs": [
    {
     "name": "stderr",
     "output_type": "stream",
     "text": [
      "2024-03-19 12:23:22 [scrapy.utils.log] INFO: Scrapy 2.10.0 started (bot: scrapybot)\n",
      "2024-03-19 12:23:22 [scrapy.utils.log] INFO: Versions: lxml 4.9.2.0, libxml2 2.10.4, cssselect 1.2.0, parsel 1.8.1, w3lib 2.1.2, Twisted 22.10.0, Python 3.11.3 | packaged by conda-forge | (main, Apr  6 2023, 08:57:19) [GCC 11.3.0], pyOpenSSL 23.1.1 (OpenSSL 3.1.2 1 Aug 2023), cryptography 40.0.2, Platform Linux-6.5.0-26-generic-x86_64-with-glibc2.35\n",
      "2024-03-19 12:23:22 [scrapy.addons] INFO: Enabled addons:\n",
      "[]\n",
      "2024-03-19 12:23:22 [scrapy.crawler] INFO: Overridden settings:\n",
      "{}\n",
      "2024-03-19 12:23:22 [py.warnings] WARNING: /home/diegoflm/mambaforge/envs/web_scraping/lib/python3.11/site-packages/scrapy/utils/request.py:248: ScrapyDeprecationWarning: '2.6' is a deprecated value for the 'REQUEST_FINGERPRINTER_IMPLEMENTATION' setting.\n",
      "\n",
      "It is also the default value. In other words, it is normal to get this warning if you have not defined a value for the 'REQUEST_FINGERPRINTER_IMPLEMENTATION' setting. This is so for backward compatibility reasons, but it will change in a future version of Scrapy.\n",
      "\n",
      "See the documentation of the 'REQUEST_FINGERPRINTER_IMPLEMENTATION' setting for information on how to handle this deprecation.\n",
      "  return cls(crawler)\n",
      "\n",
      "2024-03-19 12:23:22 [scrapy.utils.log] DEBUG: Using reactor: twisted.internet.epollreactor.EPollReactor\n",
      "2024-03-19 12:23:22 [scrapy.extensions.telnet] INFO: Telnet Password: de6da8d118fef94f\n",
      "2024-03-19 12:23:22 [scrapy.middleware] INFO: Enabled extensions:\n",
      "['scrapy.extensions.corestats.CoreStats',\n",
      " 'scrapy.extensions.telnet.TelnetConsole',\n",
      " 'scrapy.extensions.memusage.MemoryUsage',\n",
      " 'scrapy.extensions.logstats.LogStats']\n",
      "2024-03-19 12:23:23 [scrapy.middleware] INFO: Enabled downloader middlewares:\n",
      "['scrapy.downloadermiddlewares.httpauth.HttpAuthMiddleware',\n",
      " 'scrapy.downloadermiddlewares.downloadtimeout.DownloadTimeoutMiddleware',\n",
      " 'scrapy.downloadermiddlewares.defaultheaders.DefaultHeadersMiddleware',\n",
      " 'scrapy.downloadermiddlewares.useragent.UserAgentMiddleware',\n",
      " 'scrapy.downloadermiddlewares.retry.RetryMiddleware',\n",
      " 'scrapy.downloadermiddlewares.redirect.MetaRefreshMiddleware',\n",
      " 'scrapy.downloadermiddlewares.httpcompression.HttpCompressionMiddleware',\n",
      " 'scrapy.downloadermiddlewares.redirect.RedirectMiddleware',\n",
      " 'scrapy.downloadermiddlewares.cookies.CookiesMiddleware',\n",
      " 'scrapy.downloadermiddlewares.httpproxy.HttpProxyMiddleware',\n",
      " 'scrapy.downloadermiddlewares.stats.DownloaderStats']\n",
      "2024-03-19 12:23:23 [scrapy.middleware] INFO: Enabled spider middlewares:\n",
      "['scrapy.spidermiddlewares.httperror.HttpErrorMiddleware',\n",
      " 'scrapy.spidermiddlewares.offsite.OffsiteMiddleware',\n",
      " 'scrapy.spidermiddlewares.referer.RefererMiddleware',\n",
      " 'scrapy.spidermiddlewares.urllength.UrlLengthMiddleware',\n",
      " 'scrapy.spidermiddlewares.depth.DepthMiddleware']\n",
      "2024-03-19 12:23:23 [scrapy.middleware] INFO: Enabled item pipelines:\n",
      "['__main__.CustomFilesPipeline']\n",
      "2024-03-19 12:23:23 [scrapy.core.engine] INFO: Spider opened\n",
      "2024-03-19 12:23:23 [scrapy.extensions.logstats] INFO: Crawled 0 pages (at 0 pages/min), scraped 0 items (at 0 items/min)\n",
      "2024-03-19 12:23:23 [scrapy.extensions.telnet] INFO: Telnet console listening on 127.0.0.1:6023\n",
      "2024-03-19 12:23:23 [scrapy.core.engine] DEBUG: Crawled (200) <GET https://ftp.ncbi.nlm.nih.gov/genomes/refseq/archaea/ANME-2_cluster_archaeon_HR1/> (referer: None)\n",
      "2024-03-19 12:23:23 [scrapy.core.engine] DEBUG: Crawled (200) <GET https://ftp.ncbi.nlm.nih.gov/genomes/refseq/archaea/Acidianus_ambivalens/> (referer: None)\n",
      "2024-03-19 12:23:23 [scrapy.core.engine] DEBUG: Crawled (200) <GET https://ftp.ncbi.nlm.nih.gov/genomes/refseq/archaea/Acidianus_infernus/> (referer: None)\n",
      "2024-03-19 12:23:23 [scrapy.core.engine] DEBUG: Crawled (200) <GET https://ftp.ncbi.nlm.nih.gov/genomes/refseq/archaea/Acidianus_brierleyi/> (referer: None)\n",
      "2024-03-19 12:23:23 [scrapy.core.engine] DEBUG: Crawled (200) <GET https://ftp.ncbi.nlm.nih.gov/genomes/refseq/archaea/Acidianus_hospitalis/> (referer: None)\n",
      "2024-03-19 12:23:23 [scrapy.core.engine] DEBUG: Crawled (200) <GET https://ftp.ncbi.nlm.nih.gov/genomes/refseq/archaea/ANME-2_cluster_archaeon_HR1/all_assembly_versions/> (referer: https://ftp.ncbi.nlm.nih.gov/genomes/refseq/archaea/ANME-2_cluster_archaeon_HR1/)\n",
      "2024-03-19 12:23:23 [scrapy.core.engine] DEBUG: Crawled (200) <GET https://ftp.ncbi.nlm.nih.gov/genomes/refseq/archaea/Acidianus_ambivalens/all_assembly_versions/> (referer: https://ftp.ncbi.nlm.nih.gov/genomes/refseq/archaea/Acidianus_ambivalens/)\n",
      "2024-03-19 12:23:23 [scrapy.core.engine] DEBUG: Crawled (200) <GET https://ftp.ncbi.nlm.nih.gov/genomes/refseq/archaea/Acidianus_hospitalis/all_assembly_versions/> (referer: https://ftp.ncbi.nlm.nih.gov/genomes/refseq/archaea/Acidianus_hospitalis/)\n",
      "2024-03-19 12:23:23 [scrapy.core.engine] DEBUG: Crawled (200) <GET https://ftp.ncbi.nlm.nih.gov/genomes/refseq/archaea/Acidianus_brierleyi/all_assembly_versions/> (referer: https://ftp.ncbi.nlm.nih.gov/genomes/refseq/archaea/Acidianus_brierleyi/)\n",
      "2024-03-19 12:23:23 [scrapy.core.engine] DEBUG: Crawled (200) <GET https://ftp.ncbi.nlm.nih.gov/genomes/refseq/archaea/Acidianus_infernus/all_assembly_versions/> (referer: https://ftp.ncbi.nlm.nih.gov/genomes/refseq/archaea/Acidianus_infernus/)\n",
      "2024-03-19 12:23:23 [scrapy.core.engine] DEBUG: Crawled (200) <GET https://ftp.ncbi.nlm.nih.gov/genomes/refseq/archaea/ANME-2_cluster_archaeon_HR1/all_assembly_versions/suppressed/> (referer: https://ftp.ncbi.nlm.nih.gov/genomes/refseq/archaea/ANME-2_cluster_archaeon_HR1/all_assembly_versions/)\n",
      "2024-03-19 12:23:23 [scrapy.core.engine] DEBUG: Crawled (200) <GET https://ftp.ncbi.nlm.nih.gov/genomes/refseq/archaea/Acidianus_ambivalens/all_assembly_versions/GCF_009428885.1_ASM942888v1/> (referer: https://ftp.ncbi.nlm.nih.gov/genomes/refseq/archaea/Acidianus_ambivalens/all_assembly_versions/)\n",
      "2024-03-19 12:23:24 [scrapy.core.engine] DEBUG: Crawled (200) <GET https://ftp.ncbi.nlm.nih.gov/genomes/refseq/archaea/Acidianus_infernus/all_assembly_versions/GCF_009729545.1_ASM972954v1/> (referer: https://ftp.ncbi.nlm.nih.gov/genomes/refseq/archaea/Acidianus_infernus/all_assembly_versions/)\n",
      "2024-03-19 12:23:24 [scrapy.core.engine] DEBUG: Crawled (200) <GET https://ftp.ncbi.nlm.nih.gov/genomes/refseq/archaea/Acidianus_brierleyi/all_assembly_versions/GCF_003201835.1_ASM320183v1/> (referer: https://ftp.ncbi.nlm.nih.gov/genomes/refseq/archaea/Acidianus_brierleyi/all_assembly_versions/)\n",
      "2024-03-19 12:23:24 [scrapy.core.engine] DEBUG: Crawled (200) <GET https://ftp.ncbi.nlm.nih.gov/genomes/refseq/archaea/Acidianus_hospitalis/all_assembly_versions/GCF_000213215.1_ASM21321v1/> (referer: https://ftp.ncbi.nlm.nih.gov/genomes/refseq/archaea/Acidianus_hospitalis/all_assembly_versions/)\n",
      "2024-03-19 12:23:24 [scrapy.core.engine] DEBUG: Crawled (200) <GET https://ftp.ncbi.nlm.nih.gov/genomes/refseq/archaea/ANME-2_cluster_archaeon_HR1/all_assembly_versions/suppressed/GCF_002926195.1_ASM292619v1/> (referer: https://ftp.ncbi.nlm.nih.gov/genomes/refseq/archaea/ANME-2_cluster_archaeon_HR1/all_assembly_versions/suppressed/)\n",
      "2024-03-19 12:23:24 [scrapy.core.engine] DEBUG: Crawled (200) <GET https://ftp.ncbi.nlm.nih.gov/genomes/refseq/archaea/Acidianus_ambivalens/all_assembly_versions/GCF_009428885.1_ASM942888v1/GCF_009428885.1_ASM942888v1_genomic.fna.gz> (referer: None)\n",
      "2024-03-19 12:23:24 [scrapy.pipelines.files] DEBUG: File (downloaded): Downloaded file from <GET https://ftp.ncbi.nlm.nih.gov/genomes/refseq/archaea/Acidianus_ambivalens/all_assembly_versions/GCF_009428885.1_ASM942888v1/GCF_009428885.1_ASM942888v1_genomic.fna.gz> referred in <None>\n",
      "2024-03-19 12:23:24 [scrapy.core.engine] DEBUG: Crawled (200) <GET https://ftp.ncbi.nlm.nih.gov/genomes/refseq/archaea/Acidianus_infernus/all_assembly_versions/GCF_009729545.1_ASM972954v1/GCF_009729545.1_ASM972954v1_genomic.fna.gz> (referer: None)\n",
      "2024-03-19 12:23:24 [scrapy.pipelines.files] DEBUG: File (downloaded): Downloaded file from <GET https://ftp.ncbi.nlm.nih.gov/genomes/refseq/archaea/Acidianus_infernus/all_assembly_versions/GCF_009729545.1_ASM972954v1/GCF_009729545.1_ASM972954v1_genomic.fna.gz> referred in <None>\n",
      "2024-03-19 12:23:24 [scrapy.core.scraper] DEBUG: Scraped from <200 https://ftp.ncbi.nlm.nih.gov/genomes/refseq/archaea/Acidianus_ambivalens/all_assembly_versions/GCF_009428885.1_ASM942888v1/>\n",
      "{'file_urls': ['https://ftp.ncbi.nlm.nih.gov/genomes/refseq/archaea/Acidianus_ambivalens/all_assembly_versions/GCF_009428885.1_ASM942888v1/GCF_009428885.1_ASM942888v1_genomic.fna.gz'],\n",
      " 'genome_file_name': 'acidianus_ambivalens/GCF_009428885.1_ASM942888v1_genomic.fna.gz'}\n",
      "2024-03-19 12:23:24 [scrapy.core.engine] DEBUG: Crawled (200) <GET https://ftp.ncbi.nlm.nih.gov/genomes/refseq/archaea/Acidianus_hospitalis/all_assembly_versions/GCF_000213215.1_ASM21321v1/GCF_000213215.1_ASM21321v1_genomic.fna.gz> (referer: None)\n",
      "2024-03-19 12:23:24 [scrapy.pipelines.files] DEBUG: File (downloaded): Downloaded file from <GET https://ftp.ncbi.nlm.nih.gov/genomes/refseq/archaea/Acidianus_hospitalis/all_assembly_versions/GCF_000213215.1_ASM21321v1/GCF_000213215.1_ASM21321v1_genomic.fna.gz> referred in <None>\n",
      "2024-03-19 12:23:24 [scrapy.core.scraper] DEBUG: Scraped from <200 https://ftp.ncbi.nlm.nih.gov/genomes/refseq/archaea/Acidianus_infernus/all_assembly_versions/GCF_009729545.1_ASM972954v1/>\n",
      "{'file_urls': ['https://ftp.ncbi.nlm.nih.gov/genomes/refseq/archaea/Acidianus_infernus/all_assembly_versions/GCF_009729545.1_ASM972954v1/GCF_009729545.1_ASM972954v1_genomic.fna.gz'],\n",
      " 'genome_file_name': 'acidianus_infernus/GCF_009729545.1_ASM972954v1_genomic.fna.gz'}\n",
      "2024-03-19 12:23:24 [scrapy.core.engine] DEBUG: Crawled (200) <GET https://ftp.ncbi.nlm.nih.gov/genomes/refseq/archaea/ANME-2_cluster_archaeon_HR1/all_assembly_versions/suppressed/GCF_002926195.1_ASM292619v1/GCF_002926195.1_ASM292619v1_genomic.fna.gz> (referer: None)\n",
      "2024-03-19 12:23:24 [scrapy.pipelines.files] DEBUG: File (downloaded): Downloaded file from <GET https://ftp.ncbi.nlm.nih.gov/genomes/refseq/archaea/ANME-2_cluster_archaeon_HR1/all_assembly_versions/suppressed/GCF_002926195.1_ASM292619v1/GCF_002926195.1_ASM292619v1_genomic.fna.gz> referred in <None>\n",
      "2024-03-19 12:23:24 [scrapy.core.scraper] DEBUG: Scraped from <200 https://ftp.ncbi.nlm.nih.gov/genomes/refseq/archaea/Acidianus_hospitalis/all_assembly_versions/GCF_000213215.1_ASM21321v1/>\n",
      "{'file_urls': ['https://ftp.ncbi.nlm.nih.gov/genomes/refseq/archaea/Acidianus_hospitalis/all_assembly_versions/GCF_000213215.1_ASM21321v1/GCF_000213215.1_ASM21321v1_genomic.fna.gz'],\n",
      " 'genome_file_name': 'acidianus_hospitalis/GCF_000213215.1_ASM21321v1_genomic.fna.gz'}\n",
      "2024-03-19 12:23:24 [scrapy.core.engine] DEBUG: Crawled (200) <GET https://ftp.ncbi.nlm.nih.gov/genomes/refseq/archaea/Acidianus_brierleyi/all_assembly_versions/GCF_003201835.1_ASM320183v1/GCF_003201835.1_ASM320183v1_genomic.fna.gz> (referer: None)\n",
      "2024-03-19 12:23:24 [scrapy.pipelines.files] DEBUG: File (downloaded): Downloaded file from <GET https://ftp.ncbi.nlm.nih.gov/genomes/refseq/archaea/Acidianus_brierleyi/all_assembly_versions/GCF_003201835.1_ASM320183v1/GCF_003201835.1_ASM320183v1_genomic.fna.gz> referred in <None>\n",
      "2024-03-19 12:23:25 [scrapy.core.scraper] DEBUG: Scraped from <200 https://ftp.ncbi.nlm.nih.gov/genomes/refseq/archaea/ANME-2_cluster_archaeon_HR1/all_assembly_versions/suppressed/GCF_002926195.1_ASM292619v1/>\n",
      "{'file_urls': ['https://ftp.ncbi.nlm.nih.gov/genomes/refseq/archaea/ANME-2_cluster_archaeon_HR1/all_assembly_versions/suppressed/GCF_002926195.1_ASM292619v1/GCF_002926195.1_ASM292619v1_genomic.fna.gz'],\n",
      " 'genome_file_name': 'anme-2_cluster_archaeon_hr1/GCF_002926195.1_ASM292619v1_genomic.fna.gz'}\n",
      "2024-03-19 12:23:25 [scrapy.core.scraper] DEBUG: Scraped from <200 https://ftp.ncbi.nlm.nih.gov/genomes/refseq/archaea/Acidianus_brierleyi/all_assembly_versions/GCF_003201835.1_ASM320183v1/>\n",
      "{'file_urls': ['https://ftp.ncbi.nlm.nih.gov/genomes/refseq/archaea/Acidianus_brierleyi/all_assembly_versions/GCF_003201835.1_ASM320183v1/GCF_003201835.1_ASM320183v1_genomic.fna.gz'],\n",
      " 'genome_file_name': 'acidianus_brierleyi/GCF_003201835.1_ASM320183v1_genomic.fna.gz'}\n",
      "2024-03-19 12:23:25 [scrapy.core.engine] INFO: Closing spider (finished)\n",
      "2024-03-19 12:23:25 [scrapy.statscollectors] INFO: Dumping Scrapy stats:\n",
      "{'downloader/request_bytes': 7626,\n",
      " 'downloader/request_count': 21,\n",
      " 'downloader/request_method_count/GET': 21,\n",
      " 'downloader/response_bytes': 3485115,\n",
      " 'downloader/response_count': 21,\n",
      " 'downloader/response_status_count/200': 21,\n",
      " 'elapsed_time_seconds': 2.047428,\n",
      " 'file_count': 5,\n",
      " 'file_status_count/downloaded': 5,\n",
      " 'finish_reason': 'finished',\n",
      " 'finish_time': datetime.datetime(2024, 3, 19, 17, 23, 25, 77268),\n",
      " 'httpcompression/response_bytes': 27219,\n",
      " 'httpcompression/response_count': 16,\n",
      " 'item_scraped_count': 5,\n",
      " 'log_count/DEBUG': 32,\n",
      " 'log_count/INFO': 10,\n",
      " 'log_count/WARNING': 1,\n",
      " 'memusage/max': 357269504,\n",
      " 'memusage/startup': 357269504,\n",
      " 'request_depth_max': 3,\n",
      " 'response_received_count': 21,\n",
      " 'scheduler/dequeued': 16,\n",
      " 'scheduler/dequeued/memory': 16,\n",
      " 'scheduler/enqueued': 16,\n",
      " 'scheduler/enqueued/memory': 16,\n",
      " 'start_time': datetime.datetime(2024, 3, 19, 17, 23, 23, 29840)}\n",
      "2024-03-19 12:23:25 [scrapy.core.engine] INFO: Spider closed (finished)\n"
     ]
    }
   ],
   "source": [
    "\n",
    "process = CrawlerProcess()\n",
    "process.crawl(SpiderGenomesArchaea)\n",
    "process.start()\n"
   ]
  }
 ],
 "metadata": {
  "kernelspec": {
   "display_name": "web_scraping",
   "language": "python",
   "name": "python3"
  },
  "language_info": {
   "codemirror_mode": {
    "name": "ipython",
    "version": 3
   },
   "file_extension": ".py",
   "mimetype": "text/x-python",
   "name": "python",
   "nbconvert_exporter": "python",
   "pygments_lexer": "ipython3",
   "version": "3.11.3"
  }
 },
 "nbformat": 4,
 "nbformat_minor": 2
}
