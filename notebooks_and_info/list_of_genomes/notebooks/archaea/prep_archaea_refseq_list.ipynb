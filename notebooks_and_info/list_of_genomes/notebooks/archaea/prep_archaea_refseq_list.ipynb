{
 "cells": [
  {
   "cell_type": "markdown",
   "metadata": {},
   "source": [
    "# RefSeq archaea genomes selection"
   ]
  },
  {
   "cell_type": "code",
   "execution_count": 1,
   "metadata": {},
   "outputs": [],
   "source": [
    "import numpy as np\n",
    "import pandas as pd\n",
    "from pathlib import Path\n",
    "import os"
   ]
  },
  {
   "cell_type": "markdown",
   "metadata": {},
   "source": [
    "## Create DataFrame\n",
    "* set columns \n",
    "* convert date to DateTime \n",
    "* remove '/' at the end"
   ]
  },
  {
   "cell_type": "markdown",
   "metadata": {},
   "source": [
    "### read .txt file"
   ]
  },
  {
   "cell_type": "code",
   "execution_count": 2,
   "metadata": {},
   "outputs": [
    {
     "name": "stdout",
     "output_type": "stream",
     "text": [
      "/home/diegoflm/Documents/UV/courses_and_subjects/final_year_proyect/project/data_and_notebooks/list_of_genomes/notebooks/archaea\n"
     ]
    }
   ],
   "source": [
    "CURRENT_DIR = Path.cwd()\n",
    "print(CURRENT_DIR)"
   ]
  },
  {
   "cell_type": "code",
   "execution_count": 3,
   "metadata": {},
   "outputs": [
    {
     "name": "stdout",
     "output_type": "stream",
     "text": [
      "/home/diegoflm/Documents/UV/courses_and_subjects/final_year_proyect/project/data_and_notebooks/list_of_genomes/raw/archaea/refseq_archaea_list.txt\n"
     ]
    },
    {
     "data": {
      "text/plain": [
       "True"
      ]
     },
     "execution_count": 3,
     "metadata": {},
     "output_type": "execute_result"
    }
   ],
   "source": [
    "PATH_REFSEQ_ARCHAEA_LIST = CURRENT_DIR.parent.parent / 'raw/archaea/refseq_archaea_list.txt'\n",
    "print(PATH_REFSEQ_ARCHAEA_LIST)\n",
    "PATH_REFSEQ_ARCHAEA_LIST.exists()"
   ]
  },
  {
   "cell_type": "code",
   "execution_count": 4,
   "metadata": {},
   "outputs": [
    {
     "data": {
      "text/html": [
       "<div>\n",
       "<style scoped>\n",
       "    .dataframe tbody tr th:only-of-type {\n",
       "        vertical-align: middle;\n",
       "    }\n",
       "\n",
       "    .dataframe tbody tr th {\n",
       "        vertical-align: top;\n",
       "    }\n",
       "\n",
       "    .dataframe thead th {\n",
       "        text-align: right;\n",
       "    }\n",
       "</style>\n",
       "<table border=\"1\" class=\"dataframe\">\n",
       "  <thead>\n",
       "    <tr style=\"text-align: right;\">\n",
       "      <th></th>\n",
       "      <th>0</th>\n",
       "      <th>1</th>\n",
       "      <th>2</th>\n",
       "      <th>3</th>\n",
       "    </tr>\n",
       "  </thead>\n",
       "  <tbody>\n",
       "    <tr>\n",
       "      <th>0</th>\n",
       "      <td>ANME-2_cluster_archaeon_HR1/</td>\n",
       "      <td>2023-06-22</td>\n",
       "      <td>16:03</td>\n",
       "      <td>-</td>\n",
       "    </tr>\n",
       "    <tr>\n",
       "      <th>1</th>\n",
       "      <td>Acidianus_ambivalens/</td>\n",
       "      <td>2023-06-22</td>\n",
       "      <td>18:31</td>\n",
       "      <td>-</td>\n",
       "    </tr>\n",
       "    <tr>\n",
       "      <th>2</th>\n",
       "      <td>Acidianus_brierleyi/</td>\n",
       "      <td>2023-06-22</td>\n",
       "      <td>19:13</td>\n",
       "      <td>-</td>\n",
       "    </tr>\n",
       "    <tr>\n",
       "      <th>3</th>\n",
       "      <td>Acidianus_hospitalis/</td>\n",
       "      <td>2023-06-22</td>\n",
       "      <td>12:44</td>\n",
       "      <td>-</td>\n",
       "    </tr>\n",
       "    <tr>\n",
       "      <th>4</th>\n",
       "      <td>Acidianus_infernus/</td>\n",
       "      <td>2023-06-22</td>\n",
       "      <td>18:31</td>\n",
       "      <td>-</td>\n",
       "    </tr>\n",
       "  </tbody>\n",
       "</table>\n",
       "</div>"
      ],
      "text/plain": [
       "                              0           1      2  3\n",
       "0  ANME-2_cluster_archaeon_HR1/  2023-06-22  16:03  -\n",
       "1         Acidianus_ambivalens/  2023-06-22  18:31  -\n",
       "2          Acidianus_brierleyi/  2023-06-22  19:13  -\n",
       "3         Acidianus_hospitalis/  2023-06-22  12:44  -\n",
       "4           Acidianus_infernus/  2023-06-22  18:31  -"
      ]
     },
     "execution_count": 4,
     "metadata": {},
     "output_type": "execute_result"
    }
   ],
   "source": [
    "# Header\n",
    "header_refseq_archaea_list = ['organism', 'last_update']\n",
    "\n",
    "# read the file\n",
    "list_refseq_archaea = pd.read_csv(PATH_REFSEQ_ARCHAEA_LIST, header = None, \n",
    "                                  sep = '\\s+')\n",
    "list_refseq_archaea.head()\n"
   ]
  },
  {
   "cell_type": "markdown",
   "metadata": {},
   "source": [
    "### Format the date into DateTime"
   ]
  },
  {
   "cell_type": "code",
   "execution_count": 5,
   "metadata": {},
   "outputs": [
    {
     "data": {
      "text/html": [
       "<div>\n",
       "<style scoped>\n",
       "    .dataframe tbody tr th:only-of-type {\n",
       "        vertical-align: middle;\n",
       "    }\n",
       "\n",
       "    .dataframe tbody tr th {\n",
       "        vertical-align: top;\n",
       "    }\n",
       "\n",
       "    .dataframe thead th {\n",
       "        text-align: right;\n",
       "    }\n",
       "</style>\n",
       "<table border=\"1\" class=\"dataframe\">\n",
       "  <thead>\n",
       "    <tr style=\"text-align: right;\">\n",
       "      <th></th>\n",
       "      <th>0</th>\n",
       "      <th>1</th>\n",
       "      <th>2</th>\n",
       "      <th>3</th>\n",
       "      <th>last_update</th>\n",
       "    </tr>\n",
       "  </thead>\n",
       "  <tbody>\n",
       "    <tr>\n",
       "      <th>0</th>\n",
       "      <td>ANME-2_cluster_archaeon_HR1/</td>\n",
       "      <td>2023-06-22</td>\n",
       "      <td>16:03</td>\n",
       "      <td>-</td>\n",
       "      <td>2023-06-22 16:03:00</td>\n",
       "    </tr>\n",
       "    <tr>\n",
       "      <th>1</th>\n",
       "      <td>Acidianus_ambivalens/</td>\n",
       "      <td>2023-06-22</td>\n",
       "      <td>18:31</td>\n",
       "      <td>-</td>\n",
       "      <td>2023-06-22 18:31:00</td>\n",
       "    </tr>\n",
       "    <tr>\n",
       "      <th>2</th>\n",
       "      <td>Acidianus_brierleyi/</td>\n",
       "      <td>2023-06-22</td>\n",
       "      <td>19:13</td>\n",
       "      <td>-</td>\n",
       "      <td>2023-06-22 19:13:00</td>\n",
       "    </tr>\n",
       "    <tr>\n",
       "      <th>3</th>\n",
       "      <td>Acidianus_hospitalis/</td>\n",
       "      <td>2023-06-22</td>\n",
       "      <td>12:44</td>\n",
       "      <td>-</td>\n",
       "      <td>2023-06-22 12:44:00</td>\n",
       "    </tr>\n",
       "    <tr>\n",
       "      <th>4</th>\n",
       "      <td>Acidianus_infernus/</td>\n",
       "      <td>2023-06-22</td>\n",
       "      <td>18:31</td>\n",
       "      <td>-</td>\n",
       "      <td>2023-06-22 18:31:00</td>\n",
       "    </tr>\n",
       "  </tbody>\n",
       "</table>\n",
       "</div>"
      ],
      "text/plain": [
       "                              0           1      2  3         last_update\n",
       "0  ANME-2_cluster_archaeon_HR1/  2023-06-22  16:03  - 2023-06-22 16:03:00\n",
       "1         Acidianus_ambivalens/  2023-06-22  18:31  - 2023-06-22 18:31:00\n",
       "2          Acidianus_brierleyi/  2023-06-22  19:13  - 2023-06-22 19:13:00\n",
       "3         Acidianus_hospitalis/  2023-06-22  12:44  - 2023-06-22 12:44:00\n",
       "4           Acidianus_infernus/  2023-06-22  18:31  - 2023-06-22 18:31:00"
      ]
     },
     "execution_count": 5,
     "metadata": {},
     "output_type": "execute_result"
    }
   ],
   "source": [
    "# transform the columns 1 (YYYY/MM/DD) and 2 (HH:MM) into a single DateTime column\n",
    "list_refseq_archaea['last_update'] = \\\n",
    "    pd.to_datetime(list_refseq_archaea[1] + ' ' + list_refseq_archaea[2])\n",
    "list_refseq_archaea.head()"
   ]
  },
  {
   "cell_type": "code",
   "execution_count": 6,
   "metadata": {},
   "outputs": [
    {
     "data": {
      "text/plain": [
       "Timestamp('2023-06-22 16:03:00')"
      ]
     },
     "execution_count": 6,
     "metadata": {},
     "output_type": "execute_result"
    }
   ],
   "source": [
    "list_refseq_archaea['last_update'][0]"
   ]
  },
  {
   "cell_type": "markdown",
   "metadata": {},
   "source": [
    "### Set column names and dtype of 'organism'"
   ]
  },
  {
   "cell_type": "code",
   "execution_count": 7,
   "metadata": {},
   "outputs": [
    {
     "data": {
      "text/html": [
       "<div>\n",
       "<style scoped>\n",
       "    .dataframe tbody tr th:only-of-type {\n",
       "        vertical-align: middle;\n",
       "    }\n",
       "\n",
       "    .dataframe tbody tr th {\n",
       "        vertical-align: top;\n",
       "    }\n",
       "\n",
       "    .dataframe thead th {\n",
       "        text-align: right;\n",
       "    }\n",
       "</style>\n",
       "<table border=\"1\" class=\"dataframe\">\n",
       "  <thead>\n",
       "    <tr style=\"text-align: right;\">\n",
       "      <th></th>\n",
       "      <th>0</th>\n",
       "      <th>last_update</th>\n",
       "    </tr>\n",
       "  </thead>\n",
       "  <tbody>\n",
       "    <tr>\n",
       "      <th>0</th>\n",
       "      <td>ANME-2_cluster_archaeon_HR1/</td>\n",
       "      <td>2023-06-22 16:03:00</td>\n",
       "    </tr>\n",
       "    <tr>\n",
       "      <th>1</th>\n",
       "      <td>Acidianus_ambivalens/</td>\n",
       "      <td>2023-06-22 18:31:00</td>\n",
       "    </tr>\n",
       "    <tr>\n",
       "      <th>2</th>\n",
       "      <td>Acidianus_brierleyi/</td>\n",
       "      <td>2023-06-22 19:13:00</td>\n",
       "    </tr>\n",
       "    <tr>\n",
       "      <th>3</th>\n",
       "      <td>Acidianus_hospitalis/</td>\n",
       "      <td>2023-06-22 12:44:00</td>\n",
       "    </tr>\n",
       "    <tr>\n",
       "      <th>4</th>\n",
       "      <td>Acidianus_infernus/</td>\n",
       "      <td>2023-06-22 18:31:00</td>\n",
       "    </tr>\n",
       "  </tbody>\n",
       "</table>\n",
       "</div>"
      ],
      "text/plain": [
       "                              0         last_update\n",
       "0  ANME-2_cluster_archaeon_HR1/ 2023-06-22 16:03:00\n",
       "1         Acidianus_ambivalens/ 2023-06-22 18:31:00\n",
       "2          Acidianus_brierleyi/ 2023-06-22 19:13:00\n",
       "3         Acidianus_hospitalis/ 2023-06-22 12:44:00\n",
       "4           Acidianus_infernus/ 2023-06-22 18:31:00"
      ]
     },
     "execution_count": 7,
     "metadata": {},
     "output_type": "execute_result"
    }
   ],
   "source": [
    "list_refseq_archaea.drop(columns = [1, 2, 3], inplace = True)\n",
    "list_refseq_archaea.head()"
   ]
  },
  {
   "cell_type": "code",
   "execution_count": 8,
   "metadata": {},
   "outputs": [
    {
     "data": {
      "text/html": [
       "<div>\n",
       "<style scoped>\n",
       "    .dataframe tbody tr th:only-of-type {\n",
       "        vertical-align: middle;\n",
       "    }\n",
       "\n",
       "    .dataframe tbody tr th {\n",
       "        vertical-align: top;\n",
       "    }\n",
       "\n",
       "    .dataframe thead th {\n",
       "        text-align: right;\n",
       "    }\n",
       "</style>\n",
       "<table border=\"1\" class=\"dataframe\">\n",
       "  <thead>\n",
       "    <tr style=\"text-align: right;\">\n",
       "      <th></th>\n",
       "      <th>organism</th>\n",
       "      <th>last_update</th>\n",
       "    </tr>\n",
       "  </thead>\n",
       "  <tbody>\n",
       "    <tr>\n",
       "      <th>0</th>\n",
       "      <td>ANME-2_cluster_archaeon_HR1/</td>\n",
       "      <td>2023-06-22 16:03:00</td>\n",
       "    </tr>\n",
       "    <tr>\n",
       "      <th>1</th>\n",
       "      <td>Acidianus_ambivalens/</td>\n",
       "      <td>2023-06-22 18:31:00</td>\n",
       "    </tr>\n",
       "    <tr>\n",
       "      <th>2</th>\n",
       "      <td>Acidianus_brierleyi/</td>\n",
       "      <td>2023-06-22 19:13:00</td>\n",
       "    </tr>\n",
       "    <tr>\n",
       "      <th>3</th>\n",
       "      <td>Acidianus_hospitalis/</td>\n",
       "      <td>2023-06-22 12:44:00</td>\n",
       "    </tr>\n",
       "    <tr>\n",
       "      <th>4</th>\n",
       "      <td>Acidianus_infernus/</td>\n",
       "      <td>2023-06-22 18:31:00</td>\n",
       "    </tr>\n",
       "  </tbody>\n",
       "</table>\n",
       "</div>"
      ],
      "text/plain": [
       "                       organism         last_update\n",
       "0  ANME-2_cluster_archaeon_HR1/ 2023-06-22 16:03:00\n",
       "1         Acidianus_ambivalens/ 2023-06-22 18:31:00\n",
       "2          Acidianus_brierleyi/ 2023-06-22 19:13:00\n",
       "3         Acidianus_hospitalis/ 2023-06-22 12:44:00\n",
       "4           Acidianus_infernus/ 2023-06-22 18:31:00"
      ]
     },
     "execution_count": 8,
     "metadata": {},
     "output_type": "execute_result"
    }
   ],
   "source": [
    "# rename columns with header_refseq_archaea_list\n",
    "list_refseq_archaea.columns = header_refseq_archaea_list\n",
    "list_refseq_archaea.head()"
   ]
  },
  {
   "cell_type": "code",
   "execution_count": 9,
   "metadata": {},
   "outputs": [
    {
     "data": {
      "text/plain": [
       "organism               object\n",
       "last_update    datetime64[ns]\n",
       "dtype: object"
      ]
     },
     "execution_count": 9,
     "metadata": {},
     "output_type": "execute_result"
    }
   ],
   "source": [
    "list_refseq_archaea.dtypes"
   ]
  },
  {
   "cell_type": "code",
   "execution_count": 10,
   "metadata": {},
   "outputs": [
    {
     "data": {
      "text/plain": [
       "organism       string[python]\n",
       "last_update    datetime64[ns]\n",
       "dtype: object"
      ]
     },
     "execution_count": 10,
     "metadata": {},
     "output_type": "execute_result"
    }
   ],
   "source": [
    "# Set organism column as type 'string[python]'\n",
    "list_refseq_archaea['organism'] = list_refseq_archaea['organism'].astype(\"string\")\n",
    "list_refseq_archaea.dtypes"
   ]
  },
  {
   "cell_type": "markdown",
   "metadata": {},
   "source": [
    "### Remove '/' at the end of organism name"
   ]
  },
  {
   "cell_type": "code",
   "execution_count": 11,
   "metadata": {},
   "outputs": [
    {
     "data": {
      "text/html": [
       "<div>\n",
       "<style scoped>\n",
       "    .dataframe tbody tr th:only-of-type {\n",
       "        vertical-align: middle;\n",
       "    }\n",
       "\n",
       "    .dataframe tbody tr th {\n",
       "        vertical-align: top;\n",
       "    }\n",
       "\n",
       "    .dataframe thead th {\n",
       "        text-align: right;\n",
       "    }\n",
       "</style>\n",
       "<table border=\"1\" class=\"dataframe\">\n",
       "  <thead>\n",
       "    <tr style=\"text-align: right;\">\n",
       "      <th></th>\n",
       "      <th>organism</th>\n",
       "      <th>last_update</th>\n",
       "    </tr>\n",
       "  </thead>\n",
       "  <tbody>\n",
       "    <tr>\n",
       "      <th>0</th>\n",
       "      <td>ANME-2_cluster_archaeon_HR1</td>\n",
       "      <td>2023-06-22 16:03:00</td>\n",
       "    </tr>\n",
       "    <tr>\n",
       "      <th>1</th>\n",
       "      <td>Acidianus_ambivalens</td>\n",
       "      <td>2023-06-22 18:31:00</td>\n",
       "    </tr>\n",
       "    <tr>\n",
       "      <th>2</th>\n",
       "      <td>Acidianus_brierleyi</td>\n",
       "      <td>2023-06-22 19:13:00</td>\n",
       "    </tr>\n",
       "    <tr>\n",
       "      <th>3</th>\n",
       "      <td>Acidianus_hospitalis</td>\n",
       "      <td>2023-06-22 12:44:00</td>\n",
       "    </tr>\n",
       "    <tr>\n",
       "      <th>4</th>\n",
       "      <td>Acidianus_infernus</td>\n",
       "      <td>2023-06-22 18:31:00</td>\n",
       "    </tr>\n",
       "  </tbody>\n",
       "</table>\n",
       "</div>"
      ],
      "text/plain": [
       "                      organism         last_update\n",
       "0  ANME-2_cluster_archaeon_HR1 2023-06-22 16:03:00\n",
       "1         Acidianus_ambivalens 2023-06-22 18:31:00\n",
       "2          Acidianus_brierleyi 2023-06-22 19:13:00\n",
       "3         Acidianus_hospitalis 2023-06-22 12:44:00\n",
       "4           Acidianus_infernus 2023-06-22 18:31:00"
      ]
     },
     "execution_count": 11,
     "metadata": {},
     "output_type": "execute_result"
    }
   ],
   "source": [
    "# Remove '/' at the end of organism name\n",
    "list_refseq_archaea['organism'] = list_refseq_archaea['organism'].str.rstrip('/')\n",
    "list_refseq_archaea.head()"
   ]
  },
  {
   "cell_type": "markdown",
   "metadata": {},
   "source": [
    "### Save the DataFrame"
   ]
  },
  {
   "cell_type": "code",
   "execution_count": 12,
   "metadata": {},
   "outputs": [
    {
     "name": "stdout",
     "output_type": "stream",
     "text": [
      "/home/diegoflm/Documents/UV/courses_and_subjects/final_year_proyect/project/data_and_notebooks/list_of_genomes/preprocessed/archaea\n"
     ]
    },
    {
     "data": {
      "text/plain": [
       "True"
      ]
     },
     "execution_count": 12,
     "metadata": {},
     "output_type": "execute_result"
    }
   ],
   "source": [
    "PATH_PREPROCESSED_ARCHAEA = CURRENT_DIR.parent.parent / 'preprocessed/archaea'\n",
    "print(PATH_PREPROCESSED_ARCHAEA)\n",
    "PATH_PREPROCESSED_ARCHAEA.exists()"
   ]
  },
  {
   "cell_type": "code",
   "execution_count": 13,
   "metadata": {},
   "outputs": [],
   "source": [
    "# save the dataframe as a csv file\n",
    "list_refseq_archaea.to_csv(PATH_PREPROCESSED_ARCHAEA / 'list_refseq_archaea.csv',\n",
    "                            index = True, header = True)"
   ]
  },
  {
   "cell_type": "code",
   "execution_count": 14,
   "metadata": {},
   "outputs": [
    {
     "data": {
      "text/html": [
       "<div>\n",
       "<style scoped>\n",
       "    .dataframe tbody tr th:only-of-type {\n",
       "        vertical-align: middle;\n",
       "    }\n",
       "\n",
       "    .dataframe tbody tr th {\n",
       "        vertical-align: top;\n",
       "    }\n",
       "\n",
       "    .dataframe thead th {\n",
       "        text-align: right;\n",
       "    }\n",
       "</style>\n",
       "<table border=\"1\" class=\"dataframe\">\n",
       "  <thead>\n",
       "    <tr style=\"text-align: right;\">\n",
       "      <th></th>\n",
       "      <th>organism</th>\n",
       "      <th>last_update</th>\n",
       "    </tr>\n",
       "  </thead>\n",
       "  <tbody>\n",
       "    <tr>\n",
       "      <th>0</th>\n",
       "      <td>ANME-2_cluster_archaeon_HR1</td>\n",
       "      <td>2023-06-22 16:03:00</td>\n",
       "    </tr>\n",
       "    <tr>\n",
       "      <th>1</th>\n",
       "      <td>Acidianus_ambivalens</td>\n",
       "      <td>2023-06-22 18:31:00</td>\n",
       "    </tr>\n",
       "    <tr>\n",
       "      <th>2</th>\n",
       "      <td>Acidianus_brierleyi</td>\n",
       "      <td>2023-06-22 19:13:00</td>\n",
       "    </tr>\n",
       "    <tr>\n",
       "      <th>3</th>\n",
       "      <td>Acidianus_hospitalis</td>\n",
       "      <td>2023-06-22 12:44:00</td>\n",
       "    </tr>\n",
       "    <tr>\n",
       "      <th>4</th>\n",
       "      <td>Acidianus_infernus</td>\n",
       "      <td>2023-06-22 18:31:00</td>\n",
       "    </tr>\n",
       "  </tbody>\n",
       "</table>\n",
       "</div>"
      ],
      "text/plain": [
       "                      organism          last_update\n",
       "0  ANME-2_cluster_archaeon_HR1  2023-06-22 16:03:00\n",
       "1         Acidianus_ambivalens  2023-06-22 18:31:00\n",
       "2          Acidianus_brierleyi  2023-06-22 19:13:00\n",
       "3         Acidianus_hospitalis  2023-06-22 12:44:00\n",
       "4           Acidianus_infernus  2023-06-22 18:31:00"
      ]
     },
     "execution_count": 14,
     "metadata": {},
     "output_type": "execute_result"
    }
   ],
   "source": [
    "temp = pd.read_csv(PATH_PREPROCESSED_ARCHAEA / 'list_refseq_archaea.csv',\n",
    "                        index_col = 0)\n",
    "temp.head()"
   ]
  },
  {
   "cell_type": "markdown",
   "metadata": {},
   "source": [
    "## Random selection of 100 RefSeq archaea genomes"
   ]
  },
  {
   "cell_type": "code",
   "execution_count": 15,
   "metadata": {},
   "outputs": [],
   "source": [
    "import numpy as np\n",
    "import pandas as pd\n",
    "from pathlib import Path"
   ]
  },
  {
   "cell_type": "code",
   "execution_count": 16,
   "metadata": {},
   "outputs": [],
   "source": [
    "CURRENT_DIR = Path.cwd()\n",
    "PATH_PREPROCESSED_ARCHAEA = CURRENT_DIR.parent.parent / 'preprocessed/archaea'"
   ]
  },
  {
   "cell_type": "markdown",
   "metadata": {},
   "source": [
    "### Sampling"
   ]
  },
  {
   "cell_type": "code",
   "execution_count": 17,
   "metadata": {},
   "outputs": [
    {
     "data": {
      "text/html": [
       "<div>\n",
       "<style scoped>\n",
       "    .dataframe tbody tr th:only-of-type {\n",
       "        vertical-align: middle;\n",
       "    }\n",
       "\n",
       "    .dataframe tbody tr th {\n",
       "        vertical-align: top;\n",
       "    }\n",
       "\n",
       "    .dataframe thead th {\n",
       "        text-align: right;\n",
       "    }\n",
       "</style>\n",
       "<table border=\"1\" class=\"dataframe\">\n",
       "  <thead>\n",
       "    <tr style=\"text-align: right;\">\n",
       "      <th></th>\n",
       "      <th>organism</th>\n",
       "      <th>last_update</th>\n",
       "    </tr>\n",
       "  </thead>\n",
       "  <tbody>\n",
       "    <tr>\n",
       "      <th>0</th>\n",
       "      <td>ANME-2_cluster_archaeon_HR1</td>\n",
       "      <td>2023-06-22 16:03:00</td>\n",
       "    </tr>\n",
       "    <tr>\n",
       "      <th>1</th>\n",
       "      <td>Acidianus_ambivalens</td>\n",
       "      <td>2023-06-22 18:31:00</td>\n",
       "    </tr>\n",
       "    <tr>\n",
       "      <th>2</th>\n",
       "      <td>Acidianus_brierleyi</td>\n",
       "      <td>2023-06-22 19:13:00</td>\n",
       "    </tr>\n",
       "    <tr>\n",
       "      <th>3</th>\n",
       "      <td>Acidianus_hospitalis</td>\n",
       "      <td>2023-06-22 12:44:00</td>\n",
       "    </tr>\n",
       "    <tr>\n",
       "      <th>4</th>\n",
       "      <td>Acidianus_infernus</td>\n",
       "      <td>2023-06-22 18:31:00</td>\n",
       "    </tr>\n",
       "  </tbody>\n",
       "</table>\n",
       "</div>"
      ],
      "text/plain": [
       "                      organism          last_update\n",
       "0  ANME-2_cluster_archaeon_HR1  2023-06-22 16:03:00\n",
       "1         Acidianus_ambivalens  2023-06-22 18:31:00\n",
       "2          Acidianus_brierleyi  2023-06-22 19:13:00\n",
       "3         Acidianus_hospitalis  2023-06-22 12:44:00\n",
       "4           Acidianus_infernus  2023-06-22 18:31:00"
      ]
     },
     "execution_count": 17,
     "metadata": {},
     "output_type": "execute_result"
    }
   ],
   "source": [
    "list_archaea = pd.read_csv(PATH_PREPROCESSED_ARCHAEA / 'list_refseq_archaea.csv',\n",
    "                            index_col = 0, header = 0)\n",
    "list_archaea.head()"
   ]
  },
  {
   "cell_type": "code",
   "execution_count": 18,
   "metadata": {},
   "outputs": [
    {
     "data": {
      "text/plain": [
       "(1094, 2)"
      ]
     },
     "execution_count": 18,
     "metadata": {},
     "output_type": "execute_result"
    }
   ],
   "source": [
    "list_archaea.shape"
   ]
  },
  {
   "cell_type": "code",
   "execution_count": 30,
   "metadata": {},
   "outputs": [
    {
     "data": {
      "text/html": [
       "<div>\n",
       "<style scoped>\n",
       "    .dataframe tbody tr th:only-of-type {\n",
       "        vertical-align: middle;\n",
       "    }\n",
       "\n",
       "    .dataframe tbody tr th {\n",
       "        vertical-align: top;\n",
       "    }\n",
       "\n",
       "    .dataframe thead th {\n",
       "        text-align: right;\n",
       "    }\n",
       "</style>\n",
       "<table border=\"1\" class=\"dataframe\">\n",
       "  <thead>\n",
       "    <tr style=\"text-align: right;\">\n",
       "      <th></th>\n",
       "      <th>organism</th>\n",
       "      <th>last_update</th>\n",
       "    </tr>\n",
       "  </thead>\n",
       "  <tbody>\n",
       "    <tr>\n",
       "      <th>31</th>\n",
       "      <td>Archaeoglobus_profundus</td>\n",
       "      <td>2023-06-22 12:40:00</td>\n",
       "    </tr>\n",
       "    <tr>\n",
       "      <th>44</th>\n",
       "      <td>Candidatus_Bathyarchaeota_archaeon</td>\n",
       "      <td>2023-06-22 16:34:00</td>\n",
       "    </tr>\n",
       "    <tr>\n",
       "      <th>51</th>\n",
       "      <td>Candidatus_Korarchaeum_sp.</td>\n",
       "      <td>2023-06-22 22:41:00</td>\n",
       "    </tr>\n",
       "    <tr>\n",
       "      <th>56</th>\n",
       "      <td>Candidatus_Methanolliviera_sp._GoM_oil</td>\n",
       "      <td>2023-06-22 17:55:00</td>\n",
       "    </tr>\n",
       "    <tr>\n",
       "      <th>59</th>\n",
       "      <td>Candidatus_Methanomethylophilus_sp._1R26</td>\n",
       "      <td>2023-06-22 14:06:00</td>\n",
       "    </tr>\n",
       "  </tbody>\n",
       "</table>\n",
       "</div>"
      ],
      "text/plain": [
       "                                    organism          last_update\n",
       "31                   Archaeoglobus_profundus  2023-06-22 12:40:00\n",
       "44        Candidatus_Bathyarchaeota_archaeon  2023-06-22 16:34:00\n",
       "51                Candidatus_Korarchaeum_sp.  2023-06-22 22:41:00\n",
       "56    Candidatus_Methanolliviera_sp._GoM_oil  2023-06-22 17:55:00\n",
       "59  Candidatus_Methanomethylophilus_sp._1R26  2023-06-22 14:06:00"
      ]
     },
     "execution_count": 30,
     "metadata": {},
     "output_type": "execute_result"
    }
   ],
   "source": [
    "# Set of a random seed and selection of 100 random genomes\n",
    "np.random.seed(42)\n",
    "sample_archaea = list_archaea.sample(n = 100)\n",
    "sample_archaea.sort_index(inplace = True)\n",
    "sample_archaea.head()"
   ]
  },
  {
   "cell_type": "markdown",
   "metadata": {},
   "source": [
    "### Save the sample DataFrame"
   ]
  },
  {
   "cell_type": "code",
   "execution_count": 31,
   "metadata": {},
   "outputs": [
    {
     "name": "stdout",
     "output_type": "stream",
     "text": [
      "/home/diegoflm/Documents/UV/courses_and_subjects/final_year_proyect/project/data_and_notebooks/list_of_genomes/preprocessed/archaea\n"
     ]
    },
    {
     "data": {
      "text/plain": [
       "True"
      ]
     },
     "execution_count": 31,
     "metadata": {},
     "output_type": "execute_result"
    }
   ],
   "source": [
    "PATH_PREPROCESSED_ARCHAEA = CURRENT_DIR.parent.parent / 'preprocessed/archaea'\n",
    "print(PATH_PREPROCESSED_ARCHAEA)\n",
    "PATH_PREPROCESSED_ARCHAEA.exists()"
   ]
  },
  {
   "cell_type": "code",
   "execution_count": 32,
   "metadata": {},
   "outputs": [],
   "source": [
    "sample_archaea.to_csv(PATH_PREPROCESSED_ARCHAEA / 'sample_archaea.csv',\n",
    "                        index = True, header = True)\n"
   ]
  },
  {
   "cell_type": "code",
   "execution_count": 33,
   "metadata": {},
   "outputs": [
    {
     "data": {
      "text/html": [
       "<div>\n",
       "<style scoped>\n",
       "    .dataframe tbody tr th:only-of-type {\n",
       "        vertical-align: middle;\n",
       "    }\n",
       "\n",
       "    .dataframe tbody tr th {\n",
       "        vertical-align: top;\n",
       "    }\n",
       "\n",
       "    .dataframe thead th {\n",
       "        text-align: right;\n",
       "    }\n",
       "</style>\n",
       "<table border=\"1\" class=\"dataframe\">\n",
       "  <thead>\n",
       "    <tr style=\"text-align: right;\">\n",
       "      <th></th>\n",
       "      <th>organism</th>\n",
       "      <th>last_update</th>\n",
       "    </tr>\n",
       "  </thead>\n",
       "  <tbody>\n",
       "    <tr>\n",
       "      <th>31</th>\n",
       "      <td>Archaeoglobus_profundus</td>\n",
       "      <td>2023-06-22 12:40:00</td>\n",
       "    </tr>\n",
       "    <tr>\n",
       "      <th>44</th>\n",
       "      <td>Candidatus_Bathyarchaeota_archaeon</td>\n",
       "      <td>2023-06-22 16:34:00</td>\n",
       "    </tr>\n",
       "    <tr>\n",
       "      <th>51</th>\n",
       "      <td>Candidatus_Korarchaeum_sp.</td>\n",
       "      <td>2023-06-22 22:41:00</td>\n",
       "    </tr>\n",
       "    <tr>\n",
       "      <th>56</th>\n",
       "      <td>Candidatus_Methanolliviera_sp._GoM_oil</td>\n",
       "      <td>2023-06-22 17:55:00</td>\n",
       "    </tr>\n",
       "    <tr>\n",
       "      <th>59</th>\n",
       "      <td>Candidatus_Methanomethylophilus_sp._1R26</td>\n",
       "      <td>2023-06-22 14:06:00</td>\n",
       "    </tr>\n",
       "  </tbody>\n",
       "</table>\n",
       "</div>"
      ],
      "text/plain": [
       "                                    organism          last_update\n",
       "31                   Archaeoglobus_profundus  2023-06-22 12:40:00\n",
       "44        Candidatus_Bathyarchaeota_archaeon  2023-06-22 16:34:00\n",
       "51                Candidatus_Korarchaeum_sp.  2023-06-22 22:41:00\n",
       "56    Candidatus_Methanolliviera_sp._GoM_oil  2023-06-22 17:55:00\n",
       "59  Candidatus_Methanomethylophilus_sp._1R26  2023-06-22 14:06:00"
      ]
     },
     "execution_count": 33,
     "metadata": {},
     "output_type": "execute_result"
    }
   ],
   "source": [
    "temp = pd.read_csv(PATH_PREPROCESSED_ARCHAEA / 'sample_archaea.csv',\n",
    "                        index_col = 0)\n",
    "temp.head()"
   ]
  },
  {
   "cell_type": "code",
   "execution_count": null,
   "metadata": {},
   "outputs": [],
   "source": []
  }
 ],
 "metadata": {
  "kernelspec": {
   "display_name": "cookiecutter-nb",
   "language": "python",
   "name": "python3"
  },
  "language_info": {
   "codemirror_mode": {
    "name": "ipython",
    "version": 3
   },
   "file_extension": ".py",
   "mimetype": "text/x-python",
   "name": "python",
   "nbconvert_exporter": "python",
   "pygments_lexer": "ipython3",
   "version": "3.11.3"
  },
  "orig_nbformat": 4
 },
 "nbformat": 4,
 "nbformat_minor": 2
}
