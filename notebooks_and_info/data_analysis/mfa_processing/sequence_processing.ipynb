{
 "cells": [
  {
   "cell_type": "code",
   "execution_count": 1,
   "metadata": {},
   "outputs": [
    {
     "name": "stdout",
     "output_type": "stream",
     "text": [
      "True\n",
      "True\n"
     ]
    }
   ],
   "source": [
    "from pathlib import Path\n",
    "import numpy as np\n",
    "import sys\n",
    "import time\n",
    "\n",
    "from mfa_processor import MFA_PROCESSOR"
   ]
  },
  {
   "cell_type": "code",
   "execution_count": 2,
   "metadata": {},
   "outputs": [
    {
     "name": "stdout",
     "output_type": "stream",
     "text": [
      "True\n"
     ]
    }
   ],
   "source": [
    "DIR_MFA = Path.cwd().parent.parent / 'MFA_code'\n",
    "print(DIR_MFA.exists())\n",
    "\n",
    "sys.path.append(str(DIR_MFA))\n",
    "from mfa import MFA"
   ]
  },
  {
   "cell_type": "markdown",
   "metadata": {},
   "source": [
    "# Constants"
   ]
  },
  {
   "cell_type": "code",
   "execution_count": 3,
   "metadata": {},
   "outputs": [
    {
     "data": {
      "text/plain": [
       "True"
      ]
     },
     "execution_count": 3,
     "metadata": {},
     "output_type": "execute_result"
    }
   ],
   "source": [
    "PATH_DATA = Path.cwd().parent.parent.parent / 'data'\n",
    "PATH_DATA.exists()"
   ]
  },
  {
   "cell_type": "code",
   "execution_count": 4,
   "metadata": {},
   "outputs": [
    {
     "data": {
      "text/plain": [
       "True"
      ]
     },
     "execution_count": 4,
     "metadata": {},
     "output_type": "execute_result"
    }
   ],
   "source": [
    "PATH_ARCHAEA_FNA = (PATH_DATA / \"raw\" / \"genomes\" / \"archaea\" /\n",
    "    \"genomic_fna\")\n",
    "PATH_ARCHAEA_FNA.exists()"
   ]
  },
  {
   "cell_type": "markdown",
   "metadata": {},
   "source": [
    "# Processing"
   ]
  },
  {
   "cell_type": "code",
   "execution_count": 5,
   "metadata": {},
   "outputs": [],
   "source": [
    "mfa_processor = MFA_PROCESSOR(PATH_ARCHAEA_FNA)"
   ]
  },
  {
   "cell_type": "markdown",
   "metadata": {},
   "source": [
    "## Decompression"
   ]
  },
  {
   "cell_type": "code",
   "execution_count": 6,
   "metadata": {},
   "outputs": [
    {
     "name": "stdout",
     "output_type": "stream",
     "text": [
      "1193\n",
      "acidianus_ambivalens\n",
      "acidianus_brierleyi\n",
      "acidianus_hospitalis\n"
     ]
    }
   ],
   "source": [
    "# show the elements inside the folder PATH_ARCHAEA_FNA\n",
    "# in alphabetical order\n",
    "\n",
    "# elements in the folder PATH_ARCHAEA_FNA\n",
    "elements = list(PATH_ARCHAEA_FNA.iterdir())\n",
    "elements = sorted(elements)\n",
    "print(len(elements))\n",
    "\n",
    "test_list_1 = []\n",
    "for element in elements[:3]:\n",
    "    test_list_1.append(element.name)\n",
    "\n",
    "for element in test_list_1:\n",
    "    print(element)\n"
   ]
  },
  {
   "cell_type": "code",
   "execution_count": 7,
   "metadata": {},
   "outputs": [
    {
     "name": "stdout",
     "output_type": "stream",
     "text": [
      "Decompressed: at acidianus_ambivalens to /home/diegoflm/Documents/UV/courses_and_subjects/final_year_proyect/project/data/raw/genomes/archaea/genomic_fna/acidianus_ambivalens/GCF_009428885.1_ASM942888v1_genomic.fna\n",
      "Decompressed: at acidianus_brierleyi to /home/diegoflm/Documents/UV/courses_and_subjects/final_year_proyect/project/data/raw/genomes/archaea/genomic_fna/acidianus_brierleyi/GCF_003201835.1_ASM320183v1_genomic.fna\n",
      "Decompressed: at acidianus_hospitalis to /home/diegoflm/Documents/UV/courses_and_subjects/final_year_proyect/project/data/raw/genomes/archaea/genomic_fna/acidianus_hospitalis/GCF_000213215.1_ASM21321v1_genomic.fna\n"
     ]
    }
   ],
   "source": [
    "dirs_to_iterate = test_list_1  # List of subdirectory names to process\n",
    "mfa_processor.decompress(dirs_to_iterate)"
   ]
  },
  {
   "cell_type": "markdown",
   "metadata": {},
   "source": [
    "## get_path_fna()"
   ]
  },
  {
   "cell_type": "code",
   "execution_count": 8,
   "metadata": {},
   "outputs": [
    {
     "data": {
      "text/plain": [
       "[PosixPath('/home/diegoflm/Documents/UV/courses_and_subjects/final_year_proyect/project/data/raw/genomes/archaea/genomic_fna/acidianus_ambivalens'),\n",
       " PosixPath('/home/diegoflm/Documents/UV/courses_and_subjects/final_year_proyect/project/data/raw/genomes/archaea/genomic_fna/acidianus_brierleyi'),\n",
       " PosixPath('/home/diegoflm/Documents/UV/courses_and_subjects/final_year_proyect/project/data/raw/genomes/archaea/genomic_fna/acidianus_hospitalis')]"
      ]
     },
     "execution_count": 8,
     "metadata": {},
     "output_type": "execute_result"
    }
   ],
   "source": [
    "elements[:3]"
   ]
  },
  {
   "cell_type": "code",
   "execution_count": 9,
   "metadata": {},
   "outputs": [
    {
     "name": "stdout",
     "output_type": "stream",
     "text": [
      "/home/diegoflm/Documents/UV/courses_and_subjects/final_year_proyect/project/data/raw/genomes/archaea/genomic_fna/acidianus_ambivalens/GCF_009428885.1_ASM942888v1_genomic.fna\n",
      "/home/diegoflm/Documents/UV/courses_and_subjects/final_year_proyect/project/data/raw/genomes/archaea/genomic_fna/acidianus_brierleyi/GCF_003201835.1_ASM320183v1_genomic.fna\n",
      "/home/diegoflm/Documents/UV/courses_and_subjects/final_year_proyect/project/data/raw/genomes/archaea/genomic_fna/acidianus_hospitalis/GCF_000213215.1_ASM21321v1_genomic.fna\n"
     ]
    }
   ],
   "source": [
    "fna_paths = []\n",
    "\n",
    "for organism in elements[:3]:\n",
    "    fna_paths.append(mfa_processor.get_path_fna(organism))\n",
    "    print(fna_paths[-1])"
   ]
  },
  {
   "cell_type": "markdown",
   "metadata": {},
   "source": [
    "## extract_sequence()\n",
    "Sequence Extraction"
   ]
  },
  {
   "cell_type": "markdown",
   "metadata": {},
   "source": [
    "### dev"
   ]
  },
  {
   "cell_type": "code",
   "execution_count": 10,
   "metadata": {},
   "outputs": [
    {
     "name": "stdout",
     "output_type": "stream",
     "text": [
      "1193\n"
     ]
    }
   ],
   "source": [
    "elements = list(PATH_ARCHAEA_FNA.iterdir())\n",
    "elements = sorted(elements)\n",
    "print(len(elements))"
   ]
  },
  {
   "cell_type": "code",
   "execution_count": 11,
   "metadata": {},
   "outputs": [
    {
     "data": {
      "text/plain": [
       "PosixPath('/home/diegoflm/Documents/UV/courses_and_subjects/final_year_proyect/project/data/raw/genomes/archaea/genomic_fna/acidianus_ambivalens')"
      ]
     },
     "execution_count": 11,
     "metadata": {},
     "output_type": "execute_result"
    }
   ],
   "source": [
    "elements[0]"
   ]
  },
  {
   "cell_type": "code",
   "execution_count": 12,
   "metadata": {},
   "outputs": [
    {
     "name": "stdout",
     "output_type": "stream",
     "text": [
      "[PosixPath('/home/diegoflm/Documents/UV/courses_and_subjects/final_year_proyect/project/data/raw/genomes/archaea/genomic_fna/acidianus_ambivalens/GCF_009428885.1_ASM942888v1_genomic.fna')]\n"
     ]
    },
    {
     "data": {
      "text/plain": [
       "PosixPath('/home/diegoflm/Documents/UV/courses_and_subjects/final_year_proyect/project/data/raw/genomes/archaea/genomic_fna/acidianus_ambivalens/GCF_009428885.1_ASM942888v1_genomic.fna')"
      ]
     },
     "execution_count": 12,
     "metadata": {},
     "output_type": "execute_result"
    }
   ],
   "source": [
    "organism_file_names = list(elements[0].iterdir())\n",
    "organism_file_names\n",
    "\n",
    "fna_files = []\n",
    "for name in organism_file_names:\n",
    "    if str(name).endswith('.fna'):    \n",
    "        fna_files.append(name)\n",
    "\n",
    "print(fna_files)\n",
    "assert(len(fna_files) == 1)\n",
    "\n",
    "path_organism_genome = fna_files[0]\n",
    "path_organism_genome"
   ]
  },
  {
   "cell_type": "code",
   "execution_count": 13,
   "metadata": {},
   "outputs": [
    {
     "name": "stdout",
     "output_type": "stream",
     "text": [
      "len(seq_segments): 29185\n"
     ]
    },
    {
     "name": "stdout",
     "output_type": "stream",
     "text": [
      "2326940\n",
      "last line length: 0\n",
      "last line: \n",
      "last character: C\n",
      "<class 'str'>\n",
      "ATGGACAGCGTGAAC\n",
      "Out place characters:\n"
     ]
    }
   ],
   "source": [
    "with open(path_organism_genome, 'r') as f:\n",
    "            fna_content = f.read()\n",
    "            f.close()\n",
    "seq_segments = fna_content.split('\\n')\n",
    "print(f\"len(seq_segments): {len(seq_segments)}\")\n",
    "seq = \"\"\n",
    "# for genome_line in seq_segments[:]:\n",
    "#     if (not genome_line.startswith('>')) and ( len(genome_line) > 0 ):\n",
    "#         seq += genome_line\n",
    "\n",
    "for genome_line in seq_segments[:]:\n",
    "    if genome_line.startswith('>') or (len(genome_line) == 0):\n",
    "        continue\n",
    "    else:\n",
    "        seq += genome_line\n",
    "        \n",
    "\n",
    "# for genome_line in seq:\n",
    "#     print(genome_line)\n",
    "\n",
    "print(len(seq))\n",
    "print(f\"last line length: {len(seq_segments[-1])}\" )\n",
    "print(f\"last line: {(seq_segments[-1])}\" )\n",
    "print(f\"last character: {seq[-1]}\")\n",
    "print(type(seq[-1]))\n",
    "print(seq[-15:])\n",
    "\n",
    "print(\"Out place characters:\")\n",
    "for char in seq:\n",
    "    if char not in ['A', 'C', 'G', 'T']:\n",
    "        print(char)"
   ]
  },
  {
   "cell_type": "code",
   "execution_count": 14,
   "metadata": {},
   "outputs": [],
   "source": [
    "# len(seq_segments): 29185\n",
    "# 2326940\n",
    "# last line length: 1\n",
    "# last line: C\n",
    "# <class 'str'>\n",
    "# ATGGACAGCGTGAAC\n",
    "# Out place characters:"
   ]
  },
  {
   "cell_type": "markdown",
   "metadata": {},
   "source": [
    "### using mfa_processor"
   ]
  },
  {
   "cell_type": "code",
   "execution_count": 15,
   "metadata": {},
   "outputs": [
    {
     "data": {
      "text/plain": [
       "True"
      ]
     },
     "execution_count": 15,
     "metadata": {},
     "output_type": "execute_result"
    }
   ],
   "source": [
    "fna_paths[0] == path_organism_genome"
   ]
  },
  {
   "cell_type": "code",
   "execution_count": 16,
   "metadata": {},
   "outputs": [
    {
     "name": "stdout",
     "output_type": "stream",
     "text": [
      "2326940\n",
      "last character: C\n",
      "<class 'str'>\n",
      "ATGGACAGCGTGAAC\n",
      "Out place characters:\n"
     ]
    }
   ],
   "source": [
    "sequence_from_method, metadata = mfa_processor.extract_sequence(path_organism_genome)\n",
    "\n",
    "print(len(sequence_from_method))\n",
    "print(f\"last character: {sequence_from_method[-1]}\")\n",
    "print(type(sequence_from_method[-1]))\n",
    "print(sequence_from_method[-15:])\n",
    "\n",
    "print(\"Out place characters:\")\n",
    "for char in sequence_from_method:\n",
    "    if char not in ['A', 'C', 'G', 'T']:\n",
    "        print(char)"
   ]
  },
  {
   "cell_type": "markdown",
   "metadata": {},
   "source": [
    "len(seq_segments): 29185  \n",
    "2326940  \n",
    "last line length: 0  \n",
    "last line:  \n",
    "last character: C  \n",
    "<class 'str'>  \n",
    "ATGGACAGCGTGAAC  \n",
    "Out place characters:  "
   ]
  },
  {
   "cell_type": "code",
   "execution_count": 17,
   "metadata": {},
   "outputs": [
    {
     "data": {
      "text/plain": [
       "True"
      ]
     },
     "execution_count": 17,
     "metadata": {},
     "output_type": "execute_result"
    }
   ],
   "source": [
    "sequence_from_method == seq"
   ]
  },
  {
   "cell_type": "code",
   "execution_count": 18,
   "metadata": {},
   "outputs": [
    {
     "data": {
      "text/plain": [
       "PosixPath('/home/diegoflm/Documents/UV/courses_and_subjects/final_year_proyect/project/data/raw/genomes/archaea/genomic_fna/acidianus_ambivalens/GCF_009428885.1_ASM942888v1_genomic.fna')"
      ]
     },
     "execution_count": 18,
     "metadata": {},
     "output_type": "execute_result"
    }
   ],
   "source": [
    "path_organism_genome"
   ]
  },
  {
   "cell_type": "markdown",
   "metadata": {},
   "source": [
    "## compute_gc_mfa()\n",
    "GC content and MFA"
   ]
  },
  {
   "cell_type": "code",
   "execution_count": 19,
   "metadata": {},
   "outputs": [],
   "source": [
    "instance_mfa = MFA(sequence_from_method)"
   ]
  },
  {
   "cell_type": "code",
   "execution_count": 20,
   "metadata": {},
   "outputs": [
    {
     "data": {
      "text/plain": [
       "0.3436646411166597"
      ]
     },
     "execution_count": 20,
     "metadata": {},
     "output_type": "execute_result"
    }
   ],
   "source": [
    "instance_mfa.gc_content()"
   ]
  },
  {
   "cell_type": "code",
   "execution_count": 21,
   "metadata": {},
   "outputs": [
    {
     "data": {
      "text/plain": [
       "PosixPath('/home/diegoflm/Documents/UV/courses_and_subjects/final_year_proyect/project/data/raw/genomes/archaea/genomic_fna/acidianus_ambivalens')"
      ]
     },
     "execution_count": 21,
     "metadata": {},
     "output_type": "execute_result"
    }
   ],
   "source": [
    "dir_acidianus_ambivalens = elements[0]\n",
    "dir_acidianus_ambivalens"
   ]
  },
  {
   "cell_type": "code",
   "execution_count": 22,
   "metadata": {},
   "outputs": [
    {
     "data": {
      "text/plain": [
       "[PosixPath('/home/diegoflm/Documents/UV/courses_and_subjects/final_year_proyect/project/data/raw/genomes/archaea/genomic_fna/acidianus_ambivalens'),\n",
       " PosixPath('/home/diegoflm/Documents/UV/courses_and_subjects/final_year_proyect/project/data/raw/genomes/archaea/genomic_fna/acidianus_brierleyi'),\n",
       " PosixPath('/home/diegoflm/Documents/UV/courses_and_subjects/final_year_proyect/project/data/raw/genomes/archaea/genomic_fna/acidianus_hospitalis'),\n",
       " PosixPath('/home/diegoflm/Documents/UV/courses_and_subjects/final_year_proyect/project/data/raw/genomes/archaea/genomic_fna/acidianus_infernus'),\n",
       " PosixPath('/home/diegoflm/Documents/UV/courses_and_subjects/final_year_proyect/project/data/raw/genomes/archaea/genomic_fna/acidianus_manzaensis')]"
      ]
     },
     "execution_count": 22,
     "metadata": {},
     "output_type": "execute_result"
    }
   ],
   "source": [
    "directory_paths = elements[0:5]\n",
    "directory_paths\n",
    "\n"
   ]
  },
  {
   "cell_type": "code",
   "execution_count": 23,
   "metadata": {},
   "outputs": [
    {
     "data": {
      "text/plain": [
       "PosixPath('/home/diegoflm/Documents/UV/courses_and_subjects/final_year_proyect/project/data/raw/genomes/archaea/genomic_fna/acidianus_ambivalens/GCF_009428885.1_ASM942888v1_genomic.fna')"
      ]
     },
     "execution_count": 23,
     "metadata": {},
     "output_type": "execute_result"
    }
   ],
   "source": [
    "path_organism_genome"
   ]
  },
  {
   "cell_type": "code",
   "execution_count": 24,
   "metadata": {},
   "outputs": [
    {
     "data": {
      "text/plain": [
       "5"
      ]
     },
     "execution_count": 24,
     "metadata": {},
     "output_type": "execute_result"
    }
   ],
   "source": [
    "len(directory_paths)"
   ]
  },
  {
   "cell_type": "code",
   "execution_count": 25,
   "metadata": {},
   "outputs": [
    {
     "name": "stdout",
     "output_type": "stream",
     "text": [
      "genome_file: /home/diegoflm/Documents/UV/courses_and_subjects/final_year_proyect/project/data/raw/genomes/archaea/genomic_fna/acidianus_ambivalens/GCF_009428885.1_ASM942888v1_genomic.fna\n",
      "fna_counter: 1\n",
      "time_lapse_1: 0.0012087821960449219\n",
      "time_lapse_2: 0.00923776626586914\n",
      "time_lapse_3: 34.21620750427246\n",
      "gc_content: 0.3436646411166597\n",
      "Dq_vals: [1.90374827 1.90379139 1.90383691 1.9038849  1.90393531 1.90398789\n",
      " 1.90404201 1.9040963  1.90414802 1.9041919  1.90421787 1.90420648\n",
      " 1.90411954 1.90387974 1.90332357 1.90208683 1.89932641 1.89320285\n",
      " 1.88071936 1.85859108 1.82542535 1.74107582 1.68476739 1.61289989\n",
      " 1.55711319 1.5182496  1.49008051 1.46876135 1.45208798 1.43869691\n",
      " 1.42769953 1.418497   1.41067393 1.40393428 1.39806163 1.39289416\n",
      " 1.38830839 1.38420848 1.38051882 1.37717899]\n",
      "r_squared: [0.89373615 0.89478934 0.89594759 0.89722735 0.89864861 0.90023596\n",
      " 0.9020199  0.9040387  0.90634092 0.9089889  0.91206366 0.91567159\n",
      " 0.91995367 0.92509695 0.93134559 0.93899803 0.94833826 0.95934435\n",
      " 0.97107779 0.98195411 0.99035558 0.19724959 0.99734307 0.99664264\n",
      " 0.99224842 0.98785396 0.98477619 0.98269512 0.98123323 0.98015503\n",
      " 0.97932775 0.97867419 0.97814644 0.97771299 0.97735211 0.97704828\n",
      " 0.97679007 0.97656884 0.97637795 0.9762122  0.97606744]\n",
      "Dq: 0.5270388819557263\n",
      "TGAAC\n"
     ]
    }
   ],
   "source": [
    "# measure time\n",
    "initial_time = time.time()\n",
    "    \n",
    "for dir in directory_paths[:1]:\n",
    "    dir_files = dir.glob('*')\n",
    "    fna_counter = 0\n",
    "    seq = \"\"\n",
    "    genome_file = None\n",
    "    for file in dir_files:\n",
    "        if file.name.endswith('.fna'):\n",
    "            fna_counter += 1\n",
    "            genome_file = file\n",
    "            print(f\"genome_file: {genome_file}\")\n",
    "    print(f\"fna_counter: {fna_counter}\")\n",
    "    assert( fna_counter == 1 or fna_counter == 0 )\n",
    "    time_stamp_1 = time.time()\n",
    "    time_lapse_1 = time_stamp_1 - initial_time\n",
    "    print(f\"time_lapse_1: {time_lapse_1}\")\n",
    "    seq, metadata = mfa_processor.extract_sequence( genome_file )\n",
    "    time_stamp_2 = time.time()\n",
    "    time_lapse_2 = time_stamp_2 - time_stamp_1\n",
    "    print(f\"time_lapse_2: {time_lapse_2}\")\n",
    "    gc_content, Dq_vals, r_squared, Dq = mfa_processor.compute_gc_Dq(seq, use_powers = True, power = 13)\n",
    "    time_stamp_3 = time.time()\n",
    "    time_lapse_3 = time_stamp_3 - time_stamp_2\n",
    "    print(f\"time_lapse_3: {time_lapse_3}\")\n",
    "    \n",
    "    print(f\"gc_content: {gc_content}\")\n",
    "    print(f\"Dq_vals: {Dq_vals}\")\n",
    "    print(f\"r_squared: {r_squared}\")\n",
    "    print(f\"Dq: {Dq}\")\n",
    "\n",
    "    if seq is not None:\n",
    "        print(seq[-5:])"
   ]
  },
  {
   "cell_type": "code",
   "execution_count": 63,
   "metadata": {},
   "outputs": [
    {
     "name": "stdout",
     "output_type": "stream",
     "text": [
      "default_epsilon_range:\n",
      "[0.         0.00714286 0.01428571 0.02142857 0.02857143 0.03571429\n",
      " 0.04285714 0.05       0.05714286 0.06428571 0.07142857 0.07857143\n",
      " 0.08571429 0.09285714 0.1       ]\n",
      "default_q_range:\n",
      "[-20. -19. -18. -17. -16. -15. -14. -13. -12. -11. -10.  -9.  -8.  -7.\n",
      "  -6.  -5.  -4.  -3.  -2.  -1.   0.   1.   2.   3.   4.   5.   6.   7.\n",
      "   8.   9.  10.  11.  12.  13.  14.  15.  16.  17.  18.  19.  20.]\n",
      "default_epsilon_range[1]: 0.0071428571428571435\n",
      "1 / default_epsilon_range[1]: 140.0\n",
      "np.log(1 / default_epsilon_range[1]) / np.log(2) = 7.129283016944966\n"
     ]
    }
   ],
   "source": [
    "print(\"default_epsilon_range:\")\n",
    "default_epsilon_range = np.linspace(0, 0.1, 15)\n",
    "print(default_epsilon_range)\n",
    "print(\"default_q_range:\") \n",
    "print(np.linspace(-20, 20, 41))\n",
    "\n",
    "print(f\"default_epsilon_range[1]: {default_epsilon_range[1]}\")\n",
    "print(f\"1 / default_epsilon_range[1]: {1 / default_epsilon_range[1]}\")\n",
    "print(f\"np.log(1 / default_epsilon_range[1]) / np.log(2) = {np.log(1 / default_epsilon_range[1]) / np.log(2)}\")"
   ]
  },
  {
   "cell_type": "markdown",
   "metadata": {},
   "source": [
    "fna_counter: 1  \n",
    "time_lapse_1: 0.0009219646453857422  \n",
    "time_lapse_2: 0.006658792495727539  \n",
    "time_lapse_3: 127.31039357185364  \n",
    "gc_content: 0.3436646411166597  \n",
    "\n",
    "Dq_vals: [2.9724008  2.96608834 2.95907403 2.9512325  2.94240688 2.93239852  \n",
    " 2.92095256 2.90773737 2.89231464 2.874095   2.85227066 2.8257109  \n",
    " 2.7927965  2.75115384 2.69723035 2.62565655 2.52858811 2.39757491  \n",
    " 2.24130123 2.10360574 1.99997617 1.85832985 1.80612768 1.76401436  \n",
    " 1.73139942 1.70643349 1.68710398 1.67182474 1.65947597 1.64928964  \n",
    " 1.64073677 1.63344658 1.62715338 1.62166236 1.61682739 1.61253662  \n",
    " 1.6087028  1.60525671 1.6021426  1.59931501]  \n",
    "r_squared: [0.997559   0.99755421 0.99754904 0.99754347 0.99753745 0.99753097  \n",
    " 0.997524   0.99751652 0.99750851 0.99749993 0.99749082 0.99748147  \n",
    " 0.99747324 0.99747118 0.99749215 0.99758722 0.99788552 0.99858063  \n",
    " 0.9994462  0.99984955 1.         0.04118279 0.99970699 0.99973483  \n",
    " 0.99978949 0.99981242 0.99981635 0.99981392 0.9998099  0.99980563  \n",
    " 0.99980138 0.9997972  0.99979304 0.99978889 0.99978475 0.9997806  \n",
    " 0.99977646 0.99977232 0.99976819 0.99976408 0.99976   ]  \n",
    "Dq: 1.3730857893757518  \n",
    "TGAAC  "
   ]
  },
  {
   "cell_type": "code",
   "execution_count": 66,
   "metadata": {},
   "outputs": [
    {
     "name": "stdout",
     "output_type": "stream",
     "text": [
      "[2.9724008  2.96608834 2.95907403 2.9512325  2.94240688 2.93239852\n",
      " 2.92095256 2.90773737 2.89231464 2.874095   2.85227066 2.8257109\n",
      " 2.7927965  2.75115384 2.69723035 2.62565655 2.52858811 2.39757491\n",
      " 2.24130123 2.10360574 1.99997617 1.85832985 1.80612768 1.76401436\n",
      " 1.73139942 1.70643349 1.68710398 1.67182474 1.65947597 1.64928964\n",
      " 1.64073677 1.63344658 1.62715338 1.62166236 1.61682739 1.61253662\n",
      " 1.6087028  1.60525671 1.6021426  1.59931501]\n",
      "[0.997559   0.99755421 0.99754904 0.99754347 0.99753745 0.99753097\n",
      " 0.997524   0.99751652 0.99750851 0.99749993 0.99749082 0.99748147\n",
      " 0.99747324 0.99747118 0.99749215 0.99758722 0.99788552 0.99858063\n",
      " 0.9994462  0.99984955 1.         0.04118279 0.99970699 0.99973483\n",
      " 0.99978949 0.99981242 0.99981635 0.99981392 0.9998099  0.99980563\n",
      " 0.99980138 0.9997972  0.99979304 0.99978889 0.99978475 0.9997806\n",
      " 0.99977646 0.99977232 0.99976819 0.99976408 0.99976   ]\n"
     ]
    }
   ],
   "source": [
    "Dq_vals_0_string= \"\"\"2.9724008  2.96608834 2.95907403 2.9512325  2.94240688 2.93239852\n",
    " 2.92095256 2.90773737 2.89231464 2.874095   2.85227066 2.8257109\n",
    " 2.7927965  2.75115384 2.69723035 2.62565655 2.52858811 2.39757491\n",
    " 2.24130123 2.10360574 1.99997617 1.85832985 1.80612768 1.76401436\n",
    " 1.73139942 1.70643349 1.68710398 1.67182474 1.65947597 1.64928964\n",
    " 1.64073677 1.63344658 1.62715338 1.62166236 1.61682739 1.61253662\n",
    " 1.6087028  1.60525671 1.6021426  1.59931501\"\"\"\n",
    "r_squared_0_string= \"\"\"0.997559   0.99755421 0.99754904 0.99754347 0.99753745 0.99753097\n",
    " 0.997524   0.99751652 0.99750851 0.99749993 0.99749082 0.99748147\n",
    " 0.99747324 0.99747118 0.99749215 0.99758722 0.99788552 0.99858063\n",
    " 0.9994462  0.99984955 1.         0.04118279 0.99970699 0.99973483\n",
    " 0.99978949 0.99981242 0.99981635 0.99981392 0.9998099  0.99980563\n",
    " 0.99980138 0.9997972  0.99979304 0.99978889 0.99978475 0.9997806\n",
    " 0.99977646 0.99977232 0.99976819 0.99976408 0.99976   \"\"\"\n",
    "Dq_vals_0 = np.fromstring(Dq_vals_0_string, sep=' ')\n",
    "print(Dq_vals_0)\n",
    "\n",
    "r_squared_0 = np.fromstring(r_squared_0_string, sep=' ')\n",
    "print(r_squared_0)\n"
   ]
  },
  {
   "cell_type": "code",
   "execution_count": 67,
   "metadata": {},
   "outputs": [
    {
     "data": {
      "text/plain": [
       "array([0.997559  , 0.99755421, 0.99754904, 0.99754347, 0.99753745,\n",
       "       0.99753097, 0.997524  , 0.99751652, 0.99750851, 0.99749993,\n",
       "       0.99749082, 0.99748147, 0.99747324, 0.99747118, 0.99749215,\n",
       "       0.99758722, 0.99788552, 0.99858063, 0.9994462 , 0.99984955,\n",
       "       1.        , 0.04118279, 0.99970699, 0.99973483, 0.99978949,\n",
       "       0.99981242, 0.99981635, 0.99981392, 0.9998099 , 0.99980563,\n",
       "       0.99980138, 0.9997972 , 0.99979304, 0.99978889, 0.99978475,\n",
       "       0.9997806 , 0.99977646, 0.99977232, 0.99976819, 0.99976408,\n",
       "       0.99976   ])"
      ]
     },
     "execution_count": 67,
     "metadata": {},
     "output_type": "execute_result"
    }
   ],
   "source": [
    "r_squared_0"
   ]
  },
  {
   "cell_type": "code",
   "execution_count": 65,
   "metadata": {},
   "outputs": [
    {
     "data": {
      "text/plain": [
       "True"
      ]
     },
     "execution_count": 65,
     "metadata": {},
     "output_type": "execute_result"
    }
   ],
   "source": [
    "np.allclose(Dq_vals_0, Dq_vals_1, atol=1e-8)"
   ]
  }
 ],
 "metadata": {
  "kernelspec": {
   "display_name": "mfa_nb",
   "language": "python",
   "name": "python3"
  },
  "language_info": {
   "codemirror_mode": {
    "name": "ipython",
    "version": 3
   },
   "file_extension": ".py",
   "mimetype": "text/x-python",
   "name": "python",
   "nbconvert_exporter": "python",
   "pygments_lexer": "ipython3",
   "version": "3.11.6"
  }
 },
 "nbformat": 4,
 "nbformat_minor": 2
}
