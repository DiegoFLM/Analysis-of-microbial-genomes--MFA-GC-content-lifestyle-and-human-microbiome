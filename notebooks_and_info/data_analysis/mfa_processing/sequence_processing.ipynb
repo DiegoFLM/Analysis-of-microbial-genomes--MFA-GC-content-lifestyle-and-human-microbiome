{
 "cells": [
  {
   "cell_type": "code",
   "execution_count": 1,
   "metadata": {},
   "outputs": [
    {
     "name": "stdout",
     "output_type": "stream",
     "text": [
      "True\n",
      "True\n"
     ]
    }
   ],
   "source": [
    "from pathlib import Path\n",
    "import numpy as np\n",
    "import sys\n",
    "\n",
    "from mfa_processor import MFA_PROCESSOR"
   ]
  },
  {
   "cell_type": "code",
   "execution_count": 2,
   "metadata": {},
   "outputs": [
    {
     "name": "stdout",
     "output_type": "stream",
     "text": [
      "True\n"
     ]
    }
   ],
   "source": [
    "DIR_MFA = Path.cwd().parent.parent / 'MFA_code'\n",
    "print(DIR_MFA.exists())\n",
    "\n",
    "sys.path.append(str(DIR_MFA))\n",
    "from mfa import MFA"
   ]
  },
  {
   "cell_type": "markdown",
   "metadata": {},
   "source": [
    "# Constants"
   ]
  },
  {
   "cell_type": "code",
   "execution_count": 3,
   "metadata": {},
   "outputs": [
    {
     "data": {
      "text/plain": [
       "True"
      ]
     },
     "execution_count": 3,
     "metadata": {},
     "output_type": "execute_result"
    }
   ],
   "source": [
    "PATH_DATA = Path.cwd().parent.parent.parent / 'data'\n",
    "PATH_DATA.exists()"
   ]
  },
  {
   "cell_type": "code",
   "execution_count": 4,
   "metadata": {},
   "outputs": [
    {
     "data": {
      "text/plain": [
       "True"
      ]
     },
     "execution_count": 4,
     "metadata": {},
     "output_type": "execute_result"
    }
   ],
   "source": [
    "PATH_ARCHAEA_FNA = (PATH_DATA / \"raw\" / \"genomes\" / \"archaea\" /\n",
    "    \"genomic_fna\")\n",
    "PATH_ARCHAEA_FNA.exists()"
   ]
  },
  {
   "cell_type": "markdown",
   "metadata": {},
   "source": [
    "# Processing"
   ]
  },
  {
   "cell_type": "code",
   "execution_count": 5,
   "metadata": {},
   "outputs": [],
   "source": [
    "mfa_processor = MFA_PROCESSOR(PATH_ARCHAEA_FNA)"
   ]
  },
  {
   "cell_type": "markdown",
   "metadata": {},
   "source": [
    "## Decompression"
   ]
  },
  {
   "cell_type": "code",
   "execution_count": 6,
   "metadata": {},
   "outputs": [
    {
     "name": "stdout",
     "output_type": "stream",
     "text": [
      "1193\n",
      "acidianus_ambivalens\n",
      "acidianus_brierleyi\n",
      "acidianus_hospitalis\n"
     ]
    }
   ],
   "source": [
    "# show the elements inside the folder PATH_ARCHAEA_FNA\n",
    "# in alphabetical order\n",
    "\n",
    "# elements in the folder PATH_ARCHAEA_FNA\n",
    "elements = list(PATH_ARCHAEA_FNA.iterdir())\n",
    "elements = sorted(elements)\n",
    "print(len(elements))\n",
    "\n",
    "test_list_1 = []\n",
    "for element in elements[:3]:\n",
    "    test_list_1.append(element.name)\n",
    "\n",
    "for element in test_list_1:\n",
    "    print(element)\n"
   ]
  },
  {
   "cell_type": "code",
   "execution_count": 7,
   "metadata": {},
   "outputs": [
    {
     "name": "stdout",
     "output_type": "stream",
     "text": [
      "Decompressed: at acidianus_ambivalens to /home/diegoflm/Documents/UV/courses_and_subjects/final_year_proyect/project/data/raw/genomes/archaea/genomic_fna/acidianus_ambivalens/GCF_009428885.1_ASM942888v1_genomic.fna\n",
      "Decompressed: at acidianus_brierleyi to /home/diegoflm/Documents/UV/courses_and_subjects/final_year_proyect/project/data/raw/genomes/archaea/genomic_fna/acidianus_brierleyi/GCF_003201835.1_ASM320183v1_genomic.fna\n",
      "Decompressed: at acidianus_hospitalis to /home/diegoflm/Documents/UV/courses_and_subjects/final_year_proyect/project/data/raw/genomes/archaea/genomic_fna/acidianus_hospitalis/GCF_000213215.1_ASM21321v1_genomic.fna\n"
     ]
    }
   ],
   "source": [
    "dirs_to_iterate = test_list_1  # List of subdirectory names to process\n",
    "mfa_processor.decompress(dirs_to_iterate)"
   ]
  },
  {
   "cell_type": "markdown",
   "metadata": {},
   "source": [
    "## get_path_fna()"
   ]
  },
  {
   "cell_type": "code",
   "execution_count": 8,
   "metadata": {},
   "outputs": [
    {
     "data": {
      "text/plain": [
       "[PosixPath('/home/diegoflm/Documents/UV/courses_and_subjects/final_year_proyect/project/data/raw/genomes/archaea/genomic_fna/acidianus_ambivalens'),\n",
       " PosixPath('/home/diegoflm/Documents/UV/courses_and_subjects/final_year_proyect/project/data/raw/genomes/archaea/genomic_fna/acidianus_brierleyi'),\n",
       " PosixPath('/home/diegoflm/Documents/UV/courses_and_subjects/final_year_proyect/project/data/raw/genomes/archaea/genomic_fna/acidianus_hospitalis')]"
      ]
     },
     "execution_count": 8,
     "metadata": {},
     "output_type": "execute_result"
    }
   ],
   "source": [
    "elements[:3]"
   ]
  },
  {
   "cell_type": "code",
   "execution_count": 9,
   "metadata": {},
   "outputs": [
    {
     "name": "stdout",
     "output_type": "stream",
     "text": [
      "/home/diegoflm/Documents/UV/courses_and_subjects/final_year_proyect/project/data/raw/genomes/archaea/genomic_fna/acidianus_ambivalens/GCF_009428885.1_ASM942888v1_genomic.fna\n",
      "/home/diegoflm/Documents/UV/courses_and_subjects/final_year_proyect/project/data/raw/genomes/archaea/genomic_fna/acidianus_brierleyi/GCF_003201835.1_ASM320183v1_genomic.fna\n",
      "/home/diegoflm/Documents/UV/courses_and_subjects/final_year_proyect/project/data/raw/genomes/archaea/genomic_fna/acidianus_hospitalis/GCF_000213215.1_ASM21321v1_genomic.fna\n"
     ]
    }
   ],
   "source": [
    "fna_paths = []\n",
    "\n",
    "for organism in elements[:3]:\n",
    "    fna_paths.append(mfa_processor.get_path_fna(organism))\n",
    "    print(fna_paths[-1])"
   ]
  },
  {
   "cell_type": "markdown",
   "metadata": {},
   "source": [
    "## extract_sequence()\n",
    "Sequence Extraction"
   ]
  },
  {
   "cell_type": "markdown",
   "metadata": {},
   "source": [
    "### dev"
   ]
  },
  {
   "cell_type": "code",
   "execution_count": 10,
   "metadata": {},
   "outputs": [
    {
     "name": "stdout",
     "output_type": "stream",
     "text": [
      "1193\n"
     ]
    }
   ],
   "source": [
    "elements = list(PATH_ARCHAEA_FNA.iterdir())\n",
    "elements = sorted(elements)\n",
    "print(len(elements))"
   ]
  },
  {
   "cell_type": "code",
   "execution_count": 11,
   "metadata": {},
   "outputs": [
    {
     "data": {
      "text/plain": [
       "PosixPath('/home/diegoflm/Documents/UV/courses_and_subjects/final_year_proyect/project/data/raw/genomes/archaea/genomic_fna/acidianus_ambivalens')"
      ]
     },
     "execution_count": 11,
     "metadata": {},
     "output_type": "execute_result"
    }
   ],
   "source": [
    "elements[0]"
   ]
  },
  {
   "cell_type": "code",
   "execution_count": 12,
   "metadata": {},
   "outputs": [
    {
     "name": "stdout",
     "output_type": "stream",
     "text": [
      "[PosixPath('/home/diegoflm/Documents/UV/courses_and_subjects/final_year_proyect/project/data/raw/genomes/archaea/genomic_fna/acidianus_ambivalens/GCF_009428885.1_ASM942888v1_genomic.fna')]\n"
     ]
    },
    {
     "data": {
      "text/plain": [
       "PosixPath('/home/diegoflm/Documents/UV/courses_and_subjects/final_year_proyect/project/data/raw/genomes/archaea/genomic_fna/acidianus_ambivalens/GCF_009428885.1_ASM942888v1_genomic.fna')"
      ]
     },
     "execution_count": 12,
     "metadata": {},
     "output_type": "execute_result"
    }
   ],
   "source": [
    "organism_file_names = list(elements[0].iterdir())\n",
    "organism_file_names\n",
    "\n",
    "fna_files = []\n",
    "for name in organism_file_names:\n",
    "    if str(name).endswith('.fna'):    \n",
    "        fna_files.append(name)\n",
    "\n",
    "print(fna_files)\n",
    "assert(len(fna_files) == 1)\n",
    "\n",
    "path_organism_genome = fna_files[0]\n",
    "path_organism_genome"
   ]
  },
  {
   "cell_type": "code",
   "execution_count": 13,
   "metadata": {},
   "outputs": [
    {
     "name": "stdout",
     "output_type": "stream",
     "text": [
      "len(seq_segments): 29185\n"
     ]
    },
    {
     "name": "stdout",
     "output_type": "stream",
     "text": [
      "2326940\n",
      "last line length: 0\n",
      "last line: \n",
      "last character: C\n",
      "<class 'str'>\n",
      "ATGGACAGCGTGAAC\n",
      "Out place characters:\n"
     ]
    }
   ],
   "source": [
    "with open(path_organism_genome, 'r') as f:\n",
    "            fna_content = f.read()\n",
    "            f.close()\n",
    "seq_segments = fna_content.split('\\n')\n",
    "print(f\"len(seq_segments): {len(seq_segments)}\")\n",
    "seq = \"\"\n",
    "# for genome_line in seq_segments[:]:\n",
    "#     if (not genome_line.startswith('>')) and ( len(genome_line) > 0 ):\n",
    "#         seq += genome_line\n",
    "\n",
    "for genome_line in seq_segments[:]:\n",
    "    if genome_line.startswith('>') or (len(genome_line) == 0):\n",
    "        continue\n",
    "    else:\n",
    "        seq += genome_line\n",
    "        \n",
    "\n",
    "# for genome_line in seq:\n",
    "#     print(genome_line)\n",
    "\n",
    "print(len(seq))\n",
    "print(f\"last line length: {len(seq_segments[-1])}\" )\n",
    "print(f\"last line: {(seq_segments[-1])}\" )\n",
    "print(f\"last character: {seq[-1]}\")\n",
    "print(type(seq[-1]))\n",
    "print(seq[-15:])\n",
    "\n",
    "print(\"Out place characters:\")\n",
    "for char in seq:\n",
    "    if char not in ['A', 'C', 'G', 'T']:\n",
    "        print(char)"
   ]
  },
  {
   "cell_type": "code",
   "execution_count": 14,
   "metadata": {},
   "outputs": [],
   "source": [
    "# len(seq_segments): 29185\n",
    "# 2326940\n",
    "# last line length: 1\n",
    "# last line: C\n",
    "# <class 'str'>\n",
    "# ATGGACAGCGTGAAC\n",
    "# Out place characters:"
   ]
  },
  {
   "cell_type": "markdown",
   "metadata": {},
   "source": [
    "### using mfa_processor"
   ]
  },
  {
   "cell_type": "code",
   "execution_count": 15,
   "metadata": {},
   "outputs": [
    {
     "data": {
      "text/plain": [
       "True"
      ]
     },
     "execution_count": 15,
     "metadata": {},
     "output_type": "execute_result"
    }
   ],
   "source": [
    "fna_paths[0] == path_organism_genome"
   ]
  },
  {
   "cell_type": "code",
   "execution_count": 16,
   "metadata": {},
   "outputs": [
    {
     "name": "stdout",
     "output_type": "stream",
     "text": [
      "2326940\n",
      "last character: C\n",
      "<class 'str'>\n",
      "ATGGACAGCGTGAAC\n",
      "Out place characters:\n"
     ]
    }
   ],
   "source": [
    "sequence_from_method, metadata = mfa_processor.extract_sequence(path_organism_genome)\n",
    "\n",
    "print(len(sequence_from_method))\n",
    "print(f\"last character: {sequence_from_method[-1]}\")\n",
    "print(type(sequence_from_method[-1]))\n",
    "print(sequence_from_method[-15:])\n",
    "\n",
    "print(\"Out place characters:\")\n",
    "for char in sequence_from_method:\n",
    "    if char not in ['A', 'C', 'G', 'T']:\n",
    "        print(char)"
   ]
  },
  {
   "cell_type": "markdown",
   "metadata": {},
   "source": [
    "len(seq_segments): 29185  \n",
    "2326940  \n",
    "last line length: 0  \n",
    "last line:  \n",
    "last character: C  \n",
    "<class 'str'>  \n",
    "ATGGACAGCGTGAAC  \n",
    "Out place characters:  "
   ]
  },
  {
   "cell_type": "code",
   "execution_count": 17,
   "metadata": {},
   "outputs": [
    {
     "data": {
      "text/plain": [
       "True"
      ]
     },
     "execution_count": 17,
     "metadata": {},
     "output_type": "execute_result"
    }
   ],
   "source": [
    "sequence_from_method == seq"
   ]
  },
  {
   "cell_type": "code",
   "execution_count": 18,
   "metadata": {},
   "outputs": [
    {
     "data": {
      "text/plain": [
       "PosixPath('/home/diegoflm/Documents/UV/courses_and_subjects/final_year_proyect/project/data/raw/genomes/archaea/genomic_fna/acidianus_ambivalens/GCF_009428885.1_ASM942888v1_genomic.fna')"
      ]
     },
     "execution_count": 18,
     "metadata": {},
     "output_type": "execute_result"
    }
   ],
   "source": [
    "path_organism_genome"
   ]
  },
  {
   "cell_type": "markdown",
   "metadata": {},
   "source": [
    "## compute_gc_mfa()\n",
    "GC content and MFA"
   ]
  },
  {
   "cell_type": "code",
   "execution_count": 19,
   "metadata": {},
   "outputs": [],
   "source": [
    "instance_mfa = MFA(sequence_from_method)"
   ]
  },
  {
   "cell_type": "code",
   "execution_count": 20,
   "metadata": {},
   "outputs": [
    {
     "data": {
      "text/plain": [
       "0.3436646411166597"
      ]
     },
     "execution_count": 20,
     "metadata": {},
     "output_type": "execute_result"
    }
   ],
   "source": [
    "instance_mfa.gc_content()"
   ]
  },
  {
   "cell_type": "code",
   "execution_count": 21,
   "metadata": {},
   "outputs": [
    {
     "data": {
      "text/plain": [
       "PosixPath('/home/diegoflm/Documents/UV/courses_and_subjects/final_year_proyect/project/data/raw/genomes/archaea/genomic_fna/acidianus_ambivalens')"
      ]
     },
     "execution_count": 21,
     "metadata": {},
     "output_type": "execute_result"
    }
   ],
   "source": [
    "dir_acidianus_ambivalens = elements[0]\n",
    "dir_acidianus_ambivalens"
   ]
  },
  {
   "cell_type": "code",
   "execution_count": 22,
   "metadata": {},
   "outputs": [
    {
     "data": {
      "text/plain": [
       "[PosixPath('/home/diegoflm/Documents/UV/courses_and_subjects/final_year_proyect/project/data/raw/genomes/archaea/genomic_fna/acidianus_ambivalens'),\n",
       " PosixPath('/home/diegoflm/Documents/UV/courses_and_subjects/final_year_proyect/project/data/raw/genomes/archaea/genomic_fna/acidianus_brierleyi'),\n",
       " PosixPath('/home/diegoflm/Documents/UV/courses_and_subjects/final_year_proyect/project/data/raw/genomes/archaea/genomic_fna/acidianus_hospitalis'),\n",
       " PosixPath('/home/diegoflm/Documents/UV/courses_and_subjects/final_year_proyect/project/data/raw/genomes/archaea/genomic_fna/acidianus_infernus'),\n",
       " PosixPath('/home/diegoflm/Documents/UV/courses_and_subjects/final_year_proyect/project/data/raw/genomes/archaea/genomic_fna/acidianus_manzaensis')]"
      ]
     },
     "execution_count": 22,
     "metadata": {},
     "output_type": "execute_result"
    }
   ],
   "source": [
    "directory_paths = elements[0:5]\n",
    "directory_paths\n",
    "\n"
   ]
  },
  {
   "cell_type": "code",
   "execution_count": 23,
   "metadata": {},
   "outputs": [
    {
     "data": {
      "text/plain": [
       "PosixPath('/home/diegoflm/Documents/UV/courses_and_subjects/final_year_proyect/project/data/raw/genomes/archaea/genomic_fna/acidianus_ambivalens/GCF_009428885.1_ASM942888v1_genomic.fna')"
      ]
     },
     "execution_count": 23,
     "metadata": {},
     "output_type": "execute_result"
    }
   ],
   "source": [
    "path_organism_genome"
   ]
  },
  {
   "cell_type": "code",
   "execution_count": 24,
   "metadata": {},
   "outputs": [
    {
     "data": {
      "text/plain": [
       "5"
      ]
     },
     "execution_count": 24,
     "metadata": {},
     "output_type": "execute_result"
    }
   ],
   "source": [
    "len(directory_paths)"
   ]
  },
  {
   "cell_type": "code",
   "execution_count": 40,
   "metadata": {},
   "outputs": [
    {
     "name": "stdout",
     "output_type": "stream",
     "text": [
      "TGAAC\n"
     ]
    }
   ],
   "source": [
    "for dir in directory_paths[:1]:\n",
    "    dir_files = dir.glob('*')\n",
    "    fna_counter = 0\n",
    "    seq = \"\"\n",
    "    genome_file = None\n",
    "    for file in dir_files:\n",
    "        if file.name.endswith('.fna'):\n",
    "            fna_counter += 1\n",
    "            genome_file = file\n",
    "            # print(f\"genome_file: {genome_file}\")\n",
    "    # print(f\"fna_counter: {fna_counter}\")\n",
    "    assert(fna_counter == 1 or fna_counter == 0)\n",
    "    seq, metadata = mfa_processor.extract_sequence(genome_file)\n",
    "    # mfa_processor.compute_gc_mfa_from_sequence(seq) \n",
    "\n",
    "    if seq is not None:\n",
    "        print(seq[-5:])"
   ]
  },
  {
   "cell_type": "code",
   "execution_count": 42,
   "metadata": {},
   "outputs": [],
   "source": [
    "abc = [\"a\", \"b\", \"c\"]\n",
    "for char in \"\":\n",
    "    print(char)"
   ]
  }
 ],
 "metadata": {
  "kernelspec": {
   "display_name": "mfa_nb",
   "language": "python",
   "name": "python3"
  },
  "language_info": {
   "codemirror_mode": {
    "name": "ipython",
    "version": 3
   },
   "file_extension": ".py",
   "mimetype": "text/x-python",
   "name": "python",
   "nbconvert_exporter": "python",
   "pygments_lexer": "ipython3",
   "version": "3.11.6"
  }
 },
 "nbformat": 4,
 "nbformat_minor": 2
}
