{
 "cells": [
  {
   "cell_type": "code",
   "execution_count": 1,
   "metadata": {},
   "outputs": [],
   "source": [
    "from pathlib import Path\n",
    "import numpy as np\n",
    "import sys\n",
    "from decompress_gz_files import decompress_gz_files"
   ]
  },
  {
   "cell_type": "markdown",
   "metadata": {},
   "source": [
    "# Constants"
   ]
  },
  {
   "cell_type": "code",
   "execution_count": 2,
   "metadata": {},
   "outputs": [
    {
     "data": {
      "text/plain": [
       "True"
      ]
     },
     "execution_count": 2,
     "metadata": {},
     "output_type": "execute_result"
    }
   ],
   "source": [
    "PATH_DATA = Path.cwd().parent.parent.parent / 'data'\n",
    "PATH_DATA.exists()"
   ]
  },
  {
   "cell_type": "code",
   "execution_count": 3,
   "metadata": {},
   "outputs": [
    {
     "data": {
      "text/plain": [
       "True"
      ]
     },
     "execution_count": 3,
     "metadata": {},
     "output_type": "execute_result"
    }
   ],
   "source": [
    "PATH_ARCHAEA_FNA = (PATH_DATA / \"raw\" / \"genomes\" / \"archaea\" /\n",
    "    \"genomic_fna\")\n",
    "PATH_ARCHAEA_FNA.exists()"
   ]
  },
  {
   "cell_type": "code",
   "execution_count": 4,
   "metadata": {},
   "outputs": [
    {
     "data": {
      "text/plain": [
       "True"
      ]
     },
     "execution_count": 4,
     "metadata": {},
     "output_type": "execute_result"
    }
   ],
   "source": [
    "PATH_BACTERIA_FNA = PATH_DATA / 'raw' / 'genomes' \\\n",
    "    / 'bacteria' / 'genomic_fna'\n",
    "PATH_BACTERIA_FNA.exists()"
   ]
  },
  {
   "cell_type": "markdown",
   "metadata": {},
   "source": [
    "# Decompression"
   ]
  },
  {
   "cell_type": "markdown",
   "metadata": {},
   "source": [
    "## Archaea"
   ]
  },
  {
   "cell_type": "code",
   "execution_count": 15,
   "metadata": {},
   "outputs": [
    {
     "name": "stdout",
     "output_type": "stream",
     "text": [
      "1193\n",
      "acidianus_ambivalens\n",
      "acidianus_brierleyi\n",
      "acidianus_hospitalis\n",
      "acidianus_infernus\n",
      "acidianus_manzaensis\n"
     ]
    }
   ],
   "source": [
    "# elements in the folder PATH_ARCHAEA_FNA\n",
    "elements = list(PATH_ARCHAEA_FNA.iterdir())\n",
    "elements = sorted(elements)\n",
    "print(len(elements))\n",
    "\n",
    "test_list_1 = []\n",
    "for element in elements:\n",
    "    test_list_1.append(element.name)\n",
    "\n",
    "for element in test_list_1[:5]:\n",
    "    print(element)\n"
   ]
  },
  {
   "cell_type": "code",
   "execution_count": null,
   "metadata": {},
   "outputs": [],
   "source": [
    "directory_path = PATH_ARCHAEA_FNA\n",
    "include_dirs = test_list_1  # List of subdirectory names to process\n",
    "decompress_gz_files(directory_path, include_dirs)"
   ]
  },
  {
   "cell_type": "markdown",
   "metadata": {},
   "source": [
    "## Bacteria"
   ]
  },
  {
   "cell_type": "code",
   "execution_count": 5,
   "metadata": {},
   "outputs": [
    {
     "name": "stdout",
     "output_type": "stream",
     "text": [
      "2767\n",
      "_acholeplasma_multilocale\n",
      "_acidovorax_ebreus\n",
      "_actinobacillus_rossii\n",
      "_actinomadura_parvosata\n",
      "_bacillus_caldolyticus\n"
     ]
    }
   ],
   "source": [
    "# elements in the folder PATH_BACTERIA_FNA\n",
    "elements_bac = list(PATH_BACTERIA_FNA.iterdir())\n",
    "elements_bac = sorted(elements_bac)\n",
    "print(len(elements_bac))\n",
    "\n",
    "test_list_1 = []\n",
    "for element_bac in elements_bac:\n",
    "    test_list_1.append(element_bac.name)\n",
    "\n",
    "for element_bac in test_list_1[:5]:\n",
    "    print(element_bac)"
   ]
  },
  {
   "cell_type": "code",
   "execution_count": null,
   "metadata": {},
   "outputs": [],
   "source": [
    "directory_path = PATH_BACTERIA_FNA\n",
    "include_dirs = test_list_1  # List of subdirectory names to process\n",
    "decompress_gz_files(directory_path, include_dirs)"
   ]
  },
  {
   "cell_type": "code",
   "execution_count": null,
   "metadata": {},
   "outputs": [],
   "source": []
  }
 ],
 "metadata": {
  "kernelspec": {
   "display_name": "web_scraping",
   "language": "python",
   "name": "python3"
  },
  "language_info": {
   "codemirror_mode": {
    "name": "ipython",
    "version": 3
   },
   "file_extension": ".py",
   "mimetype": "text/x-python",
   "name": "python",
   "nbconvert_exporter": "python",
   "pygments_lexer": "ipython3",
   "version": "3.11.3"
  }
 },
 "nbformat": 4,
 "nbformat_minor": 2
}
