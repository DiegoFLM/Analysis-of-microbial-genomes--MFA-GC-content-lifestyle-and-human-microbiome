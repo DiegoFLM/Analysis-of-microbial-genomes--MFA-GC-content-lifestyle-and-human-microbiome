{
 "cells": [
  {
   "cell_type": "code",
   "execution_count": 20,
   "metadata": {},
   "outputs": [],
   "source": [
    "import numpy as np\n",
    "import pandas as pd\n",
    "import scrapy\n",
    "import requests\n",
    "from bs4 import BeautifulSoup\n",
    "from urllib.parse import urljoin\n"
   ]
  },
  {
   "cell_type": "markdown",
   "metadata": {},
   "source": [
    "# SpiderRefSeq"
   ]
  },
  {
   "cell_type": "code",
   "execution_count": 3,
   "metadata": {},
   "outputs": [],
   "source": [
    "class SpiderRefSeq(scrapy.Spider):\n",
    "    name = 'spider_refseq'\n",
    "    allowed_domains = ['https://ftp.ncbi.nlm.nih.gov/genomes/refseq/']\n",
    "    custom_settings = {\n",
    "        'FEED_FORMAT': 'json',\n",
    "        'FEED_URI': 'refseq.json',\n",
    "    }\n",
    "\n",
    "    start_urls = ['https://ftp.ncbi.nlm.nih.gov/genomes/refseq/archaea/',\n",
    "                  'https://ftp.ncbi.nlm.nih.gov/genomes/refseq/bacteria/']\n",
    "    \n",
    "    def parse(self, response):\n",
    "        for href in response.css('a::attr(href)'):\n",
    "            yield response.follow(href, self.parse_dir)\n"
   ]
  },
  {
   "cell_type": "markdown",
   "metadata": {},
   "source": [
    "# Requests"
   ]
  },
  {
   "cell_type": "markdown",
   "metadata": {},
   "source": [
    "## 4 requests"
   ]
  },
  {
   "cell_type": "code",
   "execution_count": 41,
   "metadata": {},
   "outputs": [
    {
     "name": "stdout",
     "output_type": "stream",
     "text": [
      "200\n"
     ]
    }
   ],
   "source": [
    "url = 'https://ftp.ncbi.nlm.nih.gov/genomes/refseq/'\n",
    "\n",
    "try:\n",
    "    refseq = requests.get(url)\n",
    "    print(refseq.status_code)\n",
    "except Exception as e:\n",
    "    print(e)"
   ]
  },
  {
   "cell_type": "code",
   "execution_count": 5,
   "metadata": {},
   "outputs": [
    {
     "name": "stdout",
     "output_type": "stream",
     "text": [
      "<!DOCTYPE HTML PUBLIC \"-//W3C//DTD HTML 3.2 Final//EN\">\n",
      "<html>\n",
      " <head>\n",
      "  <title>Index of /genomes/refseq</title>\n",
      " </head>\n",
      " <body>\n",
      "<h1>Index of /genomes/refseq</h1>\n",
      "<pre>Name                                   Last modified      Size  <hr><a href=\"/genomes/\">Parent Directory</a>                                            -   \n",
      "<a href=\"archaea/\">archaea/</a>                               2023-08-26 19:25    -   \n",
      "<a href=\"bacteria/\">bacteria/</a>                              2023-08-26 19:25    -   \n",
      "<a href=\"fungi/\">fungi/</a>                                 2023-08-27 11:33    -   \n",
      "<a href=\"invertebrate/\">invertebrate/</a>                          2023-08-27 11:33    -   \n",
      "<a href=\"metagenomes/\">metagenomes/</a>                           2023-02-07 00:44    -   \n",
      "<a href=\"mitochondrion/\">mitochondrion/</a>                         2023-07-13 20:33    -   \n",
      "<a href=\"plant/\">plant/</a>                                 2023-08-27 11:33    -   \n",
      "<a href=\"plasmid/\">plasmid/</a>                               2023-07-13 17:05    -   \n",
      "<a href=\"plastid/\">plastid/</a>                               2023-07-14 03:46    -   \n",
      "<a href=\"protozoa/\">protozoa/</a>                              2023-08-27 11:34    -   \n",
      "<a href=\"unknown/\">unknown/</a>                               2022-09-27 00:25    -   \n",
      "<a href=\"vertebrate_mammalian/\">vertebrate_mammalian/</a>                  2023-08-27 11:34    -   \n",
      "<a href=\"vertebrate_other/\">vertebrate_other/</a>                      2023-08-27 11:34    -   \n",
      "<a href=\"viral/\">viral/</a>                                 2023-08-27 11:34    -   \n",
      "<a href=\"README.txt\">README.txt</a>                             2020-01-27 16:55   11K  \n",
      "<a href=\"assembly_summary_refseq.txt\">assembly_summary_refseq.txt</a>            2023-08-27 10:13  141M  \n",
      "<a href=\"assembly_summary_refseq_historical.txt\">assembly_summary_refseq_historical.txt</a> 2023-08-27 10:14   32M  \n",
      "<hr></pre>\n",
      "<a href=\"https://www.hhs.gov/vulnerability-disclosure-policy/index.html\">HHS Vulnerability Disclosure</a>\n",
      "\n"
     ]
    }
   ],
   "source": [
    "print(refseq.text)"
   ]
  },
  {
   "cell_type": "code",
   "execution_count": 6,
   "metadata": {},
   "outputs": [
    {
     "data": {
      "text/plain": [
       "{'Date': 'Sun, 27 Aug 2023 15:37:48 GMT', 'Server': 'Apache', 'Vary': 'Accept-Encoding', 'Content-Encoding': 'gzip', 'Strict-Transport-Security': 'max-age=31536000; includeSubDomains; preload', 'Access-Control-Allow-Origin': '*', 'Access-Control-Allow-Methods': 'GET,POST,PUT,OPTIONS', 'Access-Control-Allow-Headers': 'RANGE, Cache-control, If-None-Match, Content-Type', 'Access-Control-Expose-Headers': 'Content-Length, Content-Range, Content-Type', 'Content-Length': '609', 'Keep-Alive': 'timeout=5, max=1000', 'Connection': 'Keep-Alive', 'Content-Type': 'text/html;charset=UTF-8'}"
      ]
     },
     "execution_count": 6,
     "metadata": {},
     "output_type": "execute_result"
    }
   ],
   "source": [
    "# response headers\n",
    "refseq.headers"
   ]
  },
  {
   "cell_type": "code",
   "execution_count": 7,
   "metadata": {},
   "outputs": [
    {
     "data": {
      "text/plain": [
       "{'User-Agent': 'python-requests/2.31.0', 'Accept-Encoding': 'gzip, deflate, br', 'Accept': '*/*', 'Connection': 'keep-alive'}"
      ]
     },
     "execution_count": 7,
     "metadata": {},
     "output_type": "execute_result"
    }
   ],
   "source": [
    "# solicitude headers\n",
    "refseq.request.headers"
   ]
  },
  {
   "cell_type": "code",
   "execution_count": 8,
   "metadata": {},
   "outputs": [
    {
     "data": {
      "text/plain": [
       "'https://ftp.ncbi.nlm.nih.gov/genomes/refseq/'"
      ]
     },
     "execution_count": 8,
     "metadata": {},
     "output_type": "execute_result"
    }
   ],
   "source": [
    "refseq.request.url"
   ]
  },
  {
   "cell_type": "markdown",
   "metadata": {},
   "source": [
    "## bs4"
   ]
  },
  {
   "cell_type": "code",
   "execution_count": 29,
   "metadata": {},
   "outputs": [
    {
     "data": {
      "text/plain": [
       "bs4.BeautifulSoup"
      ]
     },
     "execution_count": 29,
     "metadata": {},
     "output_type": "execute_result"
    }
   ],
   "source": [
    "soup = BeautifulSoup(refseq.text, 'html.parser')\n",
    "type(soup)"
   ]
  },
  {
   "cell_type": "code",
   "execution_count": 30,
   "metadata": {},
   "outputs": [
    {
     "name": "stdout",
     "output_type": "stream",
     "text": [
      "<!DOCTYPE HTML PUBLIC \"-//W3C//DTD HTML 3.2 Final//EN\">\n",
      "<html>\n",
      " <head>\n",
      "  <title>\n",
      "   Index of /genomes/refseq\n",
      "  </title>\n",
      " </head>\n",
      " <body>\n",
      "  <h1>\n",
      "   Index of /genomes/refseq\n",
      "  </h1>\n",
      "  <pre>Name                                   Last modified      Size  <hr/><a href=\"/genomes/\">Parent Directory</a>                                            -   \n",
      "<a href=\"archaea/\">archaea/</a>                               2023-08-26 19:25    -   \n",
      "<a href=\"bacteria/\">bacteria/</a>                              2023-08-26 19:25    -   \n",
      "<a href=\"fungi/\">fungi/</a>                                 2023-08-27 11:33    -   \n",
      "<a href=\"invertebrate/\">invertebrate/</a>                          2023-08-27 11:33    -   \n",
      "<a href=\"metagenomes/\">metagenomes/</a>                           2023-02-07 00:44    -   \n",
      "<a href=\"mitochondrion/\">mitochondrion/</a>                         2023-07-13 20:33    -   \n",
      "<a href=\"plant/\">plant/</a>                                 2023-08-27 11:33    -   \n",
      "<a href=\"plasmid/\">plasmid/</a>                               2023-07-13 17:05    -   \n",
      "<a href=\"plastid/\">plastid/</a>                               2023-07-14 03:46    -   \n",
      "<a href=\"protozoa/\">protozoa/</a>                              2023-08-27 11:34    -   \n",
      "<a href=\"unknown/\">unknown/</a>                               2022-09-27 00:25    -   \n",
      "<a href=\"vertebrate_mammalian/\">vertebrate_mammalian/</a>                  2023-08-27 11:34    -   \n",
      "<a href=\"vertebrate_other/\">vertebrate_other/</a>                      2023-08-27 11:34    -   \n",
      "<a href=\"viral/\">viral/</a>                                 2023-08-27 11:34    -   \n",
      "<a href=\"README.txt\">README.txt</a>                             2020-01-27 16:55   11K  \n",
      "<a href=\"assembly_summary_refseq.txt\">assembly_summary_refseq.txt</a>            2023-08-27 10:13  141M  \n",
      "<a href=\"assembly_summary_refseq_historical.txt\">assembly_summary_refseq_historical.txt</a> 2023-08-27 10:14   32M  \n",
      "<hr/></pre>\n",
      "  <a href=\"https://www.hhs.gov/vulnerability-disclosure-policy/index.html\">\n",
      "   HHS Vulnerability Disclosure\n",
      "  </a>\n",
      " </body>\n",
      "</html>\n",
      "\n"
     ]
    }
   ],
   "source": [
    "print(soup.prettify())"
   ]
  },
  {
   "cell_type": "code",
   "execution_count": 31,
   "metadata": {},
   "outputs": [
    {
     "data": {
      "text/plain": [
       "<a href=\"/genomes/\">Parent Directory</a>"
      ]
     },
     "execution_count": 31,
     "metadata": {},
     "output_type": "execute_result"
    }
   ],
   "source": [
    "soup.find('a')"
   ]
  },
  {
   "cell_type": "code",
   "execution_count": 32,
   "metadata": {},
   "outputs": [
    {
     "data": {
      "text/plain": [
       "[<a href=\"/genomes/\">Parent Directory</a>,\n",
       " <a href=\"archaea/\">archaea/</a>,\n",
       " <a href=\"bacteria/\">bacteria/</a>,\n",
       " <a href=\"fungi/\">fungi/</a>,\n",
       " <a href=\"invertebrate/\">invertebrate/</a>,\n",
       " <a href=\"metagenomes/\">metagenomes/</a>,\n",
       " <a href=\"mitochondrion/\">mitochondrion/</a>,\n",
       " <a href=\"plant/\">plant/</a>,\n",
       " <a href=\"plasmid/\">plasmid/</a>,\n",
       " <a href=\"plastid/\">plastid/</a>,\n",
       " <a href=\"protozoa/\">protozoa/</a>,\n",
       " <a href=\"unknown/\">unknown/</a>,\n",
       " <a href=\"vertebrate_mammalian/\">vertebrate_mammalian/</a>,\n",
       " <a href=\"vertebrate_other/\">vertebrate_other/</a>,\n",
       " <a href=\"viral/\">viral/</a>,\n",
       " <a href=\"README.txt\">README.txt</a>,\n",
       " <a href=\"assembly_summary_refseq.txt\">assembly_summary_refseq.txt</a>,\n",
       " <a href=\"assembly_summary_refseq_historical.txt\">assembly_summary_refseq_historical.txt</a>]"
      ]
     },
     "execution_count": 32,
     "metadata": {},
     "output_type": "execute_result"
    }
   ],
   "source": [
    "result_set = soup.find('pre').find_all('a')\n",
    "result_set"
   ]
  },
  {
   "cell_type": "code",
   "execution_count": 33,
   "metadata": {},
   "outputs": [
    {
     "data": {
      "text/plain": [
       "['Parent Directory',\n",
       " 'archaea/',\n",
       " 'bacteria/',\n",
       " 'fungi/',\n",
       " 'invertebrate/',\n",
       " 'metagenomes/',\n",
       " 'mitochondrion/',\n",
       " 'plant/',\n",
       " 'plasmid/',\n",
       " 'plastid/',\n",
       " 'protozoa/',\n",
       " 'unknown/',\n",
       " 'vertebrate_mammalian/',\n",
       " 'vertebrate_other/',\n",
       " 'viral/',\n",
       " 'README.txt',\n",
       " 'assembly_summary_refseq.txt',\n",
       " 'assembly_summary_refseq_historical.txt']"
      ]
     },
     "execution_count": 33,
     "metadata": {},
     "output_type": "execute_result"
    }
   ],
   "source": [
    "names = []\n",
    "for i in result_set:\n",
    "    names.append(i.get_text())\n",
    "names"
   ]
  },
  {
   "cell_type": "code",
   "execution_count": 34,
   "metadata": {},
   "outputs": [
    {
     "data": {
      "text/plain": [
       "['https://ftp.ncbi.nlm.nih.gov/genomes/',\n",
       " 'https://ftp.ncbi.nlm.nih.gov/genomes/refseq/archaea/',\n",
       " 'https://ftp.ncbi.nlm.nih.gov/genomes/refseq/bacteria/',\n",
       " 'https://ftp.ncbi.nlm.nih.gov/genomes/refseq/fungi/',\n",
       " 'https://ftp.ncbi.nlm.nih.gov/genomes/refseq/invertebrate/',\n",
       " 'https://ftp.ncbi.nlm.nih.gov/genomes/refseq/metagenomes/',\n",
       " 'https://ftp.ncbi.nlm.nih.gov/genomes/refseq/mitochondrion/',\n",
       " 'https://ftp.ncbi.nlm.nih.gov/genomes/refseq/plant/',\n",
       " 'https://ftp.ncbi.nlm.nih.gov/genomes/refseq/plasmid/',\n",
       " 'https://ftp.ncbi.nlm.nih.gov/genomes/refseq/plastid/',\n",
       " 'https://ftp.ncbi.nlm.nih.gov/genomes/refseq/protozoa/',\n",
       " 'https://ftp.ncbi.nlm.nih.gov/genomes/refseq/unknown/',\n",
       " 'https://ftp.ncbi.nlm.nih.gov/genomes/refseq/vertebrate_mammalian/',\n",
       " 'https://ftp.ncbi.nlm.nih.gov/genomes/refseq/vertebrate_other/',\n",
       " 'https://ftp.ncbi.nlm.nih.gov/genomes/refseq/viral/',\n",
       " 'https://ftp.ncbi.nlm.nih.gov/genomes/refseq/README.txt',\n",
       " 'https://ftp.ncbi.nlm.nih.gov/genomes/refseq/assembly_summary_refseq.txt',\n",
       " 'https://ftp.ncbi.nlm.nih.gov/genomes/refseq/assembly_summary_refseq_historical.txt']"
      ]
     },
     "execution_count": 34,
     "metadata": {},
     "output_type": "execute_result"
    }
   ],
   "source": [
    "urls = []\n",
    "for i in result_set:\n",
    "    urls.append( urljoin(url, i.get('href') ) )\n",
    "urls"
   ]
  },
  {
   "cell_type": "code",
   "execution_count": 35,
   "metadata": {},
   "outputs": [
    {
     "data": {
      "text/plain": [
       "'https://ftp.ncbi.nlm.nih.gov/genomes/refseq/archaea/'"
      ]
     },
     "execution_count": 35,
     "metadata": {},
     "output_type": "execute_result"
    }
   ],
   "source": [
    "urls[1]"
   ]
  },
  {
   "cell_type": "code",
   "execution_count": 39,
   "metadata": {},
   "outputs": [
    {
     "name": "stdout",
     "output_type": "stream",
     "text": [
      "200\n"
     ]
    }
   ],
   "source": [
    "try:\n",
    "    archaea = requests.get(urls[1])\n",
    "    print(archaea.status_code)\n",
    "except Exception as e:\n",
    "    print(e)"
   ]
  },
  {
   "cell_type": "code",
   "execution_count": null,
   "metadata": {},
   "outputs": [],
   "source": []
  }
 ],
 "metadata": {
  "kernelspec": {
   "display_name": "web_scraping",
   "language": "python",
   "name": "python3"
  },
  "language_info": {
   "codemirror_mode": {
    "name": "ipython",
    "version": 3
   },
   "file_extension": ".py",
   "mimetype": "text/x-python",
   "name": "python",
   "nbconvert_exporter": "python",
   "pygments_lexer": "ipython3",
   "version": "3.11.3"
  },
  "orig_nbformat": 4
 },
 "nbformat": 4,
 "nbformat_minor": 2
}
