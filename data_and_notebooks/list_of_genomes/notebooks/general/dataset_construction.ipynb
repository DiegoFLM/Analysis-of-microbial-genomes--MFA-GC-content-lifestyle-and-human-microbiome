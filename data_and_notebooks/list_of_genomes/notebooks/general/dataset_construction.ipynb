{
 "cells": [
  {
   "cell_type": "code",
   "execution_count": 1,
   "metadata": {},
   "outputs": [],
   "source": [
    "import pandas as pd\n",
    "from pathlib import Path"
   ]
  },
  {
   "cell_type": "markdown",
   "metadata": {},
   "source": [
    "# Constants"
   ]
  },
  {
   "cell_type": "code",
   "execution_count": 2,
   "metadata": {},
   "outputs": [
    {
     "data": {
      "text/plain": [
       "True"
      ]
     },
     "execution_count": 2,
     "metadata": {},
     "output_type": "execute_result"
    }
   ],
   "source": [
    "PATH_DATA = Path.cwd().parent.parent.parent.parent / 'data'\n",
    "PATH_DATA.exists()"
   ]
  },
  {
   "cell_type": "code",
   "execution_count": 3,
   "metadata": {},
   "outputs": [
    {
     "data": {
      "text/plain": [
       "True"
      ]
     },
     "execution_count": 3,
     "metadata": {},
     "output_type": "execute_result"
    }
   ],
   "source": [
    "PATH_SCRAPED = PATH_DATA / 'raw' / 'scraped'\n",
    "PATH_SCRAPED.exists()"
   ]
  },
  {
   "cell_type": "markdown",
   "metadata": {},
   "source": [
    "# Data Extraction"
   ]
  },
  {
   "cell_type": "code",
   "execution_count": 4,
   "metadata": {},
   "outputs": [
    {
     "name": "stdout",
     "output_type": "stream",
     "text": [
      "bacteria_text_files_0_15000.json\n",
      "urls_bacteria_organisms.txt\n",
      "archaea_text_files.json\n",
      "test.json\n",
      "bacteria_text_files_30000_49760.json\n",
      "bacteria_text_files_15000_30000.json\n",
      "bacteria_text_files_sep23.json\n"
     ]
    }
   ],
   "source": [
    "files = PATH_SCRAPED.glob('*')\n",
    "for file in files:\n",
    "    print(file.name)"
   ]
  },
  {
   "cell_type": "code",
   "execution_count": 6,
   "metadata": {},
   "outputs": [
    {
     "name": "stdout",
     "output_type": "stream",
     "text": [
      "(2415, 5)\n"
     ]
    },
    {
     "data": {
      "text/html": [
       "<div>\n",
       "<style scoped>\n",
       "    .dataframe tbody tr th:only-of-type {\n",
       "        vertical-align: middle;\n",
       "    }\n",
       "\n",
       "    .dataframe tbody tr th {\n",
       "        vertical-align: top;\n",
       "    }\n",
       "\n",
       "    .dataframe thead th {\n",
       "        text-align: right;\n",
       "    }\n",
       "</style>\n",
       "<table border=\"1\" class=\"dataframe\">\n",
       "  <thead>\n",
       "    <tr style=\"text-align: right;\">\n",
       "      <th></th>\n",
       "      <th>organism</th>\n",
       "      <th>type</th>\n",
       "      <th>url</th>\n",
       "      <th>filename</th>\n",
       "      <th>content</th>\n",
       "    </tr>\n",
       "  </thead>\n",
       "  <tbody>\n",
       "    <tr>\n",
       "      <th>0</th>\n",
       "      <td>ANME-2_cluster_archaeon_HR1</td>\n",
       "      <td>archaea</td>\n",
       "      <td>https://ftp.ncbi.nlm.nih.gov/genomes/refseq/ar...</td>\n",
       "      <td>assembly_summary_historical.txt</td>\n",
       "      <td>##  See ftp://ftp.ncbi.nlm.nih.gov/genomes/REA...</td>\n",
       "    </tr>\n",
       "    <tr>\n",
       "      <th>1</th>\n",
       "      <td>ANME-2_cluster_archaeon_HR1</td>\n",
       "      <td>archaea</td>\n",
       "      <td>https://ftp.ncbi.nlm.nih.gov/genomes/refseq/ar...</td>\n",
       "      <td>annotation_hashes.txt</td>\n",
       "      <td># Assembly accession\\tDescriptors hash\\tDescri...</td>\n",
       "    </tr>\n",
       "    <tr>\n",
       "      <th>2</th>\n",
       "      <td>Acidianus_brierleyi</td>\n",
       "      <td>archaea</td>\n",
       "      <td>https://ftp.ncbi.nlm.nih.gov/genomes/refseq/ar...</td>\n",
       "      <td>assembly_summary_historical.txt</td>\n",
       "      <td>##  See ftp://ftp.ncbi.nlm.nih.gov/genomes/REA...</td>\n",
       "    </tr>\n",
       "    <tr>\n",
       "      <th>3</th>\n",
       "      <td>Acidianus_brierleyi</td>\n",
       "      <td>archaea</td>\n",
       "      <td>https://ftp.ncbi.nlm.nih.gov/genomes/refseq/ar...</td>\n",
       "      <td>assembly_summary.txt</td>\n",
       "      <td>##  See ftp://ftp.ncbi.nlm.nih.gov/genomes/REA...</td>\n",
       "    </tr>\n",
       "    <tr>\n",
       "      <th>4</th>\n",
       "      <td>Acidianus_ambivalens</td>\n",
       "      <td>archaea</td>\n",
       "      <td>https://ftp.ncbi.nlm.nih.gov/genomes/refseq/ar...</td>\n",
       "      <td>assembly_summary.txt</td>\n",
       "      <td>##  See ftp://ftp.ncbi.nlm.nih.gov/genomes/REA...</td>\n",
       "    </tr>\n",
       "  </tbody>\n",
       "</table>\n",
       "</div>"
      ],
      "text/plain": [
       "                      organism     type   \n",
       "0  ANME-2_cluster_archaeon_HR1  archaea  \\\n",
       "1  ANME-2_cluster_archaeon_HR1  archaea   \n",
       "2          Acidianus_brierleyi  archaea   \n",
       "3          Acidianus_brierleyi  archaea   \n",
       "4         Acidianus_ambivalens  archaea   \n",
       "\n",
       "                                                 url   \n",
       "0  https://ftp.ncbi.nlm.nih.gov/genomes/refseq/ar...  \\\n",
       "1  https://ftp.ncbi.nlm.nih.gov/genomes/refseq/ar...   \n",
       "2  https://ftp.ncbi.nlm.nih.gov/genomes/refseq/ar...   \n",
       "3  https://ftp.ncbi.nlm.nih.gov/genomes/refseq/ar...   \n",
       "4  https://ftp.ncbi.nlm.nih.gov/genomes/refseq/ar...   \n",
       "\n",
       "                          filename   \n",
       "0  assembly_summary_historical.txt  \\\n",
       "1            annotation_hashes.txt   \n",
       "2  assembly_summary_historical.txt   \n",
       "3             assembly_summary.txt   \n",
       "4             assembly_summary.txt   \n",
       "\n",
       "                                             content  \n",
       "0  ##  See ftp://ftp.ncbi.nlm.nih.gov/genomes/REA...  \n",
       "1  # Assembly accession\\tDescriptors hash\\tDescri...  \n",
       "2  ##  See ftp://ftp.ncbi.nlm.nih.gov/genomes/REA...  \n",
       "3  ##  See ftp://ftp.ncbi.nlm.nih.gov/genomes/REA...  \n",
       "4  ##  See ftp://ftp.ncbi.nlm.nih.gov/genomes/REA...  "
      ]
     },
     "execution_count": 6,
     "metadata": {},
     "output_type": "execute_result"
    }
   ],
   "source": [
    "df_organisms = pd.read_json(PATH_SCRAPED / 'archaea_text_files.json')\n",
    "df_organisms['type'] = 'archaea'\n",
    "df_organisms = df_organisms[['organism', 'type', 'url', 'filename', 'content']]\n",
    "print(df_organisms.shape)\n",
    "df_organisms.head()"
   ]
  },
  {
   "cell_type": "markdown",
   "metadata": {},
   "source": [
    "# Text processing of 'content'"
   ]
  },
  {
   "cell_type": "code",
   "execution_count": 8,
   "metadata": {},
   "outputs": [
    {
     "data": {
      "text/plain": [
       "filename\n",
       "annotation_hashes.txt              1156\n",
       "assembly_summary.txt               1032\n",
       "assembly_summary_historical.txt     227\n",
       "Name: count, dtype: int64"
      ]
     },
     "execution_count": 8,
     "metadata": {},
     "output_type": "execute_result"
    }
   ],
   "source": [
    "df_organisms['filename'].value_counts()"
   ]
  },
  {
   "cell_type": "code",
   "execution_count": 10,
   "metadata": {},
   "outputs": [
    {
     "name": "stdout",
     "output_type": "stream",
     "text": [
      "##  See ftp://ftp.ncbi.nlm.nih.gov/genomes/README_assembly_summary.txt for a description of the columns in this file.\n",
      "#assembly_accession\tbioproject\tbiosample\twgs_master\trefseq_category\ttaxid\tspecies_taxid\torganism_name\tinfraspecific_name\tisolate\tversion_status\tassembly_level\trelease_type\tgenome_rep\tseq_rel_date\tasm_name\tasm_submitter\tgbrs_paired_asm\tpaired_asm_comp\tftp_path\texcluded_from_refseq\trelation_to_type_material\tasm_not_live_date\tassembly_type\tgroup\tgenome_size\tgenome_size_ungapped\tgc_percent\treplicon_count\tscaffold_count\tcontig_count\tannotation_provider\tannotation_name\tannotation_date\ttotal_gene_count\tprotein_coding_gene_count\tnon_coding_gene_count\tpubmed_id\n",
      "GCF_002926195.1\tPRJNA224116\tSAMN06562579\tMZXQ00000000.1\tna\t1968520\t1968520\tANME-2 cluster archaeon HR1\tna\tHR1\tsuppressed\tScaffold\tMajor\tFull\t2018/02/13\tASM292619v1\tCalifornia Institute of Technology\tGCA_002926195.1\tidentical\thttps://ftp.ncbi.nlm.nih.gov/genomes/all/GCF/002/926/195/GCF_002926195.1_ASM292619v1\tderived from metagenome; genus undefined\tna\t2018/02/19\thaploid\tarchaea\t2195459\t2170391\t0\t0\t335\t335\tNCBI\tNCBI Prokaryotic Genome Annotation Pipeline\t02/15/18\t2464\t1927\t48\tna\n",
      "\n"
     ]
    }
   ],
   "source": [
    "assembly_summary_historical_0 = df_organisms.loc[0, 'content']\n",
    "print(assembly_summary_historical_0)\n"
   ]
  },
  {
   "cell_type": "code",
   "execution_count": 19,
   "metadata": {},
   "outputs": [
    {
     "data": {
      "text/plain": [
       "['#assembly_accession\\tbioproject\\tbiosample\\twgs_master\\trefseq_category\\ttaxid\\tspecies_taxid\\torganism_name\\tinfraspecific_name\\tisolate\\tversion_status\\tassembly_level\\trelease_type\\tgenome_rep\\tseq_rel_date\\tasm_name\\tasm_submitter\\tgbrs_paired_asm\\tpaired_asm_comp\\tftp_path\\texcluded_from_refseq\\trelation_to_type_material\\tasm_not_live_date\\tassembly_type\\tgroup\\tgenome_size\\tgenome_size_ungapped\\tgc_percent\\treplicon_count\\tscaffold_count\\tcontig_count\\tannotation_provider\\tannotation_name\\tannotation_date\\ttotal_gene_count\\tprotein_coding_gene_count\\tnon_coding_gene_count\\tpubmed_id',\n",
       " 'GCF_002926195.1\\tPRJNA224116\\tSAMN06562579\\tMZXQ00000000.1\\tna\\t1968520\\t1968520\\tANME-2 cluster archaeon HR1\\tna\\tHR1\\tsuppressed\\tScaffold\\tMajor\\tFull\\t2018/02/13\\tASM292619v1\\tCalifornia Institute of Technology\\tGCA_002926195.1\\tidentical\\thttps://ftp.ncbi.nlm.nih.gov/genomes/all/GCF/002/926/195/GCF_002926195.1_ASM292619v1\\tderived from metagenome; genus undefined\\tna\\t2018/02/19\\thaploid\\tarchaea\\t2195459\\t2170391\\t0\\t0\\t335\\t335\\tNCBI\\tNCBI Prokaryotic Genome Annotation Pipeline\\t02/15/18\\t2464\\t1927\\t48\\tna']"
      ]
     },
     "execution_count": 19,
     "metadata": {},
     "output_type": "execute_result"
    }
   ],
   "source": [
    "assembly_summary_historical_0.strip().split('\\n')[1:]"
   ]
  },
  {
   "cell_type": "code",
   "execution_count": 27,
   "metadata": {},
   "outputs": [
    {
     "data": {
      "text/html": [
       "<div>\n",
       "<style scoped>\n",
       "    .dataframe tbody tr th:only-of-type {\n",
       "        vertical-align: middle;\n",
       "    }\n",
       "\n",
       "    .dataframe tbody tr th {\n",
       "        vertical-align: top;\n",
       "    }\n",
       "\n",
       "    .dataframe thead th {\n",
       "        text-align: right;\n",
       "    }\n",
       "</style>\n",
       "<table border=\"1\" class=\"dataframe\">\n",
       "  <thead>\n",
       "    <tr style=\"text-align: right;\">\n",
       "      <th></th>\n",
       "      <th>organism</th>\n",
       "      <th>filename</th>\n",
       "      <th>content</th>\n",
       "    </tr>\n",
       "  </thead>\n",
       "  <tbody>\n",
       "    <tr>\n",
       "      <th>0</th>\n",
       "      <td>ANME-2_cluster_archaeon_HR1</td>\n",
       "      <td>assembly_summary_historical.txt</td>\n",
       "      <td>##  See ftp://ftp.ncbi.nlm.nih.gov/genomes/REA...</td>\n",
       "    </tr>\n",
       "    <tr>\n",
       "      <th>1</th>\n",
       "      <td>ANME-2_cluster_archaeon_HR1</td>\n",
       "      <td>annotation_hashes.txt</td>\n",
       "      <td># Assembly accession\\tDescriptors hash\\tDescri...</td>\n",
       "    </tr>\n",
       "    <tr>\n",
       "      <th>2</th>\n",
       "      <td>Acidianus_brierleyi</td>\n",
       "      <td>assembly_summary_historical.txt</td>\n",
       "      <td>##  See ftp://ftp.ncbi.nlm.nih.gov/genomes/REA...</td>\n",
       "    </tr>\n",
       "    <tr>\n",
       "      <th>3</th>\n",
       "      <td>Acidianus_brierleyi</td>\n",
       "      <td>assembly_summary.txt</td>\n",
       "      <td>##  See ftp://ftp.ncbi.nlm.nih.gov/genomes/REA...</td>\n",
       "    </tr>\n",
       "  </tbody>\n",
       "</table>\n",
       "</div>"
      ],
      "text/plain": [
       "                      organism                         filename   \n",
       "0  ANME-2_cluster_archaeon_HR1  assembly_summary_historical.txt  \\\n",
       "1  ANME-2_cluster_archaeon_HR1            annotation_hashes.txt   \n",
       "2          Acidianus_brierleyi  assembly_summary_historical.txt   \n",
       "3          Acidianus_brierleyi             assembly_summary.txt   \n",
       "\n",
       "                                             content  \n",
       "0  ##  See ftp://ftp.ncbi.nlm.nih.gov/genomes/REA...  \n",
       "1  # Assembly accession\\tDescriptors hash\\tDescri...  \n",
       "2  ##  See ftp://ftp.ncbi.nlm.nih.gov/genomes/REA...  \n",
       "3  ##  See ftp://ftp.ncbi.nlm.nih.gov/genomes/REA...  "
      ]
     },
     "execution_count": 27,
     "metadata": {},
     "output_type": "execute_result"
    }
   ],
   "source": [
    "sample = df_organisms.loc[0:3, ['organism', 'filename', 'content']].copy()\n",
    "sample"
   ]
  },
  {
   "cell_type": "code",
   "execution_count": 24,
   "metadata": {},
   "outputs": [],
   "source": [
    "sample['processed'] = sample['content'].apply(lambda x: x.strip().split('\\n')[1:])\n"
   ]
  },
  {
   "cell_type": "code",
   "execution_count": 26,
   "metadata": {},
   "outputs": [
    {
     "data": {
      "text/plain": [
       "['#assembly_accession\\tbioproject\\tbiosample\\twgs_master\\trefseq_category\\ttaxid\\tspecies_taxid\\torganism_name\\tinfraspecific_name\\tisolate\\tversion_status\\tassembly_level\\trelease_type\\tgenome_rep\\tseq_rel_date\\tasm_name\\tasm_submitter\\tgbrs_paired_asm\\tpaired_asm_comp\\tftp_path\\texcluded_from_refseq\\trelation_to_type_material\\tasm_not_live_date\\tassembly_type\\tgroup\\tgenome_size\\tgenome_size_ungapped\\tgc_percent\\treplicon_count\\tscaffold_count\\tcontig_count\\tannotation_provider\\tannotation_name\\tannotation_date\\ttotal_gene_count\\tprotein_coding_gene_count\\tnon_coding_gene_count\\tpubmed_id',\n",
       " 'GCF_002926195.1\\tPRJNA224116\\tSAMN06562579\\tMZXQ00000000.1\\tna\\t1968520\\t1968520\\tANME-2 cluster archaeon HR1\\tna\\tHR1\\tsuppressed\\tScaffold\\tMajor\\tFull\\t2018/02/13\\tASM292619v1\\tCalifornia Institute of Technology\\tGCA_002926195.1\\tidentical\\thttps://ftp.ncbi.nlm.nih.gov/genomes/all/GCF/002/926/195/GCF_002926195.1_ASM292619v1\\tderived from metagenome; genus undefined\\tna\\t2018/02/19\\thaploid\\tarchaea\\t2195459\\t2170391\\t0\\t0\\t335\\t335\\tNCBI\\tNCBI Prokaryotic Genome Annotation Pipeline\\t02/15/18\\t2464\\t1927\\t48\\tna']"
      ]
     },
     "execution_count": 26,
     "metadata": {},
     "output_type": "execute_result"
    }
   ],
   "source": [
    "sample.loc[0, 'processed']"
   ]
  },
  {
   "cell_type": "code",
   "execution_count": 28,
   "metadata": {},
   "outputs": [],
   "source": [
    "sample['processed'] = sample['content'].str.strip().str.split('\\n').str[1:]"
   ]
  },
  {
   "cell_type": "code",
   "execution_count": 29,
   "metadata": {},
   "outputs": [
    {
     "data": {
      "text/plain": [
       "['#assembly_accession\\tbioproject\\tbiosample\\twgs_master\\trefseq_category\\ttaxid\\tspecies_taxid\\torganism_name\\tinfraspecific_name\\tisolate\\tversion_status\\tassembly_level\\trelease_type\\tgenome_rep\\tseq_rel_date\\tasm_name\\tasm_submitter\\tgbrs_paired_asm\\tpaired_asm_comp\\tftp_path\\texcluded_from_refseq\\trelation_to_type_material\\tasm_not_live_date\\tassembly_type\\tgroup\\tgenome_size\\tgenome_size_ungapped\\tgc_percent\\treplicon_count\\tscaffold_count\\tcontig_count\\tannotation_provider\\tannotation_name\\tannotation_date\\ttotal_gene_count\\tprotein_coding_gene_count\\tnon_coding_gene_count\\tpubmed_id',\n",
       " 'GCF_002926195.1\\tPRJNA224116\\tSAMN06562579\\tMZXQ00000000.1\\tna\\t1968520\\t1968520\\tANME-2 cluster archaeon HR1\\tna\\tHR1\\tsuppressed\\tScaffold\\tMajor\\tFull\\t2018/02/13\\tASM292619v1\\tCalifornia Institute of Technology\\tGCA_002926195.1\\tidentical\\thttps://ftp.ncbi.nlm.nih.gov/genomes/all/GCF/002/926/195/GCF_002926195.1_ASM292619v1\\tderived from metagenome; genus undefined\\tna\\t2018/02/19\\thaploid\\tarchaea\\t2195459\\t2170391\\t0\\t0\\t335\\t335\\tNCBI\\tNCBI Prokaryotic Genome Annotation Pipeline\\t02/15/18\\t2464\\t1927\\t48\\tna']"
      ]
     },
     "execution_count": 29,
     "metadata": {},
     "output_type": "execute_result"
    }
   ],
   "source": [
    "sample.loc[0, 'processed']"
   ]
  }
 ],
 "metadata": {
  "kernelspec": {
   "display_name": "bio_1",
   "language": "python",
   "name": "python3"
  },
  "language_info": {
   "codemirror_mode": {
    "name": "ipython",
    "version": 3
   },
   "file_extension": ".py",
   "mimetype": "text/x-python",
   "name": "python",
   "nbconvert_exporter": "python",
   "pygments_lexer": "ipython3",
   "version": "3.11.3"
  },
  "orig_nbformat": 4
 },
 "nbformat": 4,
 "nbformat_minor": 2
}
